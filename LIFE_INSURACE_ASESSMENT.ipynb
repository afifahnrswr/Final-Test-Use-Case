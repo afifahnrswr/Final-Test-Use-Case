{
  "nbformat": 4,
  "nbformat_minor": 0,
  "metadata": {
    "kernelspec": {
      "name": "python3",
      "display_name": "Python 3"
    },
    "language_info": {
      "codemirror_mode": {
        "name": "ipython",
        "version": 3
      },
      "file_extension": ".py",
      "mimetype": "text/x-python",
      "name": "python",
      "nbconvert_exporter": "python",
      "pygments_lexer": "ipython3",
      "version": "3.6.4"
    },
    "colab": {
      "name": "LIFE INSURACE ASESSMENT.ipynb",
      "provenance": [],
      "collapsed_sections": [],
      "toc_visible": true,
      "include_colab_link": true
    },
    "accelerator": "GPU"
  },
  "cells": [
    {
      "cell_type": "markdown",
      "metadata": {
        "id": "view-in-github",
        "colab_type": "text"
      },
      "source": [
        "<a href=\"https://colab.research.google.com/github/afifahnrswr/Final-Test-Use-Case/blob/master/LIFE_INSURACE_ASESSMENT.ipynb\" target=\"_parent\"><img src=\"https://colab.research.google.com/assets/colab-badge.svg\" alt=\"Open In Colab\"/></a>"
      ]
    },
    {
      "cell_type": "markdown",
      "metadata": {
        "id": "pp6jAiNuLnWc",
        "colab_type": "text"
      },
      "source": [
        "<h1><center>LIFE INSURANCE ASSESMENT</center></h1>"
      ]
    },
    {
      "cell_type": "markdown",
      "metadata": {
        "id": "xL1y7dxb_FoG",
        "colab_type": "text"
      },
      "source": [
        "# 1.LOAD DATA"
      ]
    },
    {
      "cell_type": "code",
      "metadata": {
        "id": "YDbtCS5Ezj4v",
        "colab_type": "code",
        "colab": {}
      },
      "source": [
        "import numpy as np\n",
        "import pandas as pd"
      ],
      "execution_count": 0,
      "outputs": []
    },
    {
      "cell_type": "code",
      "metadata": {
        "id": "jxtRhQUdneBx",
        "colab_type": "code",
        "outputId": "bf6be866-4f18-4ff3-db2d-d1b100c249ff",
        "colab": {
          "base_uri": "https://localhost:8080/",
          "height": 122
        }
      },
      "source": [
        "from google.colab import drive\n",
        "drive.mount('/content/drive')"
      ],
      "execution_count": 2,
      "outputs": [
        {
          "output_type": "stream",
          "text": [
            "Go to this URL in a browser: https://accounts.google.com/o/oauth2/auth?client_id=947318989803-6bn6qk8qdgf4n4g3pfee6491hc0brc4i.apps.googleusercontent.com&redirect_uri=urn%3Aietf%3Awg%3Aoauth%3A2.0%3Aoob&scope=email%20https%3A%2F%2Fwww.googleapis.com%2Fauth%2Fdocs.test%20https%3A%2F%2Fwww.googleapis.com%2Fauth%2Fdrive%20https%3A%2F%2Fwww.googleapis.com%2Fauth%2Fdrive.photos.readonly%20https%3A%2F%2Fwww.googleapis.com%2Fauth%2Fpeopleapi.readonly&response_type=code\n",
            "\n",
            "Enter your authorization code:\n",
            "··········\n",
            "Mounted at /content/drive\n"
          ],
          "name": "stdout"
        }
      ]
    },
    {
      "cell_type": "code",
      "metadata": {
        "id": "cATu0-7hzj46",
        "colab_type": "code",
        "colab": {}
      },
      "source": [
        "# Load Data\n",
        "# Access to Drive (Upload data to drive)\n",
        "train = pd.read_csv('/content/drive/My Drive/FINAL TEST/train.csv')\n",
        "test = pd.read_csv('/content/drive/My Drive/FINAL TEST/test.csv')"
      ],
      "execution_count": 0,
      "outputs": []
    },
    {
      "cell_type": "code",
      "metadata": {
        "id": "1GYZcPVSpLLB",
        "colab_type": "code",
        "colab": {
          "base_uri": "https://localhost:8080/",
          "height": 253
        },
        "outputId": "afbaedee-8dbb-4cce-baae-5f3166821306"
      },
      "source": [
        "train.head()"
      ],
      "execution_count": 4,
      "outputs": [
        {
          "output_type": "execute_result",
          "data": {
            "text/html": [
              "<div>\n",
              "<style scoped>\n",
              "    .dataframe tbody tr th:only-of-type {\n",
              "        vertical-align: middle;\n",
              "    }\n",
              "\n",
              "    .dataframe tbody tr th {\n",
              "        vertical-align: top;\n",
              "    }\n",
              "\n",
              "    .dataframe thead th {\n",
              "        text-align: right;\n",
              "    }\n",
              "</style>\n",
              "<table border=\"1\" class=\"dataframe\">\n",
              "  <thead>\n",
              "    <tr style=\"text-align: right;\">\n",
              "      <th></th>\n",
              "      <th>Id</th>\n",
              "      <th>Product_Info_1</th>\n",
              "      <th>Product_Info_2</th>\n",
              "      <th>Product_Info_3</th>\n",
              "      <th>Product_Info_4</th>\n",
              "      <th>Product_Info_5</th>\n",
              "      <th>Product_Info_6</th>\n",
              "      <th>Product_Info_7</th>\n",
              "      <th>Ins_Age</th>\n",
              "      <th>Ht</th>\n",
              "      <th>Wt</th>\n",
              "      <th>BMI</th>\n",
              "      <th>Employment_Info_1</th>\n",
              "      <th>Employment_Info_2</th>\n",
              "      <th>Employment_Info_3</th>\n",
              "      <th>Employment_Info_4</th>\n",
              "      <th>Employment_Info_5</th>\n",
              "      <th>Employment_Info_6</th>\n",
              "      <th>InsuredInfo_1</th>\n",
              "      <th>InsuredInfo_2</th>\n",
              "      <th>InsuredInfo_3</th>\n",
              "      <th>InsuredInfo_4</th>\n",
              "      <th>InsuredInfo_5</th>\n",
              "      <th>InsuredInfo_6</th>\n",
              "      <th>InsuredInfo_7</th>\n",
              "      <th>Insurance_History_1</th>\n",
              "      <th>Insurance_History_2</th>\n",
              "      <th>Insurance_History_3</th>\n",
              "      <th>Insurance_History_4</th>\n",
              "      <th>Insurance_History_5</th>\n",
              "      <th>Insurance_History_7</th>\n",
              "      <th>Insurance_History_8</th>\n",
              "      <th>Insurance_History_9</th>\n",
              "      <th>Family_Hist_1</th>\n",
              "      <th>Family_Hist_2</th>\n",
              "      <th>Family_Hist_3</th>\n",
              "      <th>Family_Hist_4</th>\n",
              "      <th>Family_Hist_5</th>\n",
              "      <th>Medical_History_1</th>\n",
              "      <th>Medical_History_2</th>\n",
              "      <th>...</th>\n",
              "      <th>Medical_Keyword_10</th>\n",
              "      <th>Medical_Keyword_11</th>\n",
              "      <th>Medical_Keyword_12</th>\n",
              "      <th>Medical_Keyword_13</th>\n",
              "      <th>Medical_Keyword_14</th>\n",
              "      <th>Medical_Keyword_15</th>\n",
              "      <th>Medical_Keyword_16</th>\n",
              "      <th>Medical_Keyword_17</th>\n",
              "      <th>Medical_Keyword_18</th>\n",
              "      <th>Medical_Keyword_19</th>\n",
              "      <th>Medical_Keyword_20</th>\n",
              "      <th>Medical_Keyword_21</th>\n",
              "      <th>Medical_Keyword_22</th>\n",
              "      <th>Medical_Keyword_23</th>\n",
              "      <th>Medical_Keyword_24</th>\n",
              "      <th>Medical_Keyword_25</th>\n",
              "      <th>Medical_Keyword_26</th>\n",
              "      <th>Medical_Keyword_27</th>\n",
              "      <th>Medical_Keyword_28</th>\n",
              "      <th>Medical_Keyword_29</th>\n",
              "      <th>Medical_Keyword_30</th>\n",
              "      <th>Medical_Keyword_31</th>\n",
              "      <th>Medical_Keyword_32</th>\n",
              "      <th>Medical_Keyword_33</th>\n",
              "      <th>Medical_Keyword_34</th>\n",
              "      <th>Medical_Keyword_35</th>\n",
              "      <th>Medical_Keyword_36</th>\n",
              "      <th>Medical_Keyword_37</th>\n",
              "      <th>Medical_Keyword_38</th>\n",
              "      <th>Medical_Keyword_39</th>\n",
              "      <th>Medical_Keyword_40</th>\n",
              "      <th>Medical_Keyword_41</th>\n",
              "      <th>Medical_Keyword_42</th>\n",
              "      <th>Medical_Keyword_43</th>\n",
              "      <th>Medical_Keyword_44</th>\n",
              "      <th>Medical_Keyword_45</th>\n",
              "      <th>Medical_Keyword_46</th>\n",
              "      <th>Medical_Keyword_47</th>\n",
              "      <th>Medical_Keyword_48</th>\n",
              "      <th>Response</th>\n",
              "    </tr>\n",
              "  </thead>\n",
              "  <tbody>\n",
              "    <tr>\n",
              "      <th>0</th>\n",
              "      <td>2</td>\n",
              "      <td>1</td>\n",
              "      <td>D3</td>\n",
              "      <td>10</td>\n",
              "      <td>0.076923</td>\n",
              "      <td>2</td>\n",
              "      <td>1</td>\n",
              "      <td>1</td>\n",
              "      <td>0.641791</td>\n",
              "      <td>0.581818</td>\n",
              "      <td>0.148536</td>\n",
              "      <td>0.323008</td>\n",
              "      <td>0.028</td>\n",
              "      <td>12</td>\n",
              "      <td>1</td>\n",
              "      <td>0.0</td>\n",
              "      <td>3</td>\n",
              "      <td>NaN</td>\n",
              "      <td>1</td>\n",
              "      <td>2</td>\n",
              "      <td>6</td>\n",
              "      <td>3</td>\n",
              "      <td>1</td>\n",
              "      <td>2</td>\n",
              "      <td>1</td>\n",
              "      <td>1</td>\n",
              "      <td>1</td>\n",
              "      <td>3</td>\n",
              "      <td>1</td>\n",
              "      <td>0.000667</td>\n",
              "      <td>1</td>\n",
              "      <td>1</td>\n",
              "      <td>2</td>\n",
              "      <td>2</td>\n",
              "      <td>NaN</td>\n",
              "      <td>0.598039</td>\n",
              "      <td>NaN</td>\n",
              "      <td>0.526786</td>\n",
              "      <td>4.0</td>\n",
              "      <td>112</td>\n",
              "      <td>...</td>\n",
              "      <td>0</td>\n",
              "      <td>0</td>\n",
              "      <td>0</td>\n",
              "      <td>0</td>\n",
              "      <td>0</td>\n",
              "      <td>0</td>\n",
              "      <td>0</td>\n",
              "      <td>0</td>\n",
              "      <td>0</td>\n",
              "      <td>0</td>\n",
              "      <td>0</td>\n",
              "      <td>0</td>\n",
              "      <td>0</td>\n",
              "      <td>0</td>\n",
              "      <td>0</td>\n",
              "      <td>0</td>\n",
              "      <td>0</td>\n",
              "      <td>0</td>\n",
              "      <td>0</td>\n",
              "      <td>0</td>\n",
              "      <td>0</td>\n",
              "      <td>0</td>\n",
              "      <td>0</td>\n",
              "      <td>0</td>\n",
              "      <td>0</td>\n",
              "      <td>0</td>\n",
              "      <td>0</td>\n",
              "      <td>0</td>\n",
              "      <td>0</td>\n",
              "      <td>0</td>\n",
              "      <td>0</td>\n",
              "      <td>0</td>\n",
              "      <td>0</td>\n",
              "      <td>0</td>\n",
              "      <td>0</td>\n",
              "      <td>0</td>\n",
              "      <td>0</td>\n",
              "      <td>0</td>\n",
              "      <td>0</td>\n",
              "      <td>0</td>\n",
              "    </tr>\n",
              "    <tr>\n",
              "      <th>1</th>\n",
              "      <td>5</td>\n",
              "      <td>1</td>\n",
              "      <td>A1</td>\n",
              "      <td>26</td>\n",
              "      <td>0.076923</td>\n",
              "      <td>2</td>\n",
              "      <td>3</td>\n",
              "      <td>1</td>\n",
              "      <td>0.059701</td>\n",
              "      <td>0.600000</td>\n",
              "      <td>0.131799</td>\n",
              "      <td>0.272288</td>\n",
              "      <td>0.000</td>\n",
              "      <td>1</td>\n",
              "      <td>3</td>\n",
              "      <td>0.0</td>\n",
              "      <td>2</td>\n",
              "      <td>0.0018</td>\n",
              "      <td>1</td>\n",
              "      <td>2</td>\n",
              "      <td>6</td>\n",
              "      <td>3</td>\n",
              "      <td>1</td>\n",
              "      <td>2</td>\n",
              "      <td>1</td>\n",
              "      <td>2</td>\n",
              "      <td>1</td>\n",
              "      <td>3</td>\n",
              "      <td>1</td>\n",
              "      <td>0.000133</td>\n",
              "      <td>1</td>\n",
              "      <td>3</td>\n",
              "      <td>2</td>\n",
              "      <td>2</td>\n",
              "      <td>0.188406</td>\n",
              "      <td>NaN</td>\n",
              "      <td>0.084507</td>\n",
              "      <td>NaN</td>\n",
              "      <td>5.0</td>\n",
              "      <td>412</td>\n",
              "      <td>...</td>\n",
              "      <td>0</td>\n",
              "      <td>0</td>\n",
              "      <td>0</td>\n",
              "      <td>0</td>\n",
              "      <td>0</td>\n",
              "      <td>0</td>\n",
              "      <td>0</td>\n",
              "      <td>0</td>\n",
              "      <td>0</td>\n",
              "      <td>0</td>\n",
              "      <td>0</td>\n",
              "      <td>0</td>\n",
              "      <td>0</td>\n",
              "      <td>0</td>\n",
              "      <td>0</td>\n",
              "      <td>0</td>\n",
              "      <td>0</td>\n",
              "      <td>0</td>\n",
              "      <td>0</td>\n",
              "      <td>0</td>\n",
              "      <td>0</td>\n",
              "      <td>0</td>\n",
              "      <td>0</td>\n",
              "      <td>0</td>\n",
              "      <td>0</td>\n",
              "      <td>0</td>\n",
              "      <td>0</td>\n",
              "      <td>0</td>\n",
              "      <td>0</td>\n",
              "      <td>0</td>\n",
              "      <td>0</td>\n",
              "      <td>0</td>\n",
              "      <td>0</td>\n",
              "      <td>0</td>\n",
              "      <td>0</td>\n",
              "      <td>0</td>\n",
              "      <td>0</td>\n",
              "      <td>0</td>\n",
              "      <td>0</td>\n",
              "      <td>1</td>\n",
              "    </tr>\n",
              "    <tr>\n",
              "      <th>2</th>\n",
              "      <td>6</td>\n",
              "      <td>1</td>\n",
              "      <td>E1</td>\n",
              "      <td>26</td>\n",
              "      <td>0.076923</td>\n",
              "      <td>2</td>\n",
              "      <td>3</td>\n",
              "      <td>1</td>\n",
              "      <td>0.029851</td>\n",
              "      <td>0.745455</td>\n",
              "      <td>0.288703</td>\n",
              "      <td>0.428780</td>\n",
              "      <td>0.030</td>\n",
              "      <td>9</td>\n",
              "      <td>1</td>\n",
              "      <td>0.0</td>\n",
              "      <td>2</td>\n",
              "      <td>0.0300</td>\n",
              "      <td>1</td>\n",
              "      <td>2</td>\n",
              "      <td>8</td>\n",
              "      <td>3</td>\n",
              "      <td>1</td>\n",
              "      <td>1</td>\n",
              "      <td>1</td>\n",
              "      <td>2</td>\n",
              "      <td>1</td>\n",
              "      <td>1</td>\n",
              "      <td>3</td>\n",
              "      <td>NaN</td>\n",
              "      <td>3</td>\n",
              "      <td>2</td>\n",
              "      <td>3</td>\n",
              "      <td>3</td>\n",
              "      <td>0.304348</td>\n",
              "      <td>NaN</td>\n",
              "      <td>0.225352</td>\n",
              "      <td>NaN</td>\n",
              "      <td>10.0</td>\n",
              "      <td>3</td>\n",
              "      <td>...</td>\n",
              "      <td>0</td>\n",
              "      <td>0</td>\n",
              "      <td>0</td>\n",
              "      <td>0</td>\n",
              "      <td>0</td>\n",
              "      <td>0</td>\n",
              "      <td>0</td>\n",
              "      <td>0</td>\n",
              "      <td>0</td>\n",
              "      <td>0</td>\n",
              "      <td>0</td>\n",
              "      <td>0</td>\n",
              "      <td>0</td>\n",
              "      <td>0</td>\n",
              "      <td>0</td>\n",
              "      <td>0</td>\n",
              "      <td>0</td>\n",
              "      <td>0</td>\n",
              "      <td>0</td>\n",
              "      <td>0</td>\n",
              "      <td>0</td>\n",
              "      <td>0</td>\n",
              "      <td>0</td>\n",
              "      <td>0</td>\n",
              "      <td>0</td>\n",
              "      <td>0</td>\n",
              "      <td>0</td>\n",
              "      <td>0</td>\n",
              "      <td>0</td>\n",
              "      <td>0</td>\n",
              "      <td>0</td>\n",
              "      <td>0</td>\n",
              "      <td>0</td>\n",
              "      <td>0</td>\n",
              "      <td>0</td>\n",
              "      <td>0</td>\n",
              "      <td>0</td>\n",
              "      <td>0</td>\n",
              "      <td>0</td>\n",
              "      <td>0</td>\n",
              "    </tr>\n",
              "    <tr>\n",
              "      <th>3</th>\n",
              "      <td>7</td>\n",
              "      <td>1</td>\n",
              "      <td>D4</td>\n",
              "      <td>10</td>\n",
              "      <td>0.487179</td>\n",
              "      <td>2</td>\n",
              "      <td>3</td>\n",
              "      <td>1</td>\n",
              "      <td>0.164179</td>\n",
              "      <td>0.672727</td>\n",
              "      <td>0.205021</td>\n",
              "      <td>0.352438</td>\n",
              "      <td>0.042</td>\n",
              "      <td>9</td>\n",
              "      <td>1</td>\n",
              "      <td>0.0</td>\n",
              "      <td>3</td>\n",
              "      <td>0.2000</td>\n",
              "      <td>2</td>\n",
              "      <td>2</td>\n",
              "      <td>8</td>\n",
              "      <td>3</td>\n",
              "      <td>1</td>\n",
              "      <td>2</td>\n",
              "      <td>1</td>\n",
              "      <td>2</td>\n",
              "      <td>1</td>\n",
              "      <td>1</td>\n",
              "      <td>3</td>\n",
              "      <td>NaN</td>\n",
              "      <td>3</td>\n",
              "      <td>2</td>\n",
              "      <td>3</td>\n",
              "      <td>3</td>\n",
              "      <td>0.420290</td>\n",
              "      <td>NaN</td>\n",
              "      <td>0.352113</td>\n",
              "      <td>NaN</td>\n",
              "      <td>0.0</td>\n",
              "      <td>350</td>\n",
              "      <td>...</td>\n",
              "      <td>0</td>\n",
              "      <td>0</td>\n",
              "      <td>0</td>\n",
              "      <td>0</td>\n",
              "      <td>0</td>\n",
              "      <td>0</td>\n",
              "      <td>0</td>\n",
              "      <td>0</td>\n",
              "      <td>0</td>\n",
              "      <td>0</td>\n",
              "      <td>0</td>\n",
              "      <td>0</td>\n",
              "      <td>0</td>\n",
              "      <td>0</td>\n",
              "      <td>0</td>\n",
              "      <td>0</td>\n",
              "      <td>0</td>\n",
              "      <td>0</td>\n",
              "      <td>0</td>\n",
              "      <td>0</td>\n",
              "      <td>0</td>\n",
              "      <td>0</td>\n",
              "      <td>1</td>\n",
              "      <td>0</td>\n",
              "      <td>0</td>\n",
              "      <td>0</td>\n",
              "      <td>0</td>\n",
              "      <td>0</td>\n",
              "      <td>0</td>\n",
              "      <td>0</td>\n",
              "      <td>0</td>\n",
              "      <td>0</td>\n",
              "      <td>0</td>\n",
              "      <td>0</td>\n",
              "      <td>0</td>\n",
              "      <td>0</td>\n",
              "      <td>0</td>\n",
              "      <td>0</td>\n",
              "      <td>0</td>\n",
              "      <td>0</td>\n",
              "    </tr>\n",
              "    <tr>\n",
              "      <th>4</th>\n",
              "      <td>8</td>\n",
              "      <td>1</td>\n",
              "      <td>D2</td>\n",
              "      <td>26</td>\n",
              "      <td>0.230769</td>\n",
              "      <td>2</td>\n",
              "      <td>3</td>\n",
              "      <td>1</td>\n",
              "      <td>0.417910</td>\n",
              "      <td>0.654545</td>\n",
              "      <td>0.234310</td>\n",
              "      <td>0.424046</td>\n",
              "      <td>0.027</td>\n",
              "      <td>9</td>\n",
              "      <td>1</td>\n",
              "      <td>0.0</td>\n",
              "      <td>2</td>\n",
              "      <td>0.0500</td>\n",
              "      <td>1</td>\n",
              "      <td>2</td>\n",
              "      <td>6</td>\n",
              "      <td>3</td>\n",
              "      <td>1</td>\n",
              "      <td>2</td>\n",
              "      <td>1</td>\n",
              "      <td>2</td>\n",
              "      <td>1</td>\n",
              "      <td>1</td>\n",
              "      <td>3</td>\n",
              "      <td>NaN</td>\n",
              "      <td>3</td>\n",
              "      <td>2</td>\n",
              "      <td>3</td>\n",
              "      <td>2</td>\n",
              "      <td>0.463768</td>\n",
              "      <td>NaN</td>\n",
              "      <td>0.408451</td>\n",
              "      <td>NaN</td>\n",
              "      <td>NaN</td>\n",
              "      <td>162</td>\n",
              "      <td>...</td>\n",
              "      <td>0</td>\n",
              "      <td>0</td>\n",
              "      <td>0</td>\n",
              "      <td>0</td>\n",
              "      <td>0</td>\n",
              "      <td>0</td>\n",
              "      <td>0</td>\n",
              "      <td>0</td>\n",
              "      <td>0</td>\n",
              "      <td>0</td>\n",
              "      <td>0</td>\n",
              "      <td>0</td>\n",
              "      <td>0</td>\n",
              "      <td>0</td>\n",
              "      <td>0</td>\n",
              "      <td>0</td>\n",
              "      <td>0</td>\n",
              "      <td>0</td>\n",
              "      <td>0</td>\n",
              "      <td>0</td>\n",
              "      <td>0</td>\n",
              "      <td>0</td>\n",
              "      <td>0</td>\n",
              "      <td>0</td>\n",
              "      <td>0</td>\n",
              "      <td>0</td>\n",
              "      <td>0</td>\n",
              "      <td>0</td>\n",
              "      <td>0</td>\n",
              "      <td>0</td>\n",
              "      <td>0</td>\n",
              "      <td>0</td>\n",
              "      <td>0</td>\n",
              "      <td>0</td>\n",
              "      <td>0</td>\n",
              "      <td>0</td>\n",
              "      <td>0</td>\n",
              "      <td>0</td>\n",
              "      <td>0</td>\n",
              "      <td>0</td>\n",
              "    </tr>\n",
              "  </tbody>\n",
              "</table>\n",
              "<p>5 rows × 128 columns</p>\n",
              "</div>"
            ],
            "text/plain": [
              "   Id  Product_Info_1  ... Medical_Keyword_48  Response\n",
              "0   2               1  ...                  0         0\n",
              "1   5               1  ...                  0         1\n",
              "2   6               1  ...                  0         0\n",
              "3   7               1  ...                  0         0\n",
              "4   8               1  ...                  0         0\n",
              "\n",
              "[5 rows x 128 columns]"
            ]
          },
          "metadata": {
            "tags": []
          },
          "execution_count": 4
        }
      ]
    },
    {
      "cell_type": "code",
      "metadata": {
        "id": "lKmEYTjMpMY8",
        "colab_type": "code",
        "colab": {
          "base_uri": "https://localhost:8080/",
          "height": 253
        },
        "outputId": "d3fe9808-888d-4fec-ccd5-84204bca2297"
      },
      "source": [
        "test.head()"
      ],
      "execution_count": 5,
      "outputs": [
        {
          "output_type": "execute_result",
          "data": {
            "text/html": [
              "<div>\n",
              "<style scoped>\n",
              "    .dataframe tbody tr th:only-of-type {\n",
              "        vertical-align: middle;\n",
              "    }\n",
              "\n",
              "    .dataframe tbody tr th {\n",
              "        vertical-align: top;\n",
              "    }\n",
              "\n",
              "    .dataframe thead th {\n",
              "        text-align: right;\n",
              "    }\n",
              "</style>\n",
              "<table border=\"1\" class=\"dataframe\">\n",
              "  <thead>\n",
              "    <tr style=\"text-align: right;\">\n",
              "      <th></th>\n",
              "      <th>Id</th>\n",
              "      <th>Product_Info_1</th>\n",
              "      <th>Product_Info_2</th>\n",
              "      <th>Product_Info_3</th>\n",
              "      <th>Product_Info_4</th>\n",
              "      <th>Product_Info_5</th>\n",
              "      <th>Product_Info_6</th>\n",
              "      <th>Product_Info_7</th>\n",
              "      <th>Ins_Age</th>\n",
              "      <th>Ht</th>\n",
              "      <th>Wt</th>\n",
              "      <th>BMI</th>\n",
              "      <th>Employment_Info_1</th>\n",
              "      <th>Employment_Info_2</th>\n",
              "      <th>Employment_Info_3</th>\n",
              "      <th>Employment_Info_4</th>\n",
              "      <th>Employment_Info_5</th>\n",
              "      <th>Employment_Info_6</th>\n",
              "      <th>InsuredInfo_1</th>\n",
              "      <th>InsuredInfo_2</th>\n",
              "      <th>InsuredInfo_3</th>\n",
              "      <th>InsuredInfo_4</th>\n",
              "      <th>InsuredInfo_5</th>\n",
              "      <th>InsuredInfo_6</th>\n",
              "      <th>InsuredInfo_7</th>\n",
              "      <th>Insurance_History_1</th>\n",
              "      <th>Insurance_History_2</th>\n",
              "      <th>Insurance_History_3</th>\n",
              "      <th>Insurance_History_4</th>\n",
              "      <th>Insurance_History_5</th>\n",
              "      <th>Insurance_History_7</th>\n",
              "      <th>Insurance_History_8</th>\n",
              "      <th>Insurance_History_9</th>\n",
              "      <th>Family_Hist_1</th>\n",
              "      <th>Family_Hist_2</th>\n",
              "      <th>Family_Hist_3</th>\n",
              "      <th>Family_Hist_4</th>\n",
              "      <th>Family_Hist_5</th>\n",
              "      <th>Medical_History_1</th>\n",
              "      <th>Medical_History_2</th>\n",
              "      <th>...</th>\n",
              "      <th>Medical_Keyword_9</th>\n",
              "      <th>Medical_Keyword_10</th>\n",
              "      <th>Medical_Keyword_11</th>\n",
              "      <th>Medical_Keyword_12</th>\n",
              "      <th>Medical_Keyword_13</th>\n",
              "      <th>Medical_Keyword_14</th>\n",
              "      <th>Medical_Keyword_15</th>\n",
              "      <th>Medical_Keyword_16</th>\n",
              "      <th>Medical_Keyword_17</th>\n",
              "      <th>Medical_Keyword_18</th>\n",
              "      <th>Medical_Keyword_19</th>\n",
              "      <th>Medical_Keyword_20</th>\n",
              "      <th>Medical_Keyword_21</th>\n",
              "      <th>Medical_Keyword_22</th>\n",
              "      <th>Medical_Keyword_23</th>\n",
              "      <th>Medical_Keyword_24</th>\n",
              "      <th>Medical_Keyword_25</th>\n",
              "      <th>Medical_Keyword_26</th>\n",
              "      <th>Medical_Keyword_27</th>\n",
              "      <th>Medical_Keyword_28</th>\n",
              "      <th>Medical_Keyword_29</th>\n",
              "      <th>Medical_Keyword_30</th>\n",
              "      <th>Medical_Keyword_31</th>\n",
              "      <th>Medical_Keyword_32</th>\n",
              "      <th>Medical_Keyword_33</th>\n",
              "      <th>Medical_Keyword_34</th>\n",
              "      <th>Medical_Keyword_35</th>\n",
              "      <th>Medical_Keyword_36</th>\n",
              "      <th>Medical_Keyword_37</th>\n",
              "      <th>Medical_Keyword_38</th>\n",
              "      <th>Medical_Keyword_39</th>\n",
              "      <th>Medical_Keyword_40</th>\n",
              "      <th>Medical_Keyword_41</th>\n",
              "      <th>Medical_Keyword_42</th>\n",
              "      <th>Medical_Keyword_43</th>\n",
              "      <th>Medical_Keyword_44</th>\n",
              "      <th>Medical_Keyword_45</th>\n",
              "      <th>Medical_Keyword_46</th>\n",
              "      <th>Medical_Keyword_47</th>\n",
              "      <th>Medical_Keyword_48</th>\n",
              "    </tr>\n",
              "  </thead>\n",
              "  <tbody>\n",
              "    <tr>\n",
              "      <th>0</th>\n",
              "      <td>1</td>\n",
              "      <td>1</td>\n",
              "      <td>D3</td>\n",
              "      <td>26</td>\n",
              "      <td>0.487179</td>\n",
              "      <td>2</td>\n",
              "      <td>3</td>\n",
              "      <td>1</td>\n",
              "      <td>0.611940</td>\n",
              "      <td>0.781818</td>\n",
              "      <td>0.338912</td>\n",
              "      <td>0.472262</td>\n",
              "      <td>0.150</td>\n",
              "      <td>3</td>\n",
              "      <td>1</td>\n",
              "      <td>0.00</td>\n",
              "      <td>2</td>\n",
              "      <td>0.50</td>\n",
              "      <td>2</td>\n",
              "      <td>2</td>\n",
              "      <td>11</td>\n",
              "      <td>3</td>\n",
              "      <td>1</td>\n",
              "      <td>1</td>\n",
              "      <td>1</td>\n",
              "      <td>2</td>\n",
              "      <td>1</td>\n",
              "      <td>1</td>\n",
              "      <td>3</td>\n",
              "      <td>NaN</td>\n",
              "      <td>3</td>\n",
              "      <td>2</td>\n",
              "      <td>3</td>\n",
              "      <td>3</td>\n",
              "      <td>NaN</td>\n",
              "      <td>0.627451</td>\n",
              "      <td>0.760563</td>\n",
              "      <td>NaN</td>\n",
              "      <td>2.0</td>\n",
              "      <td>16</td>\n",
              "      <td>...</td>\n",
              "      <td>0</td>\n",
              "      <td>0</td>\n",
              "      <td>0</td>\n",
              "      <td>0</td>\n",
              "      <td>0</td>\n",
              "      <td>0</td>\n",
              "      <td>1</td>\n",
              "      <td>0</td>\n",
              "      <td>0</td>\n",
              "      <td>0</td>\n",
              "      <td>1</td>\n",
              "      <td>0</td>\n",
              "      <td>0</td>\n",
              "      <td>0</td>\n",
              "      <td>0</td>\n",
              "      <td>0</td>\n",
              "      <td>1</td>\n",
              "      <td>0</td>\n",
              "      <td>0</td>\n",
              "      <td>0</td>\n",
              "      <td>0</td>\n",
              "      <td>0</td>\n",
              "      <td>0</td>\n",
              "      <td>0</td>\n",
              "      <td>0</td>\n",
              "      <td>0</td>\n",
              "      <td>0</td>\n",
              "      <td>0</td>\n",
              "      <td>0</td>\n",
              "      <td>0</td>\n",
              "      <td>0</td>\n",
              "      <td>0</td>\n",
              "      <td>0</td>\n",
              "      <td>0</td>\n",
              "      <td>0</td>\n",
              "      <td>0</td>\n",
              "      <td>0</td>\n",
              "      <td>0</td>\n",
              "      <td>0</td>\n",
              "      <td>0</td>\n",
              "    </tr>\n",
              "    <tr>\n",
              "      <th>1</th>\n",
              "      <td>3</td>\n",
              "      <td>1</td>\n",
              "      <td>A2</td>\n",
              "      <td>26</td>\n",
              "      <td>0.076923</td>\n",
              "      <td>2</td>\n",
              "      <td>3</td>\n",
              "      <td>1</td>\n",
              "      <td>0.626866</td>\n",
              "      <td>0.727273</td>\n",
              "      <td>0.311715</td>\n",
              "      <td>0.484984</td>\n",
              "      <td>0.000</td>\n",
              "      <td>1</td>\n",
              "      <td>3</td>\n",
              "      <td>0.07</td>\n",
              "      <td>2</td>\n",
              "      <td>0.20</td>\n",
              "      <td>1</td>\n",
              "      <td>2</td>\n",
              "      <td>8</td>\n",
              "      <td>3</td>\n",
              "      <td>1</td>\n",
              "      <td>1</td>\n",
              "      <td>1</td>\n",
              "      <td>1</td>\n",
              "      <td>1</td>\n",
              "      <td>3</td>\n",
              "      <td>1</td>\n",
              "      <td>0.001667</td>\n",
              "      <td>1</td>\n",
              "      <td>1</td>\n",
              "      <td>2</td>\n",
              "      <td>2</td>\n",
              "      <td>NaN</td>\n",
              "      <td>0.529412</td>\n",
              "      <td>0.746479</td>\n",
              "      <td>NaN</td>\n",
              "      <td>5.0</td>\n",
              "      <td>261</td>\n",
              "      <td>...</td>\n",
              "      <td>0</td>\n",
              "      <td>0</td>\n",
              "      <td>0</td>\n",
              "      <td>0</td>\n",
              "      <td>0</td>\n",
              "      <td>0</td>\n",
              "      <td>0</td>\n",
              "      <td>0</td>\n",
              "      <td>0</td>\n",
              "      <td>0</td>\n",
              "      <td>0</td>\n",
              "      <td>0</td>\n",
              "      <td>0</td>\n",
              "      <td>0</td>\n",
              "      <td>0</td>\n",
              "      <td>0</td>\n",
              "      <td>0</td>\n",
              "      <td>0</td>\n",
              "      <td>0</td>\n",
              "      <td>0</td>\n",
              "      <td>0</td>\n",
              "      <td>0</td>\n",
              "      <td>0</td>\n",
              "      <td>0</td>\n",
              "      <td>0</td>\n",
              "      <td>0</td>\n",
              "      <td>0</td>\n",
              "      <td>0</td>\n",
              "      <td>0</td>\n",
              "      <td>0</td>\n",
              "      <td>0</td>\n",
              "      <td>0</td>\n",
              "      <td>0</td>\n",
              "      <td>0</td>\n",
              "      <td>0</td>\n",
              "      <td>0</td>\n",
              "      <td>0</td>\n",
              "      <td>0</td>\n",
              "      <td>0</td>\n",
              "      <td>0</td>\n",
              "    </tr>\n",
              "    <tr>\n",
              "      <th>2</th>\n",
              "      <td>4</td>\n",
              "      <td>1</td>\n",
              "      <td>D3</td>\n",
              "      <td>26</td>\n",
              "      <td>0.144667</td>\n",
              "      <td>2</td>\n",
              "      <td>3</td>\n",
              "      <td>1</td>\n",
              "      <td>0.582090</td>\n",
              "      <td>0.709091</td>\n",
              "      <td>0.320084</td>\n",
              "      <td>0.519103</td>\n",
              "      <td>0.143</td>\n",
              "      <td>9</td>\n",
              "      <td>1</td>\n",
              "      <td>0.00</td>\n",
              "      <td>2</td>\n",
              "      <td>0.45</td>\n",
              "      <td>1</td>\n",
              "      <td>2</td>\n",
              "      <td>3</td>\n",
              "      <td>3</td>\n",
              "      <td>1</td>\n",
              "      <td>1</td>\n",
              "      <td>1</td>\n",
              "      <td>2</td>\n",
              "      <td>1</td>\n",
              "      <td>1</td>\n",
              "      <td>3</td>\n",
              "      <td>NaN</td>\n",
              "      <td>3</td>\n",
              "      <td>2</td>\n",
              "      <td>3</td>\n",
              "      <td>3</td>\n",
              "      <td>0.666667</td>\n",
              "      <td>NaN</td>\n",
              "      <td>0.661972</td>\n",
              "      <td>NaN</td>\n",
              "      <td>3.0</td>\n",
              "      <td>132</td>\n",
              "      <td>...</td>\n",
              "      <td>0</td>\n",
              "      <td>1</td>\n",
              "      <td>0</td>\n",
              "      <td>0</td>\n",
              "      <td>0</td>\n",
              "      <td>0</td>\n",
              "      <td>0</td>\n",
              "      <td>0</td>\n",
              "      <td>0</td>\n",
              "      <td>0</td>\n",
              "      <td>0</td>\n",
              "      <td>0</td>\n",
              "      <td>0</td>\n",
              "      <td>0</td>\n",
              "      <td>1</td>\n",
              "      <td>0</td>\n",
              "      <td>1</td>\n",
              "      <td>0</td>\n",
              "      <td>0</td>\n",
              "      <td>0</td>\n",
              "      <td>0</td>\n",
              "      <td>0</td>\n",
              "      <td>0</td>\n",
              "      <td>0</td>\n",
              "      <td>0</td>\n",
              "      <td>0</td>\n",
              "      <td>0</td>\n",
              "      <td>0</td>\n",
              "      <td>0</td>\n",
              "      <td>0</td>\n",
              "      <td>0</td>\n",
              "      <td>0</td>\n",
              "      <td>0</td>\n",
              "      <td>0</td>\n",
              "      <td>0</td>\n",
              "      <td>0</td>\n",
              "      <td>0</td>\n",
              "      <td>0</td>\n",
              "      <td>0</td>\n",
              "      <td>0</td>\n",
              "    </tr>\n",
              "    <tr>\n",
              "      <th>3</th>\n",
              "      <td>9</td>\n",
              "      <td>1</td>\n",
              "      <td>A1</td>\n",
              "      <td>26</td>\n",
              "      <td>0.151709</td>\n",
              "      <td>2</td>\n",
              "      <td>1</td>\n",
              "      <td>1</td>\n",
              "      <td>0.522388</td>\n",
              "      <td>0.654545</td>\n",
              "      <td>0.267782</td>\n",
              "      <td>0.486962</td>\n",
              "      <td>0.210</td>\n",
              "      <td>9</td>\n",
              "      <td>1</td>\n",
              "      <td>0.00</td>\n",
              "      <td>2</td>\n",
              "      <td>1.00</td>\n",
              "      <td>2</td>\n",
              "      <td>2</td>\n",
              "      <td>3</td>\n",
              "      <td>3</td>\n",
              "      <td>1</td>\n",
              "      <td>1</td>\n",
              "      <td>1</td>\n",
              "      <td>1</td>\n",
              "      <td>1</td>\n",
              "      <td>3</td>\n",
              "      <td>1</td>\n",
              "      <td>0.000667</td>\n",
              "      <td>2</td>\n",
              "      <td>1</td>\n",
              "      <td>2</td>\n",
              "      <td>2</td>\n",
              "      <td>NaN</td>\n",
              "      <td>0.686275</td>\n",
              "      <td>0.676056</td>\n",
              "      <td>NaN</td>\n",
              "      <td>NaN</td>\n",
              "      <td>162</td>\n",
              "      <td>...</td>\n",
              "      <td>0</td>\n",
              "      <td>0</td>\n",
              "      <td>0</td>\n",
              "      <td>0</td>\n",
              "      <td>0</td>\n",
              "      <td>0</td>\n",
              "      <td>0</td>\n",
              "      <td>0</td>\n",
              "      <td>0</td>\n",
              "      <td>0</td>\n",
              "      <td>0</td>\n",
              "      <td>0</td>\n",
              "      <td>0</td>\n",
              "      <td>0</td>\n",
              "      <td>0</td>\n",
              "      <td>0</td>\n",
              "      <td>0</td>\n",
              "      <td>0</td>\n",
              "      <td>0</td>\n",
              "      <td>0</td>\n",
              "      <td>0</td>\n",
              "      <td>0</td>\n",
              "      <td>0</td>\n",
              "      <td>0</td>\n",
              "      <td>0</td>\n",
              "      <td>0</td>\n",
              "      <td>0</td>\n",
              "      <td>0</td>\n",
              "      <td>1</td>\n",
              "      <td>0</td>\n",
              "      <td>0</td>\n",
              "      <td>0</td>\n",
              "      <td>0</td>\n",
              "      <td>0</td>\n",
              "      <td>0</td>\n",
              "      <td>0</td>\n",
              "      <td>0</td>\n",
              "      <td>0</td>\n",
              "      <td>1</td>\n",
              "      <td>1</td>\n",
              "    </tr>\n",
              "    <tr>\n",
              "      <th>4</th>\n",
              "      <td>12</td>\n",
              "      <td>1</td>\n",
              "      <td>A1</td>\n",
              "      <td>26</td>\n",
              "      <td>0.076923</td>\n",
              "      <td>2</td>\n",
              "      <td>3</td>\n",
              "      <td>1</td>\n",
              "      <td>0.298507</td>\n",
              "      <td>0.672727</td>\n",
              "      <td>0.246862</td>\n",
              "      <td>0.428718</td>\n",
              "      <td>0.085</td>\n",
              "      <td>9</td>\n",
              "      <td>1</td>\n",
              "      <td>0.00</td>\n",
              "      <td>2</td>\n",
              "      <td>0.20</td>\n",
              "      <td>1</td>\n",
              "      <td>2</td>\n",
              "      <td>8</td>\n",
              "      <td>3</td>\n",
              "      <td>1</td>\n",
              "      <td>2</td>\n",
              "      <td>1</td>\n",
              "      <td>2</td>\n",
              "      <td>1</td>\n",
              "      <td>1</td>\n",
              "      <td>3</td>\n",
              "      <td>NaN</td>\n",
              "      <td>3</td>\n",
              "      <td>2</td>\n",
              "      <td>3</td>\n",
              "      <td>2</td>\n",
              "      <td>0.449275</td>\n",
              "      <td>NaN</td>\n",
              "      <td>0.380282</td>\n",
              "      <td>NaN</td>\n",
              "      <td>18.0</td>\n",
              "      <td>181</td>\n",
              "      <td>...</td>\n",
              "      <td>0</td>\n",
              "      <td>0</td>\n",
              "      <td>0</td>\n",
              "      <td>0</td>\n",
              "      <td>0</td>\n",
              "      <td>0</td>\n",
              "      <td>0</td>\n",
              "      <td>0</td>\n",
              "      <td>0</td>\n",
              "      <td>0</td>\n",
              "      <td>0</td>\n",
              "      <td>0</td>\n",
              "      <td>0</td>\n",
              "      <td>0</td>\n",
              "      <td>0</td>\n",
              "      <td>0</td>\n",
              "      <td>1</td>\n",
              "      <td>0</td>\n",
              "      <td>0</td>\n",
              "      <td>0</td>\n",
              "      <td>0</td>\n",
              "      <td>0</td>\n",
              "      <td>0</td>\n",
              "      <td>0</td>\n",
              "      <td>0</td>\n",
              "      <td>0</td>\n",
              "      <td>0</td>\n",
              "      <td>0</td>\n",
              "      <td>0</td>\n",
              "      <td>0</td>\n",
              "      <td>0</td>\n",
              "      <td>0</td>\n",
              "      <td>0</td>\n",
              "      <td>0</td>\n",
              "      <td>0</td>\n",
              "      <td>0</td>\n",
              "      <td>0</td>\n",
              "      <td>0</td>\n",
              "      <td>0</td>\n",
              "      <td>0</td>\n",
              "    </tr>\n",
              "  </tbody>\n",
              "</table>\n",
              "<p>5 rows × 127 columns</p>\n",
              "</div>"
            ],
            "text/plain": [
              "   Id  Product_Info_1  ... Medical_Keyword_47  Medical_Keyword_48\n",
              "0   1               1  ...                  0                   0\n",
              "1   3               1  ...                  0                   0\n",
              "2   4               1  ...                  0                   0\n",
              "3   9               1  ...                  1                   1\n",
              "4  12               1  ...                  0                   0\n",
              "\n",
              "[5 rows x 127 columns]"
            ]
          },
          "metadata": {
            "tags": []
          },
          "execution_count": 5
        }
      ]
    },
    {
      "cell_type": "code",
      "metadata": {
        "id": "VK4XS6tgpdvc",
        "colab_type": "code",
        "colab": {
          "base_uri": "https://localhost:8080/",
          "height": 34
        },
        "outputId": "8c31b1c5-9f1c-43e0-8cfd-117357f132a4"
      },
      "source": [
        "print('train shape =',(train.shape), \"||\" ,'test shape =', (test.shape) )"
      ],
      "execution_count": 6,
      "outputs": [
        {
          "output_type": "stream",
          "text": [
            "train shape = (59381, 128) || test shape = (19765, 127)\n"
          ],
          "name": "stdout"
        }
      ]
    },
    {
      "cell_type": "markdown",
      "metadata": {
        "id": "iSs-enTdvYsL",
        "colab_type": "text"
      },
      "source": [
        "# 2.VISUALIZATION"
      ]
    },
    {
      "cell_type": "markdown",
      "metadata": {
        "id": "8cHHF4P7LD0T",
        "colab_type": "text"
      },
      "source": [
        "## Variable :\n",
        "* Categorical :\n",
        "** Product_Info_1 s.d 7\n",
        "** InsuredInfo_1 s.d 7\n",
        "** Insurance_History_1 s.d 9\n",
        "** Response\n",
        "<br>\n",
        "* Continuous :\n",
        "** Ins_Age\n",
        "** Ht\n",
        "** Wt\n",
        "** BMI\n",
        "** Employment_Info_1 s.d 6\n",
        "** Family_Hist_1 s.d 5\n",
        "<br>\n",
        "*Discreate :\n",
        "** Medical_History_1 s.d 41\n",
        "** Medical_Keyword_1 s.d 48\n"
      ]
    },
    {
      "cell_type": "code",
      "metadata": {
        "id": "_rnwyD8Qzj54",
        "colab_type": "code",
        "colab": {}
      },
      "source": [
        "import seaborn as sns\n",
        "from matplotlib import pyplot as plt"
      ],
      "execution_count": 0,
      "outputs": []
    },
    {
      "cell_type": "code",
      "metadata": {
        "id": "z7QqEILeViW7",
        "colab_type": "code",
        "colab": {
          "base_uri": "https://localhost:8080/",
          "height": 204
        },
        "outputId": "030b83be-b6ff-4537-be49-01fbb3fc77f0"
      },
      "source": [
        "train[['Employment_Info_1','Employment_Info_2','Employment_Info_3',\n",
        "       'Employment_Info_4', 'Employment_Info_5', 'Employment_Info_6']].head()"
      ],
      "execution_count": 84,
      "outputs": [
        {
          "output_type": "execute_result",
          "data": {
            "text/html": [
              "<div>\n",
              "<style scoped>\n",
              "    .dataframe tbody tr th:only-of-type {\n",
              "        vertical-align: middle;\n",
              "    }\n",
              "\n",
              "    .dataframe tbody tr th {\n",
              "        vertical-align: top;\n",
              "    }\n",
              "\n",
              "    .dataframe thead th {\n",
              "        text-align: right;\n",
              "    }\n",
              "</style>\n",
              "<table border=\"1\" class=\"dataframe\">\n",
              "  <thead>\n",
              "    <tr style=\"text-align: right;\">\n",
              "      <th></th>\n",
              "      <th>Employment_Info_1</th>\n",
              "      <th>Employment_Info_2</th>\n",
              "      <th>Employment_Info_3</th>\n",
              "      <th>Employment_Info_4</th>\n",
              "      <th>Employment_Info_5</th>\n",
              "      <th>Employment_Info_6</th>\n",
              "    </tr>\n",
              "  </thead>\n",
              "  <tbody>\n",
              "    <tr>\n",
              "      <th>0</th>\n",
              "      <td>0.028</td>\n",
              "      <td>12</td>\n",
              "      <td>1</td>\n",
              "      <td>0.0</td>\n",
              "      <td>3</td>\n",
              "      <td>NaN</td>\n",
              "    </tr>\n",
              "    <tr>\n",
              "      <th>1</th>\n",
              "      <td>0.000</td>\n",
              "      <td>1</td>\n",
              "      <td>3</td>\n",
              "      <td>0.0</td>\n",
              "      <td>2</td>\n",
              "      <td>0.0018</td>\n",
              "    </tr>\n",
              "    <tr>\n",
              "      <th>2</th>\n",
              "      <td>0.030</td>\n",
              "      <td>9</td>\n",
              "      <td>1</td>\n",
              "      <td>0.0</td>\n",
              "      <td>2</td>\n",
              "      <td>0.0300</td>\n",
              "    </tr>\n",
              "    <tr>\n",
              "      <th>3</th>\n",
              "      <td>0.042</td>\n",
              "      <td>9</td>\n",
              "      <td>1</td>\n",
              "      <td>0.0</td>\n",
              "      <td>3</td>\n",
              "      <td>0.2000</td>\n",
              "    </tr>\n",
              "    <tr>\n",
              "      <th>4</th>\n",
              "      <td>0.027</td>\n",
              "      <td>9</td>\n",
              "      <td>1</td>\n",
              "      <td>0.0</td>\n",
              "      <td>2</td>\n",
              "      <td>0.0500</td>\n",
              "    </tr>\n",
              "  </tbody>\n",
              "</table>\n",
              "</div>"
            ],
            "text/plain": [
              "   Employment_Info_1  Employment_Info_2  ...  Employment_Info_5  Employment_Info_6\n",
              "0              0.028                 12  ...                  3                NaN\n",
              "1              0.000                  1  ...                  2             0.0018\n",
              "2              0.030                  9  ...                  2             0.0300\n",
              "3              0.042                  9  ...                  3             0.2000\n",
              "4              0.027                  9  ...                  2             0.0500\n",
              "\n",
              "[5 rows x 6 columns]"
            ]
          },
          "metadata": {
            "tags": []
          },
          "execution_count": 84
        }
      ]
    },
    {
      "cell_type": "code",
      "metadata": {
        "id": "vGLNU3zkD64w",
        "colab_type": "code",
        "colab": {
          "base_uri": "https://localhost:8080/",
          "height": 225
        },
        "outputId": "d0c3ade9-d410-420a-ca4c-b7027838dc08"
      },
      "source": [
        "# boxplot for missing data variable\n",
        "f = plt.figure(figsize=(15,3))\n",
        "axes = 130\n",
        "for t in train[['BMI', 'Ht', 'Wt']] :\n",
        "    axes += 1\n",
        "    f.add_subplot(axes)\n",
        "    sns.boxplot(data = train[['BMI', 'Ht', 'Wt']], \n",
        "                y = t, \n",
        "                x = train['Response'],\n",
        "                palette=\"Set2\")\n",
        "plt.show()"
      ],
      "execution_count": 109,
      "outputs": [
        {
          "output_type": "display_data",
          "data": {
            "image/png": "[encoded data removed]",
            "text/plain": [
              "<Figure size 1080x216 with 3 Axes>"
            ]
          },
          "metadata": {
            "tags": []
          }
        }
      ]
    },
    {
      "cell_type": "code",
      "metadata": {
        "id": "RhT71p0tqE6w",
        "colab_type": "code",
        "colab": {
          "base_uri": "https://localhost:8080/",
          "height": 225
        },
        "outputId": "ec88b62e-63c9-4fc8-8e59-68f8b6a77117"
      },
      "source": [
        "# boxplot for missing data variable\n",
        "f = plt.figure(figsize=(17,3))\n",
        "axes = 130\n",
        "for t in train[['Ins_Age']] :\n",
        "    axes += 1\n",
        "    f.add_subplot(axes)\n",
        "    sns.boxplot(data = train[['Ins_Age']], \n",
        "                y = t, \n",
        "                x = train['Response'],\n",
        "                palette=\"Set2\")\n",
        "plt.show()"
      ],
      "execution_count": 81,
      "outputs": [
        {
          "output_type": "display_data",
          "data": {
            "image/png": "[encoded data removed]",
            "text/plain": [
              "<Figure size 1224x216 with 1 Axes>"
            ]
          },
          "metadata": {
            "tags": []
          }
        }
      ]
    },
    {
      "cell_type": "code",
      "metadata": {
        "id": "ces9ue0sqYTC",
        "colab_type": "code",
        "colab": {
          "base_uri": "https://localhost:8080/",
          "height": 408
        },
        "outputId": "8877a7db-34f3-475e-86d9-195e57a27612"
      },
      "source": [
        "# boxplot for missing data variable\n",
        "f = plt.figure(figsize=(17,6))\n",
        "axes = 230\n",
        "for t in train[['Employment_Info_1','Employment_Info_2','Employment_Info_3',\n",
        "                'Employment_Info_4', 'Employment_Info_5', 'Employment_Info_6']] :\n",
        "    axes += 1\n",
        "    f.add_subplot(axes)\n",
        "    sns.boxplot(data = train[['Employment_Info_1','Employment_Info_2','Employment_Info_3',\n",
        "                              'Employment_Info_4', 'Employment_Info_5', 'Employment_Info_6']],\n",
        "                y = t, x = train['Response'], palette=\"Set2\")\n",
        "plt.show()"
      ],
      "execution_count": 86,
      "outputs": [
        {
          "output_type": "display_data",
          "data": {
            "image/png": "[encoded data removed]",
            "text/plain": [
              "<Figure size 1224x432 with 6 Axes>"
            ]
          },
          "metadata": {
            "tags": []
          }
        }
      ]
    },
    {
      "cell_type": "code",
      "metadata": {
        "id": "xpUvH1ggX1Sd",
        "colab_type": "code",
        "colab": {
          "base_uri": "https://localhost:8080/",
          "height": 226
        },
        "outputId": "2fcacc50-3190-46c7-f1a7-c7d1d0490c14"
      },
      "source": [
        "f=plt.figure(figsize=(15,3))\n",
        "f.add_subplot(1,3,1)\n",
        "sns.distplot(train['BMI'], color='darkcyan')\n",
        "f.add_subplot(1,3,2)\n",
        "sns.distplot(train['Ht'], color='darkcyan')\n",
        "f.add_subplot(1,3,3)\n",
        "sns.distplot(train['Wt'], color='darkcyan')\n",
        "plt.show()"
      ],
      "execution_count": 108,
      "outputs": [
        {
          "output_type": "display_data",
          "data": {
            "image/png": "[encoded data removed]",
            "text/plain": [
              "<Figure size 1080x216 with 3 Axes>"
            ]
          },
          "metadata": {
            "tags": []
          }
        }
      ]
    },
    {
      "cell_type": "code",
      "metadata": {
        "id": "u4t5IzBKvBuC",
        "colab_type": "code",
        "colab": {
          "base_uri": "https://localhost:8080/",
          "height": 279
        },
        "outputId": "7e0f84ae-d1ed-450d-b976-ab21187d84a4"
      },
      "source": [
        "import matplotlib.pyplot as plt\n",
        "sns.distplot(train['BMI'], color='darkcyan', label ='BMI')\n",
        "sns.distplot(train['Ht'], color='skyblue', label ='Ht')\n",
        "sns.distplot(train['Wt'], color='red', label = 'Wt')\n",
        "plt.show()\n"
      ],
      "execution_count": 107,
      "outputs": [
        {
          "output_type": "display_data",
          "data": {
            "image/png": "[encoded data removed]",
            "text/plain": [
              "<Figure size 432x288 with 1 Axes>"
            ]
          },
          "metadata": {
            "tags": []
          }
        }
      ]
    },
    {
      "cell_type": "code",
      "metadata": {
        "id": "li2ciF4DgI90",
        "colab_type": "code",
        "colab": {
          "base_uri": "https://localhost:8080/",
          "height": 316
        },
        "outputId": "ea48136b-38f9-4965-ad5c-2b23ea65bb05"
      },
      "source": [
        "train['Response'].value_counts().plot.pie(autopct = '%.2f', \n",
        "                                        labels= ['0 = BAYAR', '1 = TIDAK BAYAR'],\n",
        "                                        colors = ['lightseagreen', 'paleturquoise'])\n",
        "plt.axis('equal')\n"
      ],
      "execution_count": 80,
      "outputs": [
        {
          "output_type": "execute_result",
          "data": {
            "text/plain": [
              "(-1.1196460706197184,\n",
              " 1.1009355535528556,\n",
              " -1.1055088925390233,\n",
              " 1.1201579931762864)"
            ]
          },
          "metadata": {
            "tags": []
          },
          "execution_count": 80
        },
        {
          "output_type": "display_data",
          "data": {
            "image/png": "[encoded data removed]",
            "text/plain": [
              "<Figure size 432x288 with 1 Axes>"
            ]
          },
          "metadata": {
            "tags": []
          }
        }
      ]
    },
    {
      "cell_type": "code",
      "metadata": {
        "id": "71tIoywOh2Oc",
        "colab_type": "code",
        "colab": {
          "base_uri": "https://localhost:8080/",
          "height": 68
        },
        "outputId": "d883dd2b-ff31-455d-b379-ea6c80dc807b"
      },
      "source": [
        "train['Response'].value_counts()"
      ],
      "execution_count": 76,
      "outputs": [
        {
          "output_type": "execute_result",
          "data": {
            "text/plain": [
              "0    44181\n",
              "1    15200\n",
              "Name: Response, dtype: int64"
            ]
          },
          "metadata": {
            "tags": []
          },
          "execution_count": 76
        }
      ]
    },
    {
      "cell_type": "code",
      "metadata": {
        "id": "RWU94xA9h8nh",
        "colab_type": "code",
        "colab": {
          "base_uri": "https://localhost:8080/",
          "height": 34
        },
        "outputId": "fb065a91-0755-4ce2-a9f2-d9f1f557c699"
      },
      "source": [
        "np.array(sizes)"
      ],
      "execution_count": 79,
      "outputs": [
        {
          "output_type": "execute_result",
          "data": {
            "text/plain": [
              "array([59381, 19765])"
            ]
          },
          "metadata": {
            "tags": []
          },
          "execution_count": 79
        }
      ]
    },
    {
      "cell_type": "code",
      "metadata": {
        "id": "aZBbk778sBgC",
        "colab_type": "code",
        "colab": {
          "base_uri": "https://localhost:8080/",
          "height": 346
        },
        "outputId": "fb2756b3-c9d3-4b9d-e741-a9b73e4f4a80"
      },
      "source": [
        "train.describe()"
      ],
      "execution_count": 87,
      "outputs": [
        {
          "output_type": "execute_result",
          "data": {
            "text/html": [
              "<div>\n",
              "<style scoped>\n",
              "    .dataframe tbody tr th:only-of-type {\n",
              "        vertical-align: middle;\n",
              "    }\n",
              "\n",
              "    .dataframe tbody tr th {\n",
              "        vertical-align: top;\n",
              "    }\n",
              "\n",
              "    .dataframe thead th {\n",
              "        text-align: right;\n",
              "    }\n",
              "</style>\n",
              "<table border=\"1\" class=\"dataframe\">\n",
              "  <thead>\n",
              "    <tr style=\"text-align: right;\">\n",
              "      <th></th>\n",
              "      <th>Id</th>\n",
              "      <th>Product_Info_1</th>\n",
              "      <th>Product_Info_3</th>\n",
              "      <th>Product_Info_4</th>\n",
              "      <th>Product_Info_5</th>\n",
              "      <th>Product_Info_6</th>\n",
              "      <th>Product_Info_7</th>\n",
              "      <th>Ins_Age</th>\n",
              "      <th>Ht</th>\n",
              "      <th>Wt</th>\n",
              "      <th>BMI</th>\n",
              "      <th>Employment_Info_1</th>\n",
              "      <th>Employment_Info_2</th>\n",
              "      <th>Employment_Info_3</th>\n",
              "      <th>Employment_Info_4</th>\n",
              "      <th>Employment_Info_5</th>\n",
              "      <th>Employment_Info_6</th>\n",
              "      <th>InsuredInfo_1</th>\n",
              "      <th>InsuredInfo_2</th>\n",
              "      <th>InsuredInfo_3</th>\n",
              "      <th>InsuredInfo_4</th>\n",
              "      <th>InsuredInfo_5</th>\n",
              "      <th>InsuredInfo_6</th>\n",
              "      <th>InsuredInfo_7</th>\n",
              "      <th>Insurance_History_1</th>\n",
              "      <th>Insurance_History_2</th>\n",
              "      <th>Insurance_History_3</th>\n",
              "      <th>Insurance_History_4</th>\n",
              "      <th>Insurance_History_5</th>\n",
              "      <th>Insurance_History_7</th>\n",
              "      <th>Insurance_History_8</th>\n",
              "      <th>Insurance_History_9</th>\n",
              "      <th>Family_Hist_1</th>\n",
              "      <th>Family_Hist_2</th>\n",
              "      <th>Family_Hist_3</th>\n",
              "      <th>Family_Hist_4</th>\n",
              "      <th>Family_Hist_5</th>\n",
              "      <th>Medical_History_1</th>\n",
              "      <th>Medical_History_2</th>\n",
              "      <th>Medical_History_3</th>\n",
              "      <th>...</th>\n",
              "      <th>Medical_Keyword_10</th>\n",
              "      <th>Medical_Keyword_11</th>\n",
              "      <th>Medical_Keyword_12</th>\n",
              "      <th>Medical_Keyword_13</th>\n",
              "      <th>Medical_Keyword_14</th>\n",
              "      <th>Medical_Keyword_15</th>\n",
              "      <th>Medical_Keyword_16</th>\n",
              "      <th>Medical_Keyword_17</th>\n",
              "      <th>Medical_Keyword_18</th>\n",
              "      <th>Medical_Keyword_19</th>\n",
              "      <th>Medical_Keyword_20</th>\n",
              "      <th>Medical_Keyword_21</th>\n",
              "      <th>Medical_Keyword_22</th>\n",
              "      <th>Medical_Keyword_23</th>\n",
              "      <th>Medical_Keyword_24</th>\n",
              "      <th>Medical_Keyword_25</th>\n",
              "      <th>Medical_Keyword_26</th>\n",
              "      <th>Medical_Keyword_27</th>\n",
              "      <th>Medical_Keyword_28</th>\n",
              "      <th>Medical_Keyword_29</th>\n",
              "      <th>Medical_Keyword_30</th>\n",
              "      <th>Medical_Keyword_31</th>\n",
              "      <th>Medical_Keyword_32</th>\n",
              "      <th>Medical_Keyword_33</th>\n",
              "      <th>Medical_Keyword_34</th>\n",
              "      <th>Medical_Keyword_35</th>\n",
              "      <th>Medical_Keyword_36</th>\n",
              "      <th>Medical_Keyword_37</th>\n",
              "      <th>Medical_Keyword_38</th>\n",
              "      <th>Medical_Keyword_39</th>\n",
              "      <th>Medical_Keyword_40</th>\n",
              "      <th>Medical_Keyword_41</th>\n",
              "      <th>Medical_Keyword_42</th>\n",
              "      <th>Medical_Keyword_43</th>\n",
              "      <th>Medical_Keyword_44</th>\n",
              "      <th>Medical_Keyword_45</th>\n",
              "      <th>Medical_Keyword_46</th>\n",
              "      <th>Medical_Keyword_47</th>\n",
              "      <th>Medical_Keyword_48</th>\n",
              "      <th>Response</th>\n",
              "    </tr>\n",
              "  </thead>\n",
              "  <tbody>\n",
              "    <tr>\n",
              "      <th>count</th>\n",
              "      <td>59381.000000</td>\n",
              "      <td>59381.000000</td>\n",
              "      <td>59381.000000</td>\n",
              "      <td>59381.000000</td>\n",
              "      <td>59381.000000</td>\n",
              "      <td>59381.000000</td>\n",
              "      <td>59381.000000</td>\n",
              "      <td>59381.000000</td>\n",
              "      <td>59381.000000</td>\n",
              "      <td>59381.000000</td>\n",
              "      <td>59381.000000</td>\n",
              "      <td>59362.000000</td>\n",
              "      <td>59381.000000</td>\n",
              "      <td>59381.000000</td>\n",
              "      <td>52602.000000</td>\n",
              "      <td>59381.000000</td>\n",
              "      <td>48527.000000</td>\n",
              "      <td>59381.000000</td>\n",
              "      <td>59381.000000</td>\n",
              "      <td>59381.000000</td>\n",
              "      <td>59381.000000</td>\n",
              "      <td>59381.000000</td>\n",
              "      <td>59381.000000</td>\n",
              "      <td>59381.000000</td>\n",
              "      <td>59381.000000</td>\n",
              "      <td>59381.000000</td>\n",
              "      <td>59381.000000</td>\n",
              "      <td>59381.000000</td>\n",
              "      <td>33985.000000</td>\n",
              "      <td>59381.000000</td>\n",
              "      <td>59381.000000</td>\n",
              "      <td>59381.000000</td>\n",
              "      <td>59381.000000</td>\n",
              "      <td>30725.000000</td>\n",
              "      <td>25140.000000</td>\n",
              "      <td>40197.000000</td>\n",
              "      <td>17570.000000</td>\n",
              "      <td>50492.000000</td>\n",
              "      <td>59381.000000</td>\n",
              "      <td>59381.000000</td>\n",
              "      <td>...</td>\n",
              "      <td>59381.000000</td>\n",
              "      <td>59381.000000</td>\n",
              "      <td>59381.000000</td>\n",
              "      <td>59381.000000</td>\n",
              "      <td>59381.000000</td>\n",
              "      <td>59381.000000</td>\n",
              "      <td>59381.000000</td>\n",
              "      <td>59381.000000</td>\n",
              "      <td>59381.000000</td>\n",
              "      <td>59381.000000</td>\n",
              "      <td>59381.000000</td>\n",
              "      <td>59381.000000</td>\n",
              "      <td>59381.000000</td>\n",
              "      <td>59381.000000</td>\n",
              "      <td>59381.000000</td>\n",
              "      <td>59381.000000</td>\n",
              "      <td>59381.000000</td>\n",
              "      <td>59381.000000</td>\n",
              "      <td>59381.000000</td>\n",
              "      <td>59381.000000</td>\n",
              "      <td>59381.000000</td>\n",
              "      <td>59381.000000</td>\n",
              "      <td>59381.000000</td>\n",
              "      <td>59381.000000</td>\n",
              "      <td>59381.000000</td>\n",
              "      <td>59381.000000</td>\n",
              "      <td>59381.000000</td>\n",
              "      <td>59381.000000</td>\n",
              "      <td>59381.000000</td>\n",
              "      <td>59381.000000</td>\n",
              "      <td>59381.000000</td>\n",
              "      <td>59381.000000</td>\n",
              "      <td>59381.000000</td>\n",
              "      <td>59381.000000</td>\n",
              "      <td>59381.000000</td>\n",
              "      <td>59381.000000</td>\n",
              "      <td>59381.000000</td>\n",
              "      <td>59381.000000</td>\n",
              "      <td>59381.000000</td>\n",
              "      <td>59381.000000</td>\n",
              "    </tr>\n",
              "    <tr>\n",
              "      <th>mean</th>\n",
              "      <td>39507.211515</td>\n",
              "      <td>1.026355</td>\n",
              "      <td>24.415655</td>\n",
              "      <td>0.328952</td>\n",
              "      <td>2.006955</td>\n",
              "      <td>2.673599</td>\n",
              "      <td>1.043583</td>\n",
              "      <td>0.405567</td>\n",
              "      <td>0.707283</td>\n",
              "      <td>0.292587</td>\n",
              "      <td>0.469462</td>\n",
              "      <td>0.077582</td>\n",
              "      <td>8.641821</td>\n",
              "      <td>1.300904</td>\n",
              "      <td>0.006283</td>\n",
              "      <td>2.142958</td>\n",
              "      <td>0.361469</td>\n",
              "      <td>1.209326</td>\n",
              "      <td>2.007427</td>\n",
              "      <td>5.835840</td>\n",
              "      <td>2.883666</td>\n",
              "      <td>1.027180</td>\n",
              "      <td>1.409188</td>\n",
              "      <td>1.038531</td>\n",
              "      <td>1.727606</td>\n",
              "      <td>1.055792</td>\n",
              "      <td>2.146983</td>\n",
              "      <td>1.958707</td>\n",
              "      <td>0.001733</td>\n",
              "      <td>1.901989</td>\n",
              "      <td>2.048484</td>\n",
              "      <td>2.419360</td>\n",
              "      <td>2.686230</td>\n",
              "      <td>0.474550</td>\n",
              "      <td>0.497737</td>\n",
              "      <td>0.444890</td>\n",
              "      <td>0.484635</td>\n",
              "      <td>7.962172</td>\n",
              "      <td>253.987100</td>\n",
              "      <td>2.102171</td>\n",
              "      <td>...</td>\n",
              "      <td>0.036459</td>\n",
              "      <td>0.058015</td>\n",
              "      <td>0.010003</td>\n",
              "      <td>0.005962</td>\n",
              "      <td>0.007848</td>\n",
              "      <td>0.190465</td>\n",
              "      <td>0.012715</td>\n",
              "      <td>0.009161</td>\n",
              "      <td>0.007494</td>\n",
              "      <td>0.009296</td>\n",
              "      <td>0.008134</td>\n",
              "      <td>0.014601</td>\n",
              "      <td>0.037167</td>\n",
              "      <td>0.097775</td>\n",
              "      <td>0.018895</td>\n",
              "      <td>0.089456</td>\n",
              "      <td>0.013439</td>\n",
              "      <td>0.011856</td>\n",
              "      <td>0.014937</td>\n",
              "      <td>0.011755</td>\n",
              "      <td>0.025042</td>\n",
              "      <td>0.010896</td>\n",
              "      <td>0.021168</td>\n",
              "      <td>0.022836</td>\n",
              "      <td>0.020646</td>\n",
              "      <td>0.006938</td>\n",
              "      <td>0.010407</td>\n",
              "      <td>0.066587</td>\n",
              "      <td>0.006837</td>\n",
              "      <td>0.013658</td>\n",
              "      <td>0.056954</td>\n",
              "      <td>0.010054</td>\n",
              "      <td>0.045536</td>\n",
              "      <td>0.010710</td>\n",
              "      <td>0.007528</td>\n",
              "      <td>0.013691</td>\n",
              "      <td>0.008488</td>\n",
              "      <td>0.019905</td>\n",
              "      <td>0.054496</td>\n",
              "      <td>0.255974</td>\n",
              "    </tr>\n",
              "    <tr>\n",
              "      <th>std</th>\n",
              "      <td>22815.883089</td>\n",
              "      <td>0.160191</td>\n",
              "      <td>5.072885</td>\n",
              "      <td>0.282562</td>\n",
              "      <td>0.083107</td>\n",
              "      <td>0.739103</td>\n",
              "      <td>0.291949</td>\n",
              "      <td>0.197190</td>\n",
              "      <td>0.074239</td>\n",
              "      <td>0.089037</td>\n",
              "      <td>0.122213</td>\n",
              "      <td>0.082347</td>\n",
              "      <td>4.227082</td>\n",
              "      <td>0.715034</td>\n",
              "      <td>0.032816</td>\n",
              "      <td>0.350033</td>\n",
              "      <td>0.349551</td>\n",
              "      <td>0.417939</td>\n",
              "      <td>0.085858</td>\n",
              "      <td>2.674536</td>\n",
              "      <td>0.320627</td>\n",
              "      <td>0.231566</td>\n",
              "      <td>0.491688</td>\n",
              "      <td>0.274915</td>\n",
              "      <td>0.445195</td>\n",
              "      <td>0.329328</td>\n",
              "      <td>0.989139</td>\n",
              "      <td>0.945739</td>\n",
              "      <td>0.007338</td>\n",
              "      <td>0.971223</td>\n",
              "      <td>0.755149</td>\n",
              "      <td>0.509577</td>\n",
              "      <td>0.483159</td>\n",
              "      <td>0.154959</td>\n",
              "      <td>0.140187</td>\n",
              "      <td>0.163012</td>\n",
              "      <td>0.129200</td>\n",
              "      <td>13.027697</td>\n",
              "      <td>178.621154</td>\n",
              "      <td>0.303098</td>\n",
              "      <td>...</td>\n",
              "      <td>0.187432</td>\n",
              "      <td>0.233774</td>\n",
              "      <td>0.099515</td>\n",
              "      <td>0.076981</td>\n",
              "      <td>0.088239</td>\n",
              "      <td>0.392671</td>\n",
              "      <td>0.112040</td>\n",
              "      <td>0.095275</td>\n",
              "      <td>0.086244</td>\n",
              "      <td>0.095967</td>\n",
              "      <td>0.089821</td>\n",
              "      <td>0.119949</td>\n",
              "      <td>0.189172</td>\n",
              "      <td>0.297013</td>\n",
              "      <td>0.136155</td>\n",
              "      <td>0.285404</td>\n",
              "      <td>0.115145</td>\n",
              "      <td>0.108237</td>\n",
              "      <td>0.121304</td>\n",
              "      <td>0.107780</td>\n",
              "      <td>0.156253</td>\n",
              "      <td>0.103813</td>\n",
              "      <td>0.143947</td>\n",
              "      <td>0.149380</td>\n",
              "      <td>0.142198</td>\n",
              "      <td>0.083007</td>\n",
              "      <td>0.101485</td>\n",
              "      <td>0.249307</td>\n",
              "      <td>0.082405</td>\n",
              "      <td>0.116066</td>\n",
              "      <td>0.231757</td>\n",
              "      <td>0.099764</td>\n",
              "      <td>0.208479</td>\n",
              "      <td>0.102937</td>\n",
              "      <td>0.086436</td>\n",
              "      <td>0.116207</td>\n",
              "      <td>0.091737</td>\n",
              "      <td>0.139676</td>\n",
              "      <td>0.226995</td>\n",
              "      <td>0.436411</td>\n",
              "    </tr>\n",
              "    <tr>\n",
              "      <th>min</th>\n",
              "      <td>2.000000</td>\n",
              "      <td>1.000000</td>\n",
              "      <td>1.000000</td>\n",
              "      <td>0.000000</td>\n",
              "      <td>2.000000</td>\n",
              "      <td>1.000000</td>\n",
              "      <td>1.000000</td>\n",
              "      <td>0.000000</td>\n",
              "      <td>0.000000</td>\n",
              "      <td>0.000000</td>\n",
              "      <td>0.000000</td>\n",
              "      <td>0.000000</td>\n",
              "      <td>1.000000</td>\n",
              "      <td>1.000000</td>\n",
              "      <td>0.000000</td>\n",
              "      <td>2.000000</td>\n",
              "      <td>0.000000</td>\n",
              "      <td>1.000000</td>\n",
              "      <td>2.000000</td>\n",
              "      <td>1.000000</td>\n",
              "      <td>2.000000</td>\n",
              "      <td>1.000000</td>\n",
              "      <td>1.000000</td>\n",
              "      <td>1.000000</td>\n",
              "      <td>1.000000</td>\n",
              "      <td>1.000000</td>\n",
              "      <td>1.000000</td>\n",
              "      <td>1.000000</td>\n",
              "      <td>0.000000</td>\n",
              "      <td>1.000000</td>\n",
              "      <td>1.000000</td>\n",
              "      <td>1.000000</td>\n",
              "      <td>1.000000</td>\n",
              "      <td>0.000000</td>\n",
              "      <td>0.000000</td>\n",
              "      <td>0.000000</td>\n",
              "      <td>0.000000</td>\n",
              "      <td>0.000000</td>\n",
              "      <td>1.000000</td>\n",
              "      <td>1.000000</td>\n",
              "      <td>...</td>\n",
              "      <td>0.000000</td>\n",
              "      <td>0.000000</td>\n",
              "      <td>0.000000</td>\n",
              "      <td>0.000000</td>\n",
              "      <td>0.000000</td>\n",
              "      <td>0.000000</td>\n",
              "      <td>0.000000</td>\n",
              "      <td>0.000000</td>\n",
              "      <td>0.000000</td>\n",
              "      <td>0.000000</td>\n",
              "      <td>0.000000</td>\n",
              "      <td>0.000000</td>\n",
              "      <td>0.000000</td>\n",
              "      <td>0.000000</td>\n",
              "      <td>0.000000</td>\n",
              "      <td>0.000000</td>\n",
              "      <td>0.000000</td>\n",
              "      <td>0.000000</td>\n",
              "      <td>0.000000</td>\n",
              "      <td>0.000000</td>\n",
              "      <td>0.000000</td>\n",
              "      <td>0.000000</td>\n",
              "      <td>0.000000</td>\n",
              "      <td>0.000000</td>\n",
              "      <td>0.000000</td>\n",
              "      <td>0.000000</td>\n",
              "      <td>0.000000</td>\n",
              "      <td>0.000000</td>\n",
              "      <td>0.000000</td>\n",
              "      <td>0.000000</td>\n",
              "      <td>0.000000</td>\n",
              "      <td>0.000000</td>\n",
              "      <td>0.000000</td>\n",
              "      <td>0.000000</td>\n",
              "      <td>0.000000</td>\n",
              "      <td>0.000000</td>\n",
              "      <td>0.000000</td>\n",
              "      <td>0.000000</td>\n",
              "      <td>0.000000</td>\n",
              "      <td>0.000000</td>\n",
              "    </tr>\n",
              "    <tr>\n",
              "      <th>25%</th>\n",
              "      <td>19780.000000</td>\n",
              "      <td>1.000000</td>\n",
              "      <td>26.000000</td>\n",
              "      <td>0.076923</td>\n",
              "      <td>2.000000</td>\n",
              "      <td>3.000000</td>\n",
              "      <td>1.000000</td>\n",
              "      <td>0.238806</td>\n",
              "      <td>0.654545</td>\n",
              "      <td>0.225941</td>\n",
              "      <td>0.385517</td>\n",
              "      <td>0.035000</td>\n",
              "      <td>9.000000</td>\n",
              "      <td>1.000000</td>\n",
              "      <td>0.000000</td>\n",
              "      <td>2.000000</td>\n",
              "      <td>0.060000</td>\n",
              "      <td>1.000000</td>\n",
              "      <td>2.000000</td>\n",
              "      <td>3.000000</td>\n",
              "      <td>3.000000</td>\n",
              "      <td>1.000000</td>\n",
              "      <td>1.000000</td>\n",
              "      <td>1.000000</td>\n",
              "      <td>1.000000</td>\n",
              "      <td>1.000000</td>\n",
              "      <td>1.000000</td>\n",
              "      <td>1.000000</td>\n",
              "      <td>0.000400</td>\n",
              "      <td>1.000000</td>\n",
              "      <td>1.000000</td>\n",
              "      <td>2.000000</td>\n",
              "      <td>2.000000</td>\n",
              "      <td>0.362319</td>\n",
              "      <td>0.401961</td>\n",
              "      <td>0.323944</td>\n",
              "      <td>0.401786</td>\n",
              "      <td>2.000000</td>\n",
              "      <td>112.000000</td>\n",
              "      <td>2.000000</td>\n",
              "      <td>...</td>\n",
              "      <td>0.000000</td>\n",
              "      <td>0.000000</td>\n",
              "      <td>0.000000</td>\n",
              "      <td>0.000000</td>\n",
              "      <td>0.000000</td>\n",
              "      <td>0.000000</td>\n",
              "      <td>0.000000</td>\n",
              "      <td>0.000000</td>\n",
              "      <td>0.000000</td>\n",
              "      <td>0.000000</td>\n",
              "      <td>0.000000</td>\n",
              "      <td>0.000000</td>\n",
              "      <td>0.000000</td>\n",
              "      <td>0.000000</td>\n",
              "      <td>0.000000</td>\n",
              "      <td>0.000000</td>\n",
              "      <td>0.000000</td>\n",
              "      <td>0.000000</td>\n",
              "      <td>0.000000</td>\n",
              "      <td>0.000000</td>\n",
              "      <td>0.000000</td>\n",
              "      <td>0.000000</td>\n",
              "      <td>0.000000</td>\n",
              "      <td>0.000000</td>\n",
              "      <td>0.000000</td>\n",
              "      <td>0.000000</td>\n",
              "      <td>0.000000</td>\n",
              "      <td>0.000000</td>\n",
              "      <td>0.000000</td>\n",
              "      <td>0.000000</td>\n",
              "      <td>0.000000</td>\n",
              "      <td>0.000000</td>\n",
              "      <td>0.000000</td>\n",
              "      <td>0.000000</td>\n",
              "      <td>0.000000</td>\n",
              "      <td>0.000000</td>\n",
              "      <td>0.000000</td>\n",
              "      <td>0.000000</td>\n",
              "      <td>0.000000</td>\n",
              "      <td>0.000000</td>\n",
              "    </tr>\n",
              "    <tr>\n",
              "      <th>50%</th>\n",
              "      <td>39487.000000</td>\n",
              "      <td>1.000000</td>\n",
              "      <td>26.000000</td>\n",
              "      <td>0.230769</td>\n",
              "      <td>2.000000</td>\n",
              "      <td>3.000000</td>\n",
              "      <td>1.000000</td>\n",
              "      <td>0.402985</td>\n",
              "      <td>0.709091</td>\n",
              "      <td>0.288703</td>\n",
              "      <td>0.451349</td>\n",
              "      <td>0.060000</td>\n",
              "      <td>9.000000</td>\n",
              "      <td>1.000000</td>\n",
              "      <td>0.000000</td>\n",
              "      <td>2.000000</td>\n",
              "      <td>0.250000</td>\n",
              "      <td>1.000000</td>\n",
              "      <td>2.000000</td>\n",
              "      <td>6.000000</td>\n",
              "      <td>3.000000</td>\n",
              "      <td>1.000000</td>\n",
              "      <td>1.000000</td>\n",
              "      <td>1.000000</td>\n",
              "      <td>2.000000</td>\n",
              "      <td>1.000000</td>\n",
              "      <td>3.000000</td>\n",
              "      <td>2.000000</td>\n",
              "      <td>0.000973</td>\n",
              "      <td>1.000000</td>\n",
              "      <td>2.000000</td>\n",
              "      <td>2.000000</td>\n",
              "      <td>3.000000</td>\n",
              "      <td>0.463768</td>\n",
              "      <td>0.519608</td>\n",
              "      <td>0.422535</td>\n",
              "      <td>0.508929</td>\n",
              "      <td>4.000000</td>\n",
              "      <td>162.000000</td>\n",
              "      <td>2.000000</td>\n",
              "      <td>...</td>\n",
              "      <td>0.000000</td>\n",
              "      <td>0.000000</td>\n",
              "      <td>0.000000</td>\n",
              "      <td>0.000000</td>\n",
              "      <td>0.000000</td>\n",
              "      <td>0.000000</td>\n",
              "      <td>0.000000</td>\n",
              "      <td>0.000000</td>\n",
              "      <td>0.000000</td>\n",
              "      <td>0.000000</td>\n",
              "      <td>0.000000</td>\n",
              "      <td>0.000000</td>\n",
              "      <td>0.000000</td>\n",
              "      <td>0.000000</td>\n",
              "      <td>0.000000</td>\n",
              "      <td>0.000000</td>\n",
              "      <td>0.000000</td>\n",
              "      <td>0.000000</td>\n",
              "      <td>0.000000</td>\n",
              "      <td>0.000000</td>\n",
              "      <td>0.000000</td>\n",
              "      <td>0.000000</td>\n",
              "      <td>0.000000</td>\n",
              "      <td>0.000000</td>\n",
              "      <td>0.000000</td>\n",
              "      <td>0.000000</td>\n",
              "      <td>0.000000</td>\n",
              "      <td>0.000000</td>\n",
              "      <td>0.000000</td>\n",
              "      <td>0.000000</td>\n",
              "      <td>0.000000</td>\n",
              "      <td>0.000000</td>\n",
              "      <td>0.000000</td>\n",
              "      <td>0.000000</td>\n",
              "      <td>0.000000</td>\n",
              "      <td>0.000000</td>\n",
              "      <td>0.000000</td>\n",
              "      <td>0.000000</td>\n",
              "      <td>0.000000</td>\n",
              "      <td>0.000000</td>\n",
              "    </tr>\n",
              "    <tr>\n",
              "      <th>75%</th>\n",
              "      <td>59211.000000</td>\n",
              "      <td>1.000000</td>\n",
              "      <td>26.000000</td>\n",
              "      <td>0.487179</td>\n",
              "      <td>2.000000</td>\n",
              "      <td>3.000000</td>\n",
              "      <td>1.000000</td>\n",
              "      <td>0.567164</td>\n",
              "      <td>0.763636</td>\n",
              "      <td>0.345188</td>\n",
              "      <td>0.532858</td>\n",
              "      <td>0.100000</td>\n",
              "      <td>9.000000</td>\n",
              "      <td>1.000000</td>\n",
              "      <td>0.000000</td>\n",
              "      <td>2.000000</td>\n",
              "      <td>0.550000</td>\n",
              "      <td>1.000000</td>\n",
              "      <td>2.000000</td>\n",
              "      <td>8.000000</td>\n",
              "      <td>3.000000</td>\n",
              "      <td>1.000000</td>\n",
              "      <td>2.000000</td>\n",
              "      <td>1.000000</td>\n",
              "      <td>2.000000</td>\n",
              "      <td>1.000000</td>\n",
              "      <td>3.000000</td>\n",
              "      <td>3.000000</td>\n",
              "      <td>0.002000</td>\n",
              "      <td>3.000000</td>\n",
              "      <td>3.000000</td>\n",
              "      <td>3.000000</td>\n",
              "      <td>3.000000</td>\n",
              "      <td>0.579710</td>\n",
              "      <td>0.598039</td>\n",
              "      <td>0.563380</td>\n",
              "      <td>0.580357</td>\n",
              "      <td>9.000000</td>\n",
              "      <td>418.000000</td>\n",
              "      <td>2.000000</td>\n",
              "      <td>...</td>\n",
              "      <td>0.000000</td>\n",
              "      <td>0.000000</td>\n",
              "      <td>0.000000</td>\n",
              "      <td>0.000000</td>\n",
              "      <td>0.000000</td>\n",
              "      <td>0.000000</td>\n",
              "      <td>0.000000</td>\n",
              "      <td>0.000000</td>\n",
              "      <td>0.000000</td>\n",
              "      <td>0.000000</td>\n",
              "      <td>0.000000</td>\n",
              "      <td>0.000000</td>\n",
              "      <td>0.000000</td>\n",
              "      <td>0.000000</td>\n",
              "      <td>0.000000</td>\n",
              "      <td>0.000000</td>\n",
              "      <td>0.000000</td>\n",
              "      <td>0.000000</td>\n",
              "      <td>0.000000</td>\n",
              "      <td>0.000000</td>\n",
              "      <td>0.000000</td>\n",
              "      <td>0.000000</td>\n",
              "      <td>0.000000</td>\n",
              "      <td>0.000000</td>\n",
              "      <td>0.000000</td>\n",
              "      <td>0.000000</td>\n",
              "      <td>0.000000</td>\n",
              "      <td>0.000000</td>\n",
              "      <td>0.000000</td>\n",
              "      <td>0.000000</td>\n",
              "      <td>0.000000</td>\n",
              "      <td>0.000000</td>\n",
              "      <td>0.000000</td>\n",
              "      <td>0.000000</td>\n",
              "      <td>0.000000</td>\n",
              "      <td>0.000000</td>\n",
              "      <td>0.000000</td>\n",
              "      <td>0.000000</td>\n",
              "      <td>0.000000</td>\n",
              "      <td>1.000000</td>\n",
              "    </tr>\n",
              "    <tr>\n",
              "      <th>max</th>\n",
              "      <td>79146.000000</td>\n",
              "      <td>2.000000</td>\n",
              "      <td>38.000000</td>\n",
              "      <td>1.000000</td>\n",
              "      <td>3.000000</td>\n",
              "      <td>3.000000</td>\n",
              "      <td>3.000000</td>\n",
              "      <td>1.000000</td>\n",
              "      <td>1.000000</td>\n",
              "      <td>1.000000</td>\n",
              "      <td>1.000000</td>\n",
              "      <td>1.000000</td>\n",
              "      <td>38.000000</td>\n",
              "      <td>3.000000</td>\n",
              "      <td>1.000000</td>\n",
              "      <td>3.000000</td>\n",
              "      <td>1.000000</td>\n",
              "      <td>3.000000</td>\n",
              "      <td>3.000000</td>\n",
              "      <td>11.000000</td>\n",
              "      <td>3.000000</td>\n",
              "      <td>3.000000</td>\n",
              "      <td>2.000000</td>\n",
              "      <td>3.000000</td>\n",
              "      <td>2.000000</td>\n",
              "      <td>3.000000</td>\n",
              "      <td>3.000000</td>\n",
              "      <td>3.000000</td>\n",
              "      <td>1.000000</td>\n",
              "      <td>3.000000</td>\n",
              "      <td>3.000000</td>\n",
              "      <td>3.000000</td>\n",
              "      <td>3.000000</td>\n",
              "      <td>1.000000</td>\n",
              "      <td>1.000000</td>\n",
              "      <td>0.943662</td>\n",
              "      <td>1.000000</td>\n",
              "      <td>240.000000</td>\n",
              "      <td>648.000000</td>\n",
              "      <td>3.000000</td>\n",
              "      <td>...</td>\n",
              "      <td>1.000000</td>\n",
              "      <td>1.000000</td>\n",
              "      <td>1.000000</td>\n",
              "      <td>1.000000</td>\n",
              "      <td>1.000000</td>\n",
              "      <td>1.000000</td>\n",
              "      <td>1.000000</td>\n",
              "      <td>1.000000</td>\n",
              "      <td>1.000000</td>\n",
              "      <td>1.000000</td>\n",
              "      <td>1.000000</td>\n",
              "      <td>1.000000</td>\n",
              "      <td>1.000000</td>\n",
              "      <td>1.000000</td>\n",
              "      <td>1.000000</td>\n",
              "      <td>1.000000</td>\n",
              "      <td>1.000000</td>\n",
              "      <td>1.000000</td>\n",
              "      <td>1.000000</td>\n",
              "      <td>1.000000</td>\n",
              "      <td>1.000000</td>\n",
              "      <td>1.000000</td>\n",
              "      <td>1.000000</td>\n",
              "      <td>1.000000</td>\n",
              "      <td>1.000000</td>\n",
              "      <td>1.000000</td>\n",
              "      <td>1.000000</td>\n",
              "      <td>1.000000</td>\n",
              "      <td>1.000000</td>\n",
              "      <td>1.000000</td>\n",
              "      <td>1.000000</td>\n",
              "      <td>1.000000</td>\n",
              "      <td>1.000000</td>\n",
              "      <td>1.000000</td>\n",
              "      <td>1.000000</td>\n",
              "      <td>1.000000</td>\n",
              "      <td>1.000000</td>\n",
              "      <td>1.000000</td>\n",
              "      <td>1.000000</td>\n",
              "      <td>1.000000</td>\n",
              "    </tr>\n",
              "  </tbody>\n",
              "</table>\n",
              "<p>8 rows × 127 columns</p>\n",
              "</div>"
            ],
            "text/plain": [
              "                 Id  Product_Info_1  ...  Medical_Keyword_48      Response\n",
              "count  59381.000000    59381.000000  ...        59381.000000  59381.000000\n",
              "mean   39507.211515        1.026355  ...            0.054496      0.255974\n",
              "std    22815.883089        0.160191  ...            0.226995      0.436411\n",
              "min        2.000000        1.000000  ...            0.000000      0.000000\n",
              "25%    19780.000000        1.000000  ...            0.000000      0.000000\n",
              "50%    39487.000000        1.000000  ...            0.000000      0.000000\n",
              "75%    59211.000000        1.000000  ...            0.000000      1.000000\n",
              "max    79146.000000        2.000000  ...            1.000000      1.000000\n",
              "\n",
              "[8 rows x 127 columns]"
            ]
          },
          "metadata": {
            "tags": []
          },
          "execution_count": 87
        }
      ]
    },
    {
      "cell_type": "code",
      "metadata": {
        "id": "HRxrQB8JsKKt",
        "colab_type": "code",
        "colab": {}
      },
      "source": [
        ""
      ],
      "execution_count": 0,
      "outputs": []
    },
    {
      "cell_type": "code",
      "metadata": {
        "id": "rRfpaFrRsIfR",
        "colab_type": "code",
        "colab": {
          "base_uri": "https://localhost:8080/",
          "height": 221
        },
        "outputId": "d6a7f445-af01-4f68-8871-a3945b63855e"
      },
      "source": [
        "min=22\n",
        "max=60\n",
        "train1 = train.copy()\n",
        "def change_age(x):\n",
        "  return x*(max-min)+min\n",
        "train1['scaled']=round(train1['Ins_Age'].apply(change_age))"
      ],
      "execution_count": 89,
      "outputs": [
        {
          "output_type": "execute_result",
          "data": {
            "text/plain": [
              "0        46.0\n",
              "1        24.0\n",
              "2        23.0\n",
              "3        28.0\n",
              "4        38.0\n",
              "         ... \n",
              "59376    25.0\n",
              "59377    38.0\n",
              "59378    26.0\n",
              "59379    41.0\n",
              "59380    39.0\n",
              "Name: scaled, Length: 59381, dtype: float64"
            ]
          },
          "metadata": {
            "tags": []
          },
          "execution_count": 89
        }
      ]
    },
    {
      "cell_type": "code",
      "metadata": {
        "id": "fD-jeAgZsfdC",
        "colab_type": "code",
        "colab": {
          "base_uri": "https://localhost:8080/",
          "height": 296
        },
        "outputId": "f59c86ab-3b18-49a5-fba7-c108c7b369e2"
      },
      "source": [
        "sns.distplot(train1['scaled'], color='darkcyan', bins =5)"
      ],
      "execution_count": 103,
      "outputs": [
        {
          "output_type": "execute_result",
          "data": {
            "text/plain": [
              "<matplotlib.axes._subplots.AxesSubplot at 0x7f2456e524e0>"
            ]
          },
          "metadata": {
            "tags": []
          },
          "execution_count": 103
        },
        {
          "output_type": "display_data",
          "data": {
            "image/png": "[encoded data removed]",
            "text/plain": [
              "<Figure size 432x288 with 1 Axes>"
            ]
          },
          "metadata": {
            "tags": []
          }
        }
      ]
    },
    {
      "cell_type": "markdown",
      "metadata": {
        "id": "WIq9r9Al_K-G",
        "colab_type": "text"
      },
      "source": [
        "# 3.PRE-PROCESSING"
      ]
    },
    {
      "cell_type": "code",
      "metadata": {
        "id": "GYGsrunppG_j",
        "colab_type": "code",
        "colab": {
          "base_uri": "https://localhost:8080/",
          "height": 210
        },
        "outputId": "c3f215e7-a186-4b28-b471-a9493fdfc8ff"
      },
      "source": [
        "f = plt.figure(figsize=(10,6))\n",
        "f.add_subplot(2,2,1)\n",
        "sns.countplot(train['Response'], color = 'lightseagreen')\n",
        "f.add_subplot(2,2,2)\n",
        "train['Response'].value_counts().plot.pie(autopct = '%.2f', \n",
        "                                        labels= ['0 = BAYAR', '1 = TIDAK BAYAR'],\n",
        "                                        colors = ['lightseagreen', 'paleturquoise'])\n",
        "plt.axis('equal')\n",
        "plt.show()"
      ],
      "execution_count": 13,
      "outputs": [
        {
          "output_type": "display_data",
          "data": {
            "image/png": "[encoded data removed]",
            "text/plain": [
              "<Figure size 720x432 with 2 Axes>"
            ]
          },
          "metadata": {
            "tags": []
          }
        }
      ]
    },
    {
      "cell_type": "markdown",
      "metadata": {
        "id": "QnQE86bdvMD0",
        "colab_type": "text"
      },
      "source": [
        "[COUNT PLOT](https://seaborn.pydata.org/generated/seaborn.countplot.html)\n",
        "<br>\n",
        "[PIE CHART](https://matplotlib.org/3.1.1/api/_as_gen/matplotlib.pyplot.pie.html)"
      ]
    },
    {
      "cell_type": "markdown",
      "metadata": {
        "id": "ftxWKs8B_UpB",
        "colab_type": "text"
      },
      "source": [
        "##3.1.Missing Value"
      ]
    },
    {
      "cell_type": "code",
      "metadata": {
        "id": "3OA2PQXVzj5g",
        "colab_type": "code",
        "outputId": "db4d49ca-de5e-4299-ec93-0ecf5f7b09e7",
        "colab": {
          "base_uri": "https://localhost:8080/",
          "height": 119
        }
      },
      "source": [
        "print(train.info())"
      ],
      "execution_count": 14,
      "outputs": [
        {
          "output_type": "stream",
          "text": [
            "<class 'pandas.core.frame.DataFrame'>\n",
            "RangeIndex: 59381 entries, 0 to 59380\n",
            "Columns: 128 entries, Id to Response\n",
            "dtypes: float64(18), int64(109), object(1)\n",
            "memory usage: 58.0+ MB\n",
            "None\n"
          ],
          "name": "stdout"
        }
      ]
    },
    {
      "cell_type": "markdown",
      "metadata": {
        "id": "n1TQ_8i__gdP",
        "colab_type": "text"
      },
      "source": [
        "### 3.1.1.Check Missing"
      ]
    },
    {
      "cell_type": "code",
      "metadata": {
        "id": "UGvUpPDrzj5l",
        "colab_type": "code",
        "outputId": "7127e806-cfe4-45c1-aa09-58be872d6191",
        "colab": {
          "base_uri": "https://localhost:8080/",
          "height": 34
        }
      },
      "source": [
        "sum(train.isna().sum())/(train.shape[0]*train.shape[1])*100"
      ],
      "execution_count": 15,
      "outputs": [
        {
          "output_type": "execute_result",
          "data": {
            "text/plain": [
              "5.17188526212088"
            ]
          },
          "metadata": {
            "tags": []
          },
          "execution_count": 15
        }
      ]
    },
    {
      "cell_type": "code",
      "metadata": {
        "id": "ghooi8Ozzj5r",
        "colab_type": "code",
        "colab": {
          "base_uri": "https://localhost:8080/",
          "height": 34
        },
        "outputId": "599afc59-dd84-418c-c565-079b0d311c1f"
      },
      "source": [
        "sum(test.isna().sum())/(test.shape[0]*test.shape[1])*100"
      ],
      "execution_count": 16,
      "outputs": [
        {
          "output_type": "execute_result",
          "data": {
            "text/plain": [
              "5.20589365995327"
            ]
          },
          "metadata": {
            "tags": []
          },
          "execution_count": 16
        }
      ]
    },
    {
      "cell_type": "code",
      "metadata": {
        "id": "hKp8YnscP7t8",
        "colab_type": "code",
        "outputId": "c9f16f6d-eb45-4ac7-c325-35a2b863535d",
        "colab": {
          "base_uri": "https://localhost:8080/",
          "height": 190
        }
      },
      "source": [
        "df = train.append(test)\n",
        "df.shape"
      ],
      "execution_count": 111,
      "outputs": [
        {
          "output_type": "stream",
          "text": [
            "/usr/local/lib/python3.6/dist-packages/pandas/core/frame.py:7138: FutureWarning: Sorting because non-concatenation axis is not aligned. A future version\n",
            "of pandas will change to not sort by default.\n",
            "\n",
            "To accept the future behavior, pass 'sort=False'.\n",
            "\n",
            "To retain the current behavior and silence the warning, pass 'sort=True'.\n",
            "\n",
            "  sort=sort,\n"
          ],
          "name": "stderr"
        },
        {
          "output_type": "execute_result",
          "data": {
            "text/plain": [
              "(79146, 128)"
            ]
          },
          "metadata": {
            "tags": []
          },
          "execution_count": 111
        }
      ]
    },
    {
      "cell_type": "code",
      "metadata": {
        "id": "td45WbW6rTmE",
        "colab_type": "code",
        "colab": {}
      },
      "source": [
        "df = df.drop(['Id'],axis=1)"
      ],
      "execution_count": 0,
      "outputs": []
    },
    {
      "cell_type": "code",
      "metadata": {
        "id": "6hRVgNlZQU1h",
        "colab_type": "code",
        "outputId": "e925a412-9556-461e-b9d1-785f043934fa",
        "colab": {
          "base_uri": "https://localhost:8080/",
          "height": 34
        }
      },
      "source": [
        "sum(df.isna().sum())/(df.shape[0]*df.shape[1])*100"
      ],
      "execution_count": 19,
      "outputs": [
        {
          "output_type": "execute_result",
          "data": {
            "text/plain": [
              "5.407568311409334"
            ]
          },
          "metadata": {
            "tags": []
          },
          "execution_count": 19
        }
      ]
    },
    {
      "cell_type": "code",
      "metadata": {
        "id": "pBjPTApjzj5v",
        "colab_type": "code",
        "outputId": "15418658-a12b-403f-b8d5-292e2d6683c1",
        "colab": {
          "base_uri": "https://localhost:8080/",
          "height": 438
        }
      },
      "source": [
        "plt.figure(figsize=(21,5))\n",
        "sns.heatmap(df.isnull(), cbar=False)\n",
        "plt.show()"
      ],
      "execution_count": 20,
      "outputs": [
        {
          "output_type": "display_data",
          "data": {
            "image/png": "[encoded data removed]",
            "text/plain": [
              "<Figure size 1512x360 with 1 Axes>"
            ]
          },
          "metadata": {
            "tags": []
          }
        }
      ]
    },
    {
      "cell_type": "code",
      "metadata": {
        "id": "t73FeAHcO3eY",
        "colab_type": "code",
        "outputId": "074613de-12fa-4b5a-aed0-fb0136e268a3",
        "colab": {
          "base_uri": "https://localhost:8080/",
          "height": 483
        }
      },
      "source": [
        "# mengambil 10 feature dengan missing value paling banyak\n",
        "df_missing = pd.DataFrame(df.isnull().sum() / len(df)).sort_values(by=0, ascending=False)\n",
        "df_missing.columns = ['%missing']\n",
        "df_missing [1:15]"
      ],
      "execution_count": 113,
      "outputs": [
        {
          "output_type": "execute_result",
          "data": {
            "text/html": [
              "<div>\n",
              "<style scoped>\n",
              "    .dataframe tbody tr th:only-of-type {\n",
              "        vertical-align: middle;\n",
              "    }\n",
              "\n",
              "    .dataframe tbody tr th {\n",
              "        vertical-align: top;\n",
              "    }\n",
              "\n",
              "    .dataframe thead th {\n",
              "        text-align: right;\n",
              "    }\n",
              "</style>\n",
              "<table border=\"1\" class=\"dataframe\">\n",
              "  <thead>\n",
              "    <tr style=\"text-align: right;\">\n",
              "      <th></th>\n",
              "      <th>%missing</th>\n",
              "    </tr>\n",
              "  </thead>\n",
              "  <tbody>\n",
              "    <tr>\n",
              "      <th>Medical_History_32</th>\n",
              "      <td>0.981578</td>\n",
              "    </tr>\n",
              "    <tr>\n",
              "      <th>Medical_History_24</th>\n",
              "      <td>0.937066</td>\n",
              "    </tr>\n",
              "    <tr>\n",
              "      <th>Medical_History_15</th>\n",
              "      <td>0.751270</td>\n",
              "    </tr>\n",
              "    <tr>\n",
              "      <th>Family_Hist_5</th>\n",
              "      <td>0.700414</td>\n",
              "    </tr>\n",
              "    <tr>\n",
              "      <th>Family_Hist_3</th>\n",
              "      <td>0.572423</td>\n",
              "    </tr>\n",
              "    <tr>\n",
              "      <th>Family_Hist_2</th>\n",
              "      <td>0.486898</td>\n",
              "    </tr>\n",
              "    <tr>\n",
              "      <th>Insurance_History_5</th>\n",
              "      <td>0.423281</td>\n",
              "    </tr>\n",
              "    <tr>\n",
              "      <th>Family_Hist_4</th>\n",
              "      <td>0.326751</td>\n",
              "    </tr>\n",
              "    <tr>\n",
              "      <th>Response</th>\n",
              "      <td>0.249728</td>\n",
              "    </tr>\n",
              "    <tr>\n",
              "      <th>Employment_Info_6</th>\n",
              "      <td>0.184987</td>\n",
              "    </tr>\n",
              "    <tr>\n",
              "      <th>Medical_History_1</th>\n",
              "      <td>0.149862</td>\n",
              "    </tr>\n",
              "    <tr>\n",
              "      <th>Employment_Info_4</th>\n",
              "      <td>0.112653</td>\n",
              "    </tr>\n",
              "    <tr>\n",
              "      <th>Employment_Info_1</th>\n",
              "      <td>0.000278</td>\n",
              "    </tr>\n",
              "    <tr>\n",
              "      <th>Medical_Keyword_3</th>\n",
              "      <td>0.000000</td>\n",
              "    </tr>\n",
              "  </tbody>\n",
              "</table>\n",
              "</div>"
            ],
            "text/plain": [
              "                     %missing\n",
              "Medical_History_32   0.981578\n",
              "Medical_History_24   0.937066\n",
              "Medical_History_15   0.751270\n",
              "Family_Hist_5        0.700414\n",
              "Family_Hist_3        0.572423\n",
              "Family_Hist_2        0.486898\n",
              "Insurance_History_5  0.423281\n",
              "Family_Hist_4        0.326751\n",
              "Response             0.249728\n",
              "Employment_Info_6    0.184987\n",
              "Medical_History_1    0.149862\n",
              "Employment_Info_4    0.112653\n",
              "Employment_Info_1    0.000278\n",
              "Medical_Keyword_3    0.000000"
            ]
          },
          "metadata": {
            "tags": []
          },
          "execution_count": 113
        }
      ]
    },
    {
      "cell_type": "markdown",
      "metadata": {
        "id": "Siq-AwFHALJy",
        "colab_type": "text"
      },
      "source": [
        "### 3.1.2.Drop Missing >70%"
      ]
    },
    {
      "cell_type": "code",
      "metadata": {
        "id": "g5M4X4sTQi9p",
        "colab_type": "code",
        "outputId": "27615de2-e5c3-41fb-8fc3-0f22eec0b8f5",
        "colab": {
          "base_uri": "https://localhost:8080/",
          "height": 204
        }
      },
      "source": [
        "# drop kolom yang memiliki persentase data missing diatas 70%\n",
        "drop1 = df_missing[df_missing['%missing'] > 0.7]\n",
        "drop1"
      ],
      "execution_count": 114,
      "outputs": [
        {
          "output_type": "execute_result",
          "data": {
            "text/html": [
              "<div>\n",
              "<style scoped>\n",
              "    .dataframe tbody tr th:only-of-type {\n",
              "        vertical-align: middle;\n",
              "    }\n",
              "\n",
              "    .dataframe tbody tr th {\n",
              "        vertical-align: top;\n",
              "    }\n",
              "\n",
              "    .dataframe thead th {\n",
              "        text-align: right;\n",
              "    }\n",
              "</style>\n",
              "<table border=\"1\" class=\"dataframe\">\n",
              "  <thead>\n",
              "    <tr style=\"text-align: right;\">\n",
              "      <th></th>\n",
              "      <th>%missing</th>\n",
              "    </tr>\n",
              "  </thead>\n",
              "  <tbody>\n",
              "    <tr>\n",
              "      <th>Medical_History_10</th>\n",
              "      <td>0.990423</td>\n",
              "    </tr>\n",
              "    <tr>\n",
              "      <th>Medical_History_32</th>\n",
              "      <td>0.981578</td>\n",
              "    </tr>\n",
              "    <tr>\n",
              "      <th>Medical_History_24</th>\n",
              "      <td>0.937066</td>\n",
              "    </tr>\n",
              "    <tr>\n",
              "      <th>Medical_History_15</th>\n",
              "      <td>0.751270</td>\n",
              "    </tr>\n",
              "    <tr>\n",
              "      <th>Family_Hist_5</th>\n",
              "      <td>0.700414</td>\n",
              "    </tr>\n",
              "  </tbody>\n",
              "</table>\n",
              "</div>"
            ],
            "text/plain": [
              "                    %missing\n",
              "Medical_History_10  0.990423\n",
              "Medical_History_32  0.981578\n",
              "Medical_History_24  0.937066\n",
              "Medical_History_15  0.751270\n",
              "Family_Hist_5       0.700414"
            ]
          },
          "metadata": {
            "tags": []
          },
          "execution_count": 114
        }
      ]
    },
    {
      "cell_type": "code",
      "metadata": {
        "id": "1EJiR4KKQ5zX",
        "colab_type": "code",
        "outputId": "5d254da4-f669-455e-ca29-9931fa821d78",
        "colab": {
          "base_uri": "https://localhost:8080/",
          "height": 34
        }
      },
      "source": [
        "#df1 = data dengan menghapus variable dengan missing > 70%\n",
        "df1 = df.copy()\n",
        "df1.drop(columns=drop1.index, inplace=True)\n",
        "df1.shape"
      ],
      "execution_count": 115,
      "outputs": [
        {
          "output_type": "execute_result",
          "data": {
            "text/plain": [
              "(79146, 122)"
            ]
          },
          "metadata": {
            "tags": []
          },
          "execution_count": 115
        }
      ]
    },
    {
      "cell_type": "code",
      "metadata": {
        "id": "TRj5fyInSCKL",
        "colab_type": "code",
        "outputId": "7d13ebf7-fd05-4cbe-b956-2cb59f0de4a8",
        "colab": {
          "base_uri": "https://localhost:8080/",
          "height": 297
        }
      },
      "source": [
        "# missing value < 70%\n",
        "fill_na = df_missing[(df_missing['%missing'] > 0) & (df_missing['%missing'] < 0.7)]\n",
        "fill_na = fill_na.drop(['Response'],axis=0)\n",
        "fill_na"
      ],
      "execution_count": 116,
      "outputs": [
        {
          "output_type": "execute_result",
          "data": {
            "text/html": [
              "<div>\n",
              "<style scoped>\n",
              "    .dataframe tbody tr th:only-of-type {\n",
              "        vertical-align: middle;\n",
              "    }\n",
              "\n",
              "    .dataframe tbody tr th {\n",
              "        vertical-align: top;\n",
              "    }\n",
              "\n",
              "    .dataframe thead th {\n",
              "        text-align: right;\n",
              "    }\n",
              "</style>\n",
              "<table border=\"1\" class=\"dataframe\">\n",
              "  <thead>\n",
              "    <tr style=\"text-align: right;\">\n",
              "      <th></th>\n",
              "      <th>%missing</th>\n",
              "    </tr>\n",
              "  </thead>\n",
              "  <tbody>\n",
              "    <tr>\n",
              "      <th>Family_Hist_3</th>\n",
              "      <td>0.572423</td>\n",
              "    </tr>\n",
              "    <tr>\n",
              "      <th>Family_Hist_2</th>\n",
              "      <td>0.486898</td>\n",
              "    </tr>\n",
              "    <tr>\n",
              "      <th>Insurance_History_5</th>\n",
              "      <td>0.423281</td>\n",
              "    </tr>\n",
              "    <tr>\n",
              "      <th>Family_Hist_4</th>\n",
              "      <td>0.326751</td>\n",
              "    </tr>\n",
              "    <tr>\n",
              "      <th>Employment_Info_6</th>\n",
              "      <td>0.184987</td>\n",
              "    </tr>\n",
              "    <tr>\n",
              "      <th>Medical_History_1</th>\n",
              "      <td>0.149862</td>\n",
              "    </tr>\n",
              "    <tr>\n",
              "      <th>Employment_Info_4</th>\n",
              "      <td>0.112653</td>\n",
              "    </tr>\n",
              "    <tr>\n",
              "      <th>Employment_Info_1</th>\n",
              "      <td>0.000278</td>\n",
              "    </tr>\n",
              "  </tbody>\n",
              "</table>\n",
              "</div>"
            ],
            "text/plain": [
              "                     %missing\n",
              "Family_Hist_3        0.572423\n",
              "Family_Hist_2        0.486898\n",
              "Insurance_History_5  0.423281\n",
              "Family_Hist_4        0.326751\n",
              "Employment_Info_6    0.184987\n",
              "Medical_History_1    0.149862\n",
              "Employment_Info_4    0.112653\n",
              "Employment_Info_1    0.000278"
            ]
          },
          "metadata": {
            "tags": []
          },
          "execution_count": 116
        }
      ]
    },
    {
      "cell_type": "markdown",
      "metadata": {
        "id": "6_M8AnbRAb6r",
        "colab_type": "text"
      },
      "source": [
        "### 3.1.3.Fill Missing Value 0-70%"
      ]
    },
    {
      "cell_type": "code",
      "metadata": {
        "id": "y0Pz_iU15x1T",
        "colab_type": "code",
        "outputId": "cccb360b-4c3b-42b3-c2b5-4ee47033aaf8",
        "colab": {
          "base_uri": "https://localhost:8080/",
          "height": 34
        }
      },
      "source": [
        "# df2 = df1 mengatasi missing value (0%-70%)  \n",
        "df2 = df1.copy()\n",
        "df2 = df2.drop(['Response'],axis=1)\n",
        "df2.shape"
      ],
      "execution_count": 117,
      "outputs": [
        {
          "output_type": "execute_result",
          "data": {
            "text/plain": [
              "(79146, 121)"
            ]
          },
          "metadata": {
            "tags": []
          },
          "execution_count": 117
        }
      ]
    },
    {
      "cell_type": "code",
      "metadata": {
        "id": "WRlDsyqzWjyY",
        "colab_type": "code",
        "outputId": "ea487f7a-a738-4b2c-b62a-f751a0a8d3f6",
        "colab": {
          "base_uri": "https://localhost:8080/",
          "height": 34
        }
      },
      "source": [
        "print('Missing df2 :', (sum(df2.isna().sum())/(df2.shape[0]*df2.shape[1])*100))"
      ],
      "execution_count": 118,
      "outputs": [
        {
          "output_type": "stream",
          "text": [
            "Missing df2 : 1.8653986679706696\n"
          ],
          "name": "stdout"
        }
      ]
    },
    {
      "cell_type": "code",
      "metadata": {
        "id": "VQJNTmB1TMuK",
        "colab_type": "code",
        "outputId": "03c5fcb6-ffe4-4842-d686-d8c02b6c9256",
        "colab": {
          "base_uri": "https://localhost:8080/",
          "height": 463
        }
      },
      "source": [
        "# boxplot for missing data variable\n",
        "f = plt.figure(figsize=(21,7))\n",
        "axes = 240\n",
        "for t in df1[fill_na.index] :\n",
        "    axes += 1\n",
        "    f.add_subplot(axes)\n",
        "    sns.boxplot(data = df1[fill_na.index], x = t)\n",
        "plt.show()"
      ],
      "execution_count": 119,
      "outputs": [
        {
          "output_type": "display_data",
          "data": {
            "image/png": "[encoded data removed]",
            "text/plain": [
              "<Figure size 1512x504 with 8 Axes>"
            ]
          },
          "metadata": {
            "tags": []
          }
        }
      ]
    },
    {
      "cell_type": "code",
      "metadata": {
        "id": "UXiq9PW0VaH0",
        "colab_type": "code",
        "colab": {
          "base_uri": "https://localhost:8080/",
          "height": 224
        },
        "outputId": "625435c3-2a1e-4003-a839-0eea48aa9f3a"
      },
      "source": [
        "df1[fill_na.index].head()"
      ],
      "execution_count": 120,
      "outputs": [
        {
          "output_type": "execute_result",
          "data": {
            "text/html": [
              "<div>\n",
              "<style scoped>\n",
              "    .dataframe tbody tr th:only-of-type {\n",
              "        vertical-align: middle;\n",
              "    }\n",
              "\n",
              "    .dataframe tbody tr th {\n",
              "        vertical-align: top;\n",
              "    }\n",
              "\n",
              "    .dataframe thead th {\n",
              "        text-align: right;\n",
              "    }\n",
              "</style>\n",
              "<table border=\"1\" class=\"dataframe\">\n",
              "  <thead>\n",
              "    <tr style=\"text-align: right;\">\n",
              "      <th></th>\n",
              "      <th>Family_Hist_3</th>\n",
              "      <th>Family_Hist_2</th>\n",
              "      <th>Insurance_History_5</th>\n",
              "      <th>Family_Hist_4</th>\n",
              "      <th>Employment_Info_6</th>\n",
              "      <th>Medical_History_1</th>\n",
              "      <th>Employment_Info_4</th>\n",
              "      <th>Employment_Info_1</th>\n",
              "    </tr>\n",
              "  </thead>\n",
              "  <tbody>\n",
              "    <tr>\n",
              "      <th>0</th>\n",
              "      <td>0.598039</td>\n",
              "      <td>NaN</td>\n",
              "      <td>0.000667</td>\n",
              "      <td>NaN</td>\n",
              "      <td>NaN</td>\n",
              "      <td>4.0</td>\n",
              "      <td>0.0</td>\n",
              "      <td>0.028</td>\n",
              "    </tr>\n",
              "    <tr>\n",
              "      <th>1</th>\n",
              "      <td>NaN</td>\n",
              "      <td>0.188406</td>\n",
              "      <td>0.000133</td>\n",
              "      <td>0.084507</td>\n",
              "      <td>0.0018</td>\n",
              "      <td>5.0</td>\n",
              "      <td>0.0</td>\n",
              "      <td>0.000</td>\n",
              "    </tr>\n",
              "    <tr>\n",
              "      <th>2</th>\n",
              "      <td>NaN</td>\n",
              "      <td>0.304348</td>\n",
              "      <td>NaN</td>\n",
              "      <td>0.225352</td>\n",
              "      <td>0.0300</td>\n",
              "      <td>10.0</td>\n",
              "      <td>0.0</td>\n",
              "      <td>0.030</td>\n",
              "    </tr>\n",
              "    <tr>\n",
              "      <th>3</th>\n",
              "      <td>NaN</td>\n",
              "      <td>0.420290</td>\n",
              "      <td>NaN</td>\n",
              "      <td>0.352113</td>\n",
              "      <td>0.2000</td>\n",
              "      <td>0.0</td>\n",
              "      <td>0.0</td>\n",
              "      <td>0.042</td>\n",
              "    </tr>\n",
              "    <tr>\n",
              "      <th>4</th>\n",
              "      <td>NaN</td>\n",
              "      <td>0.463768</td>\n",
              "      <td>NaN</td>\n",
              "      <td>0.408451</td>\n",
              "      <td>0.0500</td>\n",
              "      <td>NaN</td>\n",
              "      <td>0.0</td>\n",
              "      <td>0.027</td>\n",
              "    </tr>\n",
              "  </tbody>\n",
              "</table>\n",
              "</div>"
            ],
            "text/plain": [
              "   Family_Hist_3  Family_Hist_2  ...  Employment_Info_4  Employment_Info_1\n",
              "0       0.598039            NaN  ...                0.0              0.028\n",
              "1            NaN       0.188406  ...                0.0              0.000\n",
              "2            NaN       0.304348  ...                0.0              0.030\n",
              "3            NaN       0.420290  ...                0.0              0.042\n",
              "4            NaN       0.463768  ...                0.0              0.027\n",
              "\n",
              "[5 rows x 8 columns]"
            ]
          },
          "metadata": {
            "tags": []
          },
          "execution_count": 120
        }
      ]
    },
    {
      "cell_type": "markdown",
      "metadata": {
        "id": "Dao5PA7BSi8w",
        "colab_type": "text"
      },
      "source": [
        "Terdapat 8 variabel missing dengan persentasi missing value yaitu 0% s.d 70%. Berdasarkan info data, maka dapat diketahui variable Insurance_History_5 merupakan variabel kategorik, maka dari itu untuk imputasi menggunakan modus. Dan Untuk variabel Modical_History_1 merupakan variabel dengan tibe data diskrit, maka dapat menggunakan median sebagai imputasi missing value. Untuk variabel lainnya (Family_Hist_3,2,4 dan Employment_Info_1,4,6) merupakan variabel continuous, yang dapat diatasi dengan menggunakan imuptasi median. Imputasi modus digunakan dikarenakan variabel merupakan variabel kategorik sedangkan median digunakan sebagai imputasi missing value pada variabel diskrit dan kontinu dikarenakan berdasarkan box-plot, variabel cendrung memiliki banyak data outlier. "
      ]
    },
    {
      "cell_type": "code",
      "metadata": {
        "id": "vLEVmlQOSh9R",
        "colab_type": "code",
        "outputId": "433d411a-b77d-4528-e46d-2ee8f56d5c5c",
        "colab": {
          "base_uri": "https://localhost:8080/",
          "height": 34
        }
      },
      "source": [
        "# fill missing dengan modus\n",
        "df2['Insurance_History_5'].fillna(df2['Insurance_History_5'].mode()[0], inplace=True)\n",
        "print('Missing df2 :', (sum(df2.isna().sum())/(df2.shape[0]*df2.shape[1])*100))"
      ],
      "execution_count": 121,
      "outputs": [
        {
          "output_type": "stream",
          "text": [
            "Missing df2 : 1.5155796390936052\n"
          ],
          "name": "stdout"
        }
      ]
    },
    {
      "cell_type": "code",
      "metadata": {
        "id": "sWbsKyFOagtV",
        "colab_type": "code",
        "outputId": "cb9e2036-5004-4b55-f84b-47cab793273d",
        "colab": {
          "base_uri": "https://localhost:8080/",
          "height": 34
        }
      },
      "source": [
        "# fill missing dengan median\n",
        "df2.fillna(df2.mean(), inplace=True)\n",
        "print('Missing df2 :', (sum(df2.isna().sum())/(df2.shape[0]*df2.shape[1])*100))"
      ],
      "execution_count": 122,
      "outputs": [
        {
          "output_type": "stream",
          "text": [
            "Missing df2 : 0.0\n"
          ],
          "name": "stdout"
        }
      ]
    },
    {
      "cell_type": "code",
      "metadata": {
        "id": "qGuqWteHM3sr",
        "colab_type": "code",
        "outputId": "b65f704c-75e4-4033-c5ff-0ea6b0537718",
        "colab": {
          "base_uri": "https://localhost:8080/",
          "height": 34
        }
      },
      "source": [
        "df2.shape"
      ],
      "execution_count": 123,
      "outputs": [
        {
          "output_type": "execute_result",
          "data": {
            "text/plain": [
              "(79146, 121)"
            ]
          },
          "metadata": {
            "tags": []
          },
          "execution_count": 123
        }
      ]
    },
    {
      "cell_type": "code",
      "metadata": {
        "id": "jOBsPYc3Qyqt",
        "colab_type": "code",
        "outputId": "15d73d77-efeb-48cc-c5b2-cd245d2b9cd1",
        "colab": {
          "base_uri": "https://localhost:8080/",
          "height": 34
        }
      },
      "source": [
        "df2 = pd.concat([df2,df1['Response']],1)\n",
        "df2.shape"
      ],
      "execution_count": 124,
      "outputs": [
        {
          "output_type": "execute_result",
          "data": {
            "text/plain": [
              "(79146, 122)"
            ]
          },
          "metadata": {
            "tags": []
          },
          "execution_count": 124
        }
      ]
    },
    {
      "cell_type": "markdown",
      "metadata": {
        "id": "XZZCxMuCz2Lg",
        "colab_type": "text"
      },
      "source": [
        "****"
      ]
    },
    {
      "cell_type": "code",
      "metadata": {
        "id": "gixg7ehTz3Kl",
        "colab_type": "code",
        "colab": {
          "base_uri": "https://localhost:8080/",
          "height": 34
        },
        "outputId": "1aed145a-ea88-4169-adec-75dbc3467d7a"
      },
      "source": [
        "df3 = df1.copy()\n",
        "df3 = df3.drop(['Response'],axis=1)\n",
        "\n",
        "# fill missing dengan modus\n",
        "df3['Insurance_History_5'].fillna(df2['Insurance_History_5'].mode()[0], inplace=True)\n",
        "df3.fillna(df3.median(), inplace=True)\n",
        "\n",
        "df3 = pd.concat([df3,df1['Response']],1)\n",
        "df3.shape"
      ],
      "execution_count": 125,
      "outputs": [
        {
          "output_type": "execute_result",
          "data": {
            "text/plain": [
              "(79146, 122)"
            ]
          },
          "metadata": {
            "tags": []
          },
          "execution_count": 125
        }
      ]
    },
    {
      "cell_type": "markdown",
      "metadata": {
        "id": "4fv4HvEnaunU",
        "colab_type": "text"
      },
      "source": [
        "****"
      ]
    },
    {
      "cell_type": "markdown",
      "metadata": {
        "id": "rVtuNtFJI6kR",
        "colab_type": "text"
      },
      "source": [
        "## 3.2.Outlier"
      ]
    },
    {
      "cell_type": "code",
      "metadata": {
        "id": "BX5yhjpuXRL5",
        "colab_type": "code",
        "colab": {}
      },
      "source": [
        "# # df3 = df2 mengatasi outlier  \n",
        "# df3 = df2.copy()"
      ],
      "execution_count": 0,
      "outputs": []
    },
    {
      "cell_type": "code",
      "metadata": {
        "id": "D5TYZt59JCPp",
        "colab_type": "code",
        "colab": {}
      },
      "source": [
        "# from scipy import stats\n",
        "# z = np.abs(stats.zscore(df3))\n",
        "# print(z)"
      ],
      "execution_count": 0,
      "outputs": []
    },
    {
      "cell_type": "code",
      "metadata": {
        "id": "UnY8fa_cJIOe",
        "colab_type": "code",
        "colab": {}
      },
      "source": [
        "# threshold = 3\n",
        "# print(np.where(z > 3))\n",
        "\n",
        "# Q1 = df2.quantile(0.25)\n",
        "# Q3 = df2.quantile(0.75)\n",
        "# IQR = Q3 - Q1\n",
        "# print(IQR)\n",
        "\n",
        "# df3 = df3[(z < 3).all(axis=1)]\n",
        "# df3.shape"
      ],
      "execution_count": 0,
      "outputs": []
    },
    {
      "cell_type": "markdown",
      "metadata": {
        "id": "shQqugrNAnno",
        "colab_type": "text"
      },
      "source": [
        "## 3.3.Get Dummies\n",
        "Karena data Product_Info_2 masih berupa category maka agar dapat dimasukkan dalam model."
      ]
    },
    {
      "cell_type": "code",
      "metadata": {
        "colab_type": "code",
        "outputId": "9914e153-01b2-474d-dcd8-077dea476583",
        "id": "TrjLN-f5Mvma",
        "colab": {
          "base_uri": "https://localhost:8080/",
          "height": 34
        }
      },
      "source": [
        "df2_1 = df2.copy()\n",
        "df2_1 = pd.get_dummies(df2_1)\n",
        "df2_1.shape"
      ],
      "execution_count": 126,
      "outputs": [
        {
          "output_type": "execute_result",
          "data": {
            "text/plain": [
              "(79146, 140)"
            ]
          },
          "metadata": {
            "tags": []
          },
          "execution_count": 126
        }
      ]
    },
    {
      "cell_type": "code",
      "metadata": {
        "id": "7SJmg1aa0U3Q",
        "colab_type": "code",
        "colab": {
          "base_uri": "https://localhost:8080/",
          "height": 34
        },
        "outputId": "8b1a18ab-c23e-429e-b4ed-2fb4cbedf6bf"
      },
      "source": [
        "df3_1 = df3.copy()\n",
        "df3_1 = pd.get_dummies(df3_1)\n",
        "df3_1.shape"
      ],
      "execution_count": 127,
      "outputs": [
        {
          "output_type": "execute_result",
          "data": {
            "text/plain": [
              "(79146, 140)"
            ]
          },
          "metadata": {
            "tags": []
          },
          "execution_count": 127
        }
      ]
    },
    {
      "cell_type": "markdown",
      "metadata": {
        "id": "taVZmWIX4ktt",
        "colab_type": "text"
      },
      "source": [
        "****"
      ]
    },
    {
      "cell_type": "markdown",
      "metadata": {
        "id": "Mg_GkR_l4I0M",
        "colab_type": "text"
      },
      "source": [
        "## 3.4.Multicolinearity"
      ]
    },
    {
      "cell_type": "code",
      "metadata": {
        "colab_type": "code",
        "outputId": "dbab7a92-8946-45a2-95ca-94b87cb48348",
        "id": "fXImjY0cMqTV",
        "colab": {
          "base_uri": "https://localhost:8080/",
          "height": 34
        }
      },
      "source": [
        "df2_1_1 = df2_1.copy()\n",
        "df2_1_1 = df2_1_1.drop(['Response'],axis=1)\n",
        "df2_1_1.shape"
      ],
      "execution_count": 128,
      "outputs": [
        {
          "output_type": "execute_result",
          "data": {
            "text/plain": [
              "(79146, 139)"
            ]
          },
          "metadata": {
            "tags": []
          },
          "execution_count": 128
        }
      ]
    },
    {
      "cell_type": "code",
      "metadata": {
        "id": "vpTpJUUk4A8z",
        "colab_type": "code",
        "colab": {}
      },
      "source": [
        "# Create correlation matrix\n",
        "corr_matrix = df2_1_1.corr().abs()"
      ],
      "execution_count": 0,
      "outputs": []
    },
    {
      "cell_type": "code",
      "metadata": {
        "id": "U0MKuQThaShj",
        "colab_type": "code",
        "colab": {}
      },
      "source": [
        "# Select upper triangle of correlation matrix\n",
        "upper = corr_matrix.where(np.triu(np.ones(corr_matrix.shape), k=1).astype(np.bool))"
      ],
      "execution_count": 0,
      "outputs": []
    },
    {
      "cell_type": "code",
      "metadata": {
        "id": "QXNTGlg_ZaFg",
        "colab_type": "code",
        "outputId": "ca307b71-98d2-431f-db85-e0e35f01671a",
        "colab": {
          "base_uri": "https://localhost:8080/",
          "height": 289
        }
      },
      "source": [
        "#Find index of feature columns with correlation above 0.7\n",
        "drop2=[column for column in upper.columns if any(upper[column] >= 0.7)]\n",
        "drop2[:]"
      ],
      "execution_count": 131,
      "outputs": [
        {
          "output_type": "execute_result",
          "data": {
            "text/plain": [
              "['Employment_Info_3',\n",
              " 'Insurance_History_4',\n",
              " 'Insurance_History_7',\n",
              " 'Insurance_History_8',\n",
              " 'Insurance_History_9',\n",
              " 'InsuredInfo_6',\n",
              " 'Medical_History_26',\n",
              " 'Medical_History_36',\n",
              " 'Medical_Keyword_11',\n",
              " 'Medical_Keyword_15',\n",
              " 'Medical_Keyword_23',\n",
              " 'Medical_Keyword_3',\n",
              " 'Medical_Keyword_30',\n",
              " 'Medical_Keyword_48',\n",
              " 'Product_Info_3',\n",
              " 'Wt']"
            ]
          },
          "metadata": {
            "tags": []
          },
          "execution_count": 131
        }
      ]
    },
    {
      "cell_type": "code",
      "metadata": {
        "id": "w5123wyR5oAJ",
        "colab_type": "code",
        "outputId": "e39ca23e-c8cd-4213-d67b-12d2c232519a",
        "colab": {
          "base_uri": "https://localhost:8080/",
          "height": 34
        }
      },
      "source": [
        "df2_1_1=df2_1_1.drop(columns=drop2)\n",
        "df2_1_1 = pd.concat([df2_1_1,df2_1['Response']],1)\n",
        "df2_1_1.shape"
      ],
      "execution_count": 132,
      "outputs": [
        {
          "output_type": "execute_result",
          "data": {
            "text/plain": [
              "(79146, 124)"
            ]
          },
          "metadata": {
            "tags": []
          },
          "execution_count": 132
        }
      ]
    },
    {
      "cell_type": "markdown",
      "metadata": {
        "id": "NhngNOtm0dGi",
        "colab_type": "text"
      },
      "source": [
        "****"
      ]
    },
    {
      "cell_type": "code",
      "metadata": {
        "id": "FWqYdqTM0cH1",
        "colab_type": "code",
        "colab": {
          "base_uri": "https://localhost:8080/",
          "height": 34
        },
        "outputId": "f2eb1de7-4070-4ef7-ecef-2ada71aedd7b"
      },
      "source": [
        "df3_1_1 = df3_1.copy()\n",
        "df3_1_1 = df3_1_1.drop(['Response'],axis=1)\n",
        "\n",
        "corr_matrix3 = df3_1_1.corr().abs()\n",
        "upper3 = corr_matrix3.where(np.triu(np.ones(corr_matrix3.shape), k=1).astype(np.bool))\n",
        "\n",
        "drop3=[column for column in upper3.columns if any(upper3[column] >= 0.7)]\n",
        "\n",
        "df3_1_1 = df3_1_1.drop(columns=drop3)\n",
        "df3_1_1 = pd.concat([df3_1_1, df3_1['Response']],1)\n",
        "df3_1_1.shape"
      ],
      "execution_count": 133,
      "outputs": [
        {
          "output_type": "execute_result",
          "data": {
            "text/plain": [
              "(79146, 124)"
            ]
          },
          "metadata": {
            "tags": []
          },
          "execution_count": 133
        }
      ]
    },
    {
      "cell_type": "markdown",
      "metadata": {
        "id": "dEy-eXS-375p",
        "colab_type": "text"
      },
      "source": [
        "****"
      ]
    },
    {
      "cell_type": "markdown",
      "metadata": {
        "id": "EbDze5wDBvEw",
        "colab_type": "text"
      },
      "source": [
        "# 4.BALANCING"
      ]
    },
    {
      "cell_type": "code",
      "metadata": {
        "id": "BKrU4DqJfe0e",
        "colab_type": "code",
        "outputId": "755d1aa3-2eb2-4612-9a44-c7900734ed01",
        "colab": {
          "base_uri": "https://localhost:8080/",
          "height": 68
        }
      },
      "source": [
        "df2_1_1['Response'].value_counts(normalize=True) * 100"
      ],
      "execution_count": 65,
      "outputs": [
        {
          "output_type": "execute_result",
          "data": {
            "text/plain": [
              "0.0    74.402587\n",
              "1.0    25.597413\n",
              "Name: Response, dtype: float64"
            ]
          },
          "metadata": {
            "tags": []
          },
          "execution_count": 65
        }
      ]
    },
    {
      "cell_type": "markdown",
      "metadata": {
        "id": "cN015Zh4A_Dz",
        "colab_type": "text"
      },
      "source": [
        "## SMOTE"
      ]
    },
    {
      "cell_type": "code",
      "metadata": {
        "id": "Ssze3JEXBBnt",
        "colab_type": "code",
        "colab": {}
      },
      "source": [
        "from imblearn.over_sampling import SMOTE, ADASYN\n",
        "sm = SMOTE (random_state=42)\n",
        "SMOTE()\n",
        "X_train_se, y_train_se = sm.fit_resample(X, y)"
      ],
      "execution_count": 0,
      "outputs": []
    },
    {
      "cell_type": "code",
      "metadata": {
        "id": "iYskfsTLUFj0",
        "colab_type": "code",
        "outputId": "e1d78720-a03d-442e-8fb7-afa9d8692624",
        "colab": {
          "base_uri": "https://localhost:8080/",
          "height": 34
        }
      },
      "source": [
        "(y_train_se==0).sum(), (y_train_se==1).sum()"
      ],
      "execution_count": 0,
      "outputs": [
        {
          "output_type": "execute_result",
          "data": {
            "text/plain": [
              "(27980, 27980)"
            ]
          },
          "metadata": {
            "tags": []
          },
          "execution_count": 92
        }
      ]
    },
    {
      "cell_type": "markdown",
      "metadata": {
        "id": "LQSitTsWwKZe",
        "colab_type": "text"
      },
      "source": [
        "****"
      ]
    },
    {
      "cell_type": "markdown",
      "metadata": {
        "id": "h_SS--6DsTn_",
        "colab_type": "text"
      },
      "source": [
        "# 5.MODELLING"
      ]
    },
    {
      "cell_type": "code",
      "metadata": {
        "id": "qwF7RtW-wgeu",
        "colab_type": "code",
        "colab": {}
      },
      "source": [
        "# Modelling Algorithms\n",
        "from sklearn.tree import DecisionTreeClassifier\n",
        "from sklearn.linear_model import LogisticRegression\n",
        "from sklearn.neighbors import KNeighborsClassifier\n",
        "from sklearn.naive_bayes import GaussianNB\n",
        "from sklearn.svm import SVC, LinearSVC\n",
        "from sklearn.ensemble import RandomForestClassifier , GradientBoostingClassifier\n",
        "from sklearn.ensemble import ExtraTreesClassifier\n",
        "from sklearn.metrics import make_scorer,accuracy_score,roc_auc_score,precision_score,recall_score,f1_score,log_loss\n",
        "from xgboost import XGBClassifier\n",
        "\n",
        "## collect all model in one list\n",
        "all_model = [DecisionTreeClassifier,\n",
        "             LogisticRegression,\n",
        "             KNeighborsClassifier,\n",
        "             GaussianNB,\n",
        "             SVC,\n",
        "             LinearSVC,\n",
        "             RandomForestClassifier,\n",
        "             GradientBoostingClassifier,\n",
        "             XGBClassifier,\n",
        "             ExtraTreesClassifier]            \n",
        "all_model\n",
        "model_name = ['DecisionTreeClassifier',\n",
        "             'LogisticRegression',\n",
        "             'KNeighborsClassifier',\n",
        "             'GaussianNB',\n",
        "             'SVC',\n",
        "             'LinearSVC',\n",
        "             'RandomForestClassifier',\n",
        "             'GradientBoostingClassifier',\n",
        "             'XGBClassifier',\n",
        "             'ExtraTreesClassifier']\n"
      ],
      "execution_count": 0,
      "outputs": []
    },
    {
      "cell_type": "markdown",
      "metadata": {
        "id": "k-rD6IAJ9JUI",
        "colab_type": "text"
      },
      "source": [
        "## Model 0 : Missing Value (Mean), Get Dummies"
      ]
    },
    {
      "cell_type": "code",
      "metadata": {
        "id": "lSBt7Jzs9FbB",
        "colab_type": "code",
        "colab": {
          "base_uri": "https://localhost:8080/",
          "height": 34
        },
        "outputId": "5ced15c2-e27d-4a8a-bf26-1480afe319f3"
      },
      "source": [
        "df_train = df2_1[:59381]\n",
        "df_test = df2_1[59381:]\n",
        "\n",
        "X = df_train.drop(['Response'], axis =1)\n",
        "y = df_train['Response']\n",
        "\n",
        "# data Test and aata Train\n",
        "X_train0, X_test, y_train0, y_test = train_test_split(X, y, test_size = 0.3, random_state = 0)\n",
        "print('X train shape =',(X_train0.shape), \"||\" ,'X testing shape =', (X_test.shape))"
      ],
      "execution_count": 83,
      "outputs": [
        {
          "output_type": "stream",
          "text": [
            "X train shape = (41566, 139) || X testing shape = (17815, 139)\n"
          ],
          "name": "stdout"
        }
      ]
    },
    {
      "cell_type": "code",
      "metadata": {
        "id": "4L3OJvff9hfe",
        "colab_type": "code",
        "colab": {
          "base_uri": "https://localhost:8080/",
          "height": 207
        },
        "outputId": "d303ffeb-052a-4dd1-a2fb-d5c80fe3073d"
      },
      "source": [
        "## loop for all model\n",
        "\n",
        "datatr = []\n",
        "datasc = []\n",
        "Recall =[]\n",
        "Precision =[]\n",
        "auc =[]\n",
        "\n",
        "all_model0 = all_model\n",
        "\n",
        "for i in all_model0:\n",
        "    model = i()\n",
        "    model.fit(X_train0,y_train0)\n",
        "    y_pred=model.predict(X_test)\n",
        "    datatr.append(model.score( X_train0 , y_train0))\n",
        "    datasc.append(model.score( X_test , y_test ))\n",
        "    Recall.append(recall_score(y_test,y_pred))\n",
        "    Precision.append(precision_score(y_test,y_pred))\n",
        "    auc.append(roc_auc_score(y_test,y_pred))"
      ],
      "execution_count": 84,
      "outputs": [
        {
          "output_type": "stream",
          "text": [
            "/usr/local/lib/python3.6/dist-packages/sklearn/linear_model/logistic.py:432: FutureWarning: Default solver will be changed to 'lbfgs' in 0.22. Specify a solver to silence this warning.\n",
            "  FutureWarning)\n",
            "/usr/local/lib/python3.6/dist-packages/sklearn/svm/base.py:193: FutureWarning: The default value of gamma will change from 'auto' to 'scale' in version 0.22 to account better for unscaled features. Set gamma explicitly to 'auto' or 'scale' to avoid this warning.\n",
            "  \"avoid this warning.\", FutureWarning)\n",
            "/usr/local/lib/python3.6/dist-packages/sklearn/svm/base.py:929: ConvergenceWarning: Liblinear failed to converge, increase the number of iterations.\n",
            "  \"the number of iterations.\", ConvergenceWarning)\n",
            "/usr/local/lib/python3.6/dist-packages/sklearn/ensemble/forest.py:245: FutureWarning: The default value of n_estimators will change from 10 in version 0.20 to 100 in 0.22.\n",
            "  \"10 in version 0.20 to 100 in 0.22.\", FutureWarning)\n",
            "/usr/local/lib/python3.6/dist-packages/sklearn/ensemble/forest.py:245: FutureWarning: The default value of n_estimators will change from 10 in version 0.20 to 100 in 0.22.\n",
            "  \"10 in version 0.20 to 100 in 0.22.\", FutureWarning)\n"
          ],
          "name": "stderr"
        }
      ]
    },
    {
      "cell_type": "code",
      "metadata": {
        "id": "x5EPKrpeJ3eD",
        "colab_type": "code",
        "colab": {
          "base_uri": "https://localhost:8080/",
          "height": 359
        },
        "outputId": "cb0d1883-ee1e-4266-95d9-dcd036586609"
      },
      "source": [
        "## compare model each other\n",
        "\n",
        "data0 = pd.DataFrame()\n",
        "data0['model'] = all_model0\n",
        "data0['Accuracy training'] = datatr\n",
        "data0['Accuracy test'] = datasc\n",
        "data0['Precision'] = Precision\n",
        "data0['Recall']= Recall\n",
        "data0['AUC']=auc\n",
        "data0['gap'] = abs(data0['Accuracy training'] - data0['Accuracy test'])\n",
        "data0['model'] = model_name\n",
        "data0.sort_values(by='Accuracy test',ascending=False)"
      ],
      "execution_count": 99,
      "outputs": [
        {
          "output_type": "execute_result",
          "data": {
            "text/html": [
              "<div>\n",
              "<style scoped>\n",
              "    .dataframe tbody tr th:only-of-type {\n",
              "        vertical-align: middle;\n",
              "    }\n",
              "\n",
              "    .dataframe tbody tr th {\n",
              "        vertical-align: top;\n",
              "    }\n",
              "\n",
              "    .dataframe thead th {\n",
              "        text-align: right;\n",
              "    }\n",
              "</style>\n",
              "<table border=\"1\" class=\"dataframe\">\n",
              "  <thead>\n",
              "    <tr style=\"text-align: right;\">\n",
              "      <th></th>\n",
              "      <th>model</th>\n",
              "      <th>Accuracy training</th>\n",
              "      <th>Accuracy test</th>\n",
              "      <th>Precision</th>\n",
              "      <th>Recall</th>\n",
              "      <th>AUC</th>\n",
              "      <th>gap</th>\n",
              "    </tr>\n",
              "  </thead>\n",
              "  <tbody>\n",
              "    <tr>\n",
              "      <th>8</th>\n",
              "      <td>XGBClassifier</td>\n",
              "      <td>0.854536</td>\n",
              "      <td>0.796015</td>\n",
              "      <td>0.666036</td>\n",
              "      <td>0.389936</td>\n",
              "      <td>0.661820</td>\n",
              "      <td>0.058521</td>\n",
              "    </tr>\n",
              "    <tr>\n",
              "      <th>7</th>\n",
              "      <td>GradientBoostingClassifier</td>\n",
              "      <td>0.856965</td>\n",
              "      <td>0.795116</td>\n",
              "      <td>0.658797</td>\n",
              "      <td>0.395921</td>\n",
              "      <td>0.663197</td>\n",
              "      <td>0.061848</td>\n",
              "    </tr>\n",
              "    <tr>\n",
              "      <th>9</th>\n",
              "      <td>ExtraTreesClassifier</td>\n",
              "      <td>1.000000</td>\n",
              "      <td>0.776930</td>\n",
              "      <td>0.600826</td>\n",
              "      <td>0.354689</td>\n",
              "      <td>0.637394</td>\n",
              "      <td>0.223070</td>\n",
              "    </tr>\n",
              "    <tr>\n",
              "      <th>6</th>\n",
              "      <td>RandomForestClassifier</td>\n",
              "      <td>0.990770</td>\n",
              "      <td>0.775414</td>\n",
              "      <td>0.598608</td>\n",
              "      <td>0.343161</td>\n",
              "      <td>0.632570</td>\n",
              "      <td>0.215356</td>\n",
              "    </tr>\n",
              "    <tr>\n",
              "      <th>3</th>\n",
              "      <td>GaussianNB</td>\n",
              "      <td>0.652751</td>\n",
              "      <td>0.736065</td>\n",
              "      <td>0.481694</td>\n",
              "      <td>0.557083</td>\n",
              "      <td>0.676918</td>\n",
              "      <td>0.083314</td>\n",
              "    </tr>\n",
              "    <tr>\n",
              "      <th>1</th>\n",
              "      <td>LogisticRegression</td>\n",
              "      <td>0.726463</td>\n",
              "      <td>0.733876</td>\n",
              "      <td>0.482400</td>\n",
              "      <td>0.698736</td>\n",
              "      <td>0.722264</td>\n",
              "      <td>0.007413</td>\n",
              "    </tr>\n",
              "    <tr>\n",
              "      <th>5</th>\n",
              "      <td>LinearSVC</td>\n",
              "      <td>0.581274</td>\n",
              "      <td>0.709683</td>\n",
              "      <td>0.412357</td>\n",
              "      <td>0.344713</td>\n",
              "      <td>0.589073</td>\n",
              "      <td>0.128409</td>\n",
              "    </tr>\n",
              "    <tr>\n",
              "      <th>0</th>\n",
              "      <td>DecisionTreeClassifier</td>\n",
              "      <td>1.000000</td>\n",
              "      <td>0.708167</td>\n",
              "      <td>0.428778</td>\n",
              "      <td>0.459100</td>\n",
              "      <td>0.625859</td>\n",
              "      <td>0.291833</td>\n",
              "    </tr>\n",
              "    <tr>\n",
              "      <th>4</th>\n",
              "      <td>SVC</td>\n",
              "      <td>0.780694</td>\n",
              "      <td>0.697278</td>\n",
              "      <td>0.430133</td>\n",
              "      <td>0.601862</td>\n",
              "      <td>0.665746</td>\n",
              "      <td>0.083417</td>\n",
              "    </tr>\n",
              "    <tr>\n",
              "      <th>2</th>\n",
              "      <td>KNeighborsClassifier</td>\n",
              "      <td>0.838019</td>\n",
              "      <td>0.586809</td>\n",
              "      <td>0.320935</td>\n",
              "      <td>0.566172</td>\n",
              "      <td>0.579989</td>\n",
              "      <td>0.251210</td>\n",
              "    </tr>\n",
              "  </tbody>\n",
              "</table>\n",
              "</div>"
            ],
            "text/plain": [
              "                        model  Accuracy training  ...       AUC       gap\n",
              "8               XGBClassifier           0.854536  ...  0.661820  0.058521\n",
              "7  GradientBoostingClassifier           0.856965  ...  0.663197  0.061848\n",
              "9        ExtraTreesClassifier           1.000000  ...  0.637394  0.223070\n",
              "6      RandomForestClassifier           0.990770  ...  0.632570  0.215356\n",
              "3                  GaussianNB           0.652751  ...  0.676918  0.083314\n",
              "1          LogisticRegression           0.726463  ...  0.722264  0.007413\n",
              "5                   LinearSVC           0.581274  ...  0.589073  0.128409\n",
              "0      DecisionTreeClassifier           1.000000  ...  0.625859  0.291833\n",
              "4                         SVC           0.780694  ...  0.665746  0.083417\n",
              "2        KNeighborsClassifier           0.838019  ...  0.579989  0.251210\n",
              "\n",
              "[10 rows x 7 columns]"
            ]
          },
          "metadata": {
            "tags": []
          },
          "execution_count": 99
        }
      ]
    },
    {
      "cell_type": "markdown",
      "metadata": {
        "id": "tyyJq0oRbZJ5",
        "colab_type": "text"
      },
      "source": [
        "## Model 1: Missing Value (Mean), Get Dummies, Multicolinearity"
      ]
    },
    {
      "cell_type": "code",
      "metadata": {
        "id": "aWya06YhuE6X",
        "colab_type": "code",
        "colab": {}
      },
      "source": [
        "df_train = df2_1_1[:59381]\n",
        "df_test = df2_1_1[59381:]"
      ],
      "execution_count": 0,
      "outputs": []
    },
    {
      "cell_type": "code",
      "metadata": {
        "id": "91Yq_PU5uMHI",
        "colab_type": "code",
        "colab": {
          "base_uri": "https://localhost:8080/",
          "height": 34
        },
        "outputId": "7397a5ce-9070-4ffc-d23d-cb6e31fa90d0"
      },
      "source": [
        "X = df_train.drop(['Response'], axis =1)\n",
        "y = df_train['Response']\n",
        "\n",
        "print('X train shape =',(X.shape), \"||\" ,'y train shape =', (y.shape) )"
      ],
      "execution_count": 62,
      "outputs": [
        {
          "output_type": "stream",
          "text": [
            "X train shape = (59381, 123) || y train shape = (59381,)\n"
          ],
          "name": "stdout"
        }
      ]
    },
    {
      "cell_type": "code",
      "metadata": {
        "id": "WlXDLLz_uVSG",
        "colab_type": "code",
        "colab": {
          "base_uri": "https://localhost:8080/",
          "height": 34
        },
        "outputId": "c56d8139-4cf5-4395-e545-878b4a18d3f5"
      },
      "source": [
        "# data Test and aata Train\n",
        "from sklearn.model_selection import train_test_split\n",
        "X_train, X_test, y_train, y_test = train_test_split(X, y, test_size = 0.3, random_state = 0)\n",
        "print('X train shape =',(X_train.shape), \"||\" ,'X testing shape =', (X_test.shape))"
      ],
      "execution_count": 63,
      "outputs": [
        {
          "output_type": "stream",
          "text": [
            "X train shape = (41566, 123) || X testing shape = (17815, 123)\n"
          ],
          "name": "stdout"
        }
      ]
    },
    {
      "cell_type": "markdown",
      "metadata": {
        "id": "QLzzGylduekn",
        "colab_type": "text"
      },
      "source": [
        "****"
      ]
    },
    {
      "cell_type": "code",
      "metadata": {
        "id": "E1PXTjySJzNb",
        "colab_type": "code",
        "outputId": "7b9c833c-254f-41bc-8912-93bcecd94135",
        "colab": {
          "base_uri": "https://localhost:8080/",
          "height": 207
        }
      },
      "source": [
        "## loop for all model\n",
        "\n",
        "datatr = []\n",
        "datasc = []\n",
        "Recall =[]\n",
        "Precision =[]\n",
        "auc =[]\n",
        "\n",
        "all_model1 = all_model\n",
        "\n",
        "for i in all_model1:\n",
        "    model = i()\n",
        "    model.fit(X_train,y_train)\n",
        "    y_pred=model.predict(X_test)\n",
        "    datatr.append(model.score( X_train , y_train ))\n",
        "    datasc.append(model.score( X_test , y_test ))\n",
        "    Recall.append(recall_score(y_test,y_pred))\n",
        "    Precision.append(precision_score(y_test,y_pred))\n",
        "    auc.append(roc_auc_score(y_test,y_pred))"
      ],
      "execution_count": 67,
      "outputs": [
        {
          "output_type": "stream",
          "text": [
            "/usr/local/lib/python3.6/dist-packages/sklearn/linear_model/logistic.py:432: FutureWarning: Default solver will be changed to 'lbfgs' in 0.22. Specify a solver to silence this warning.\n",
            "  FutureWarning)\n",
            "/usr/local/lib/python3.6/dist-packages/sklearn/svm/base.py:193: FutureWarning: The default value of gamma will change from 'auto' to 'scale' in version 0.22 to account better for unscaled features. Set gamma explicitly to 'auto' or 'scale' to avoid this warning.\n",
            "  \"avoid this warning.\", FutureWarning)\n",
            "/usr/local/lib/python3.6/dist-packages/sklearn/svm/base.py:929: ConvergenceWarning: Liblinear failed to converge, increase the number of iterations.\n",
            "  \"the number of iterations.\", ConvergenceWarning)\n",
            "/usr/local/lib/python3.6/dist-packages/sklearn/ensemble/forest.py:245: FutureWarning: The default value of n_estimators will change from 10 in version 0.20 to 100 in 0.22.\n",
            "  \"10 in version 0.20 to 100 in 0.22.\", FutureWarning)\n",
            "/usr/local/lib/python3.6/dist-packages/sklearn/ensemble/forest.py:245: FutureWarning: The default value of n_estimators will change from 10 in version 0.20 to 100 in 0.22.\n",
            "  \"10 in version 0.20 to 100 in 0.22.\", FutureWarning)\n"
          ],
          "name": "stderr"
        }
      ]
    },
    {
      "cell_type": "code",
      "metadata": {
        "id": "kgBbzd_zJ9ZE",
        "colab_type": "code",
        "outputId": "c493679b-571d-48f3-fc80-461b2ca1ca3b",
        "colab": {
          "base_uri": "https://localhost:8080/",
          "height": 359
        }
      },
      "source": [
        "## compare model each other\n",
        "\n",
        "data1 = pd.DataFrame()\n",
        "data1['model'] = all_model1\n",
        "data1['Accuracy training'] = datatr\n",
        "data1['Accuracy test'] = datasc\n",
        "data1['Precision'] = Precision\n",
        "data1['Recall']= Recall\n",
        "data1['AUC']=auc\n",
        "data1['gap'] = abs(data1['Accuracy training'] - data1['Accuracy test'])\n",
        "data1['model'] = model_name\n",
        "data1.sort_values(by='Accuracy test',ascending=False)"
      ],
      "execution_count": 69,
      "outputs": [
        {
          "output_type": "execute_result",
          "data": {
            "text/html": [
              "<div>\n",
              "<style scoped>\n",
              "    .dataframe tbody tr th:only-of-type {\n",
              "        vertical-align: middle;\n",
              "    }\n",
              "\n",
              "    .dataframe tbody tr th {\n",
              "        vertical-align: top;\n",
              "    }\n",
              "\n",
              "    .dataframe thead th {\n",
              "        text-align: right;\n",
              "    }\n",
              "</style>\n",
              "<table border=\"1\" class=\"dataframe\">\n",
              "  <thead>\n",
              "    <tr style=\"text-align: right;\">\n",
              "      <th></th>\n",
              "      <th>model</th>\n",
              "      <th>Accuracy training</th>\n",
              "      <th>Accuracy test</th>\n",
              "      <th>Precision</th>\n",
              "      <th>Recall</th>\n",
              "      <th>AUC</th>\n",
              "      <th>gap</th>\n",
              "    </tr>\n",
              "  </thead>\n",
              "  <tbody>\n",
              "    <tr>\n",
              "      <th>8</th>\n",
              "      <td>XGBClassifier</td>\n",
              "      <td>0.797142</td>\n",
              "      <td>0.795116</td>\n",
              "      <td>0.709489</td>\n",
              "      <td>0.323210</td>\n",
              "      <td>0.639168</td>\n",
              "      <td>0.002025</td>\n",
              "    </tr>\n",
              "    <tr>\n",
              "      <th>7</th>\n",
              "      <td>GradientBoostingClassifier</td>\n",
              "      <td>0.799235</td>\n",
              "      <td>0.794724</td>\n",
              "      <td>0.701415</td>\n",
              "      <td>0.329639</td>\n",
              "      <td>0.641029</td>\n",
              "      <td>0.004511</td>\n",
              "    </tr>\n",
              "    <tr>\n",
              "      <th>1</th>\n",
              "      <td>LogisticRegression</td>\n",
              "      <td>0.788746</td>\n",
              "      <td>0.794218</td>\n",
              "      <td>0.671818</td>\n",
              "      <td>0.366216</td>\n",
              "      <td>0.652779</td>\n",
              "      <td>0.005473</td>\n",
              "    </tr>\n",
              "    <tr>\n",
              "      <th>5</th>\n",
              "      <td>LinearSVC</td>\n",
              "      <td>0.781360</td>\n",
              "      <td>0.784732</td>\n",
              "      <td>0.691176</td>\n",
              "      <td>0.270893</td>\n",
              "      <td>0.614927</td>\n",
              "      <td>0.003372</td>\n",
              "    </tr>\n",
              "    <tr>\n",
              "      <th>6</th>\n",
              "      <td>RandomForestClassifier</td>\n",
              "      <td>0.982438</td>\n",
              "      <td>0.779399</td>\n",
              "      <td>0.637743</td>\n",
              "      <td>0.298160</td>\n",
              "      <td>0.620367</td>\n",
              "      <td>0.203038</td>\n",
              "    </tr>\n",
              "    <tr>\n",
              "      <th>9</th>\n",
              "      <td>ExtraTreesClassifier</td>\n",
              "      <td>1.000000</td>\n",
              "      <td>0.777154</td>\n",
              "      <td>0.622676</td>\n",
              "      <td>0.304367</td>\n",
              "      <td>0.620915</td>\n",
              "      <td>0.222846</td>\n",
              "    </tr>\n",
              "    <tr>\n",
              "      <th>4</th>\n",
              "      <td>SVC</td>\n",
              "      <td>0.771857</td>\n",
              "      <td>0.764412</td>\n",
              "      <td>0.667377</td>\n",
              "      <td>0.138772</td>\n",
              "      <td>0.557660</td>\n",
              "      <td>0.007445</td>\n",
              "    </tr>\n",
              "    <tr>\n",
              "      <th>2</th>\n",
              "      <td>KNeighborsClassifier</td>\n",
              "      <td>0.795626</td>\n",
              "      <td>0.741622</td>\n",
              "      <td>0.468707</td>\n",
              "      <td>0.152738</td>\n",
              "      <td>0.547017</td>\n",
              "      <td>0.054004</td>\n",
              "    </tr>\n",
              "    <tr>\n",
              "      <th>3</th>\n",
              "      <td>GaussianNB</td>\n",
              "      <td>0.720300</td>\n",
              "      <td>0.722425</td>\n",
              "      <td>0.453152</td>\n",
              "      <td>0.465307</td>\n",
              "      <td>0.637457</td>\n",
              "      <td>0.002125</td>\n",
              "    </tr>\n",
              "    <tr>\n",
              "      <th>0</th>\n",
              "      <td>DecisionTreeClassifier</td>\n",
              "      <td>1.000000</td>\n",
              "      <td>0.703452</td>\n",
              "      <td>0.418771</td>\n",
              "      <td>0.441144</td>\n",
              "      <td>0.616769</td>\n",
              "      <td>0.296548</td>\n",
              "    </tr>\n",
              "  </tbody>\n",
              "</table>\n",
              "</div>"
            ],
            "text/plain": [
              "                        model  Accuracy training  ...       AUC       gap\n",
              "8               XGBClassifier           0.797142  ...  0.639168  0.002025\n",
              "7  GradientBoostingClassifier           0.799235  ...  0.641029  0.004511\n",
              "1          LogisticRegression           0.788746  ...  0.652779  0.005473\n",
              "5                   LinearSVC           0.781360  ...  0.614927  0.003372\n",
              "6      RandomForestClassifier           0.982438  ...  0.620367  0.203038\n",
              "9        ExtraTreesClassifier           1.000000  ...  0.620915  0.222846\n",
              "4                         SVC           0.771857  ...  0.557660  0.007445\n",
              "2        KNeighborsClassifier           0.795626  ...  0.547017  0.054004\n",
              "3                  GaussianNB           0.720300  ...  0.637457  0.002125\n",
              "0      DecisionTreeClassifier           1.000000  ...  0.616769  0.296548\n",
              "\n",
              "[10 rows x 7 columns]"
            ]
          },
          "metadata": {
            "tags": []
          },
          "execution_count": 69
        }
      ]
    },
    {
      "cell_type": "markdown",
      "metadata": {
        "id": "TrCz6Powbov_",
        "colab_type": "text"
      },
      "source": [
        "## Model 2: Missing Value (Median), Get Dummies, Multicolinearity"
      ]
    },
    {
      "cell_type": "code",
      "metadata": {
        "id": "f0ayT3HSuYgZ",
        "colab_type": "code",
        "colab": {}
      },
      "source": [
        "df_train = df3_1_1[:59381]\n",
        "df_test = df3_1_1[59381:]"
      ],
      "execution_count": 0,
      "outputs": []
    },
    {
      "cell_type": "code",
      "metadata": {
        "id": "QS5o47Y128GM",
        "colab_type": "code",
        "colab": {
          "base_uri": "https://localhost:8080/",
          "height": 34
        },
        "outputId": "7a16de44-f92c-4458-991b-c395bc6e252d"
      },
      "source": [
        "X = df_train.drop(['Response'], axis =1)\n",
        "y = df_train['Response']\n",
        "\n",
        "print('X train shape =',(X.shape), \"||\" ,'y train shape =', (y.shape) )"
      ],
      "execution_count": 78,
      "outputs": [
        {
          "output_type": "stream",
          "text": [
            "X train shape = (59381, 123) || y train shape = (59381,)\n"
          ],
          "name": "stdout"
        }
      ]
    },
    {
      "cell_type": "code",
      "metadata": {
        "id": "5-Ro3ogp2_DL",
        "colab_type": "code",
        "colab": {
          "base_uri": "https://localhost:8080/",
          "height": 34
        },
        "outputId": "f326a4ab-0053-44aa-8920-3b7b786bb770"
      },
      "source": [
        "# data Test and aata Train\n",
        "X_train2, X_test, y_train2, y_test = train_test_split(X, y, test_size = 0.3, random_state = 0)\n",
        "print('X train shape =',(X_train.shape), \"||\" ,'X testing shape =', (X_test.shape))"
      ],
      "execution_count": 79,
      "outputs": [
        {
          "output_type": "stream",
          "text": [
            "X train shape = (41566, 123) || X testing shape = (17815, 123)\n"
          ],
          "name": "stdout"
        }
      ]
    },
    {
      "cell_type": "markdown",
      "metadata": {
        "id": "zBYz9PvV3Qd8",
        "colab_type": "text"
      },
      "source": [
        "****"
      ]
    },
    {
      "cell_type": "code",
      "metadata": {
        "id": "gnDY8jHElc1N",
        "colab_type": "code",
        "outputId": "92aa7549-066e-4c50-da50-b4729588196e",
        "colab": {
          "base_uri": "https://localhost:8080/",
          "height": 207
        }
      },
      "source": [
        "## loop for all model\n",
        "\n",
        "datatr = []\n",
        "datasc = []\n",
        "Recall =[]\n",
        "Precision =[]\n",
        "auc =[]\n",
        "\n",
        "all_model2 = all_model\n",
        "\n",
        "for i in all_model2:\n",
        "    model = i()\n",
        "    model.fit(X_train2,y_train2)\n",
        "    y_pred=model.predict(X_test)\n",
        "    datatr.append(model.score( X_train2 , y_train2))\n",
        "    datasc.append(model.score( X_test , y_test ))\n",
        "    Recall.append(recall_score(y_test,y_pred))\n",
        "    Precision.append(precision_score(y_test,y_pred))\n",
        "    auc.append(roc_auc_score(y_test,y_pred))"
      ],
      "execution_count": 80,
      "outputs": [
        {
          "output_type": "stream",
          "text": [
            "/usr/local/lib/python3.6/dist-packages/sklearn/linear_model/logistic.py:432: FutureWarning: Default solver will be changed to 'lbfgs' in 0.22. Specify a solver to silence this warning.\n",
            "  FutureWarning)\n",
            "/usr/local/lib/python3.6/dist-packages/sklearn/svm/base.py:193: FutureWarning: The default value of gamma will change from 'auto' to 'scale' in version 0.22 to account better for unscaled features. Set gamma explicitly to 'auto' or 'scale' to avoid this warning.\n",
            "  \"avoid this warning.\", FutureWarning)\n",
            "/usr/local/lib/python3.6/dist-packages/sklearn/svm/base.py:929: ConvergenceWarning: Liblinear failed to converge, increase the number of iterations.\n",
            "  \"the number of iterations.\", ConvergenceWarning)\n",
            "/usr/local/lib/python3.6/dist-packages/sklearn/ensemble/forest.py:245: FutureWarning: The default value of n_estimators will change from 10 in version 0.20 to 100 in 0.22.\n",
            "  \"10 in version 0.20 to 100 in 0.22.\", FutureWarning)\n",
            "/usr/local/lib/python3.6/dist-packages/sklearn/ensemble/forest.py:245: FutureWarning: The default value of n_estimators will change from 10 in version 0.20 to 100 in 0.22.\n",
            "  \"10 in version 0.20 to 100 in 0.22.\", FutureWarning)\n"
          ],
          "name": "stderr"
        }
      ]
    },
    {
      "cell_type": "code",
      "metadata": {
        "id": "kUc6STJeqwJf",
        "colab_type": "code",
        "colab": {
          "base_uri": "https://localhost:8080/",
          "height": 359
        },
        "outputId": "3cd4c996-87ff-45c8-beb6-ec35c3f2ba86"
      },
      "source": [
        "## compare model each other\n",
        "\n",
        "data2 = pd.DataFrame()\n",
        "data2['model'] = all_model2\n",
        "data2['Accuracy training'] = datatr\n",
        "data2['Accuracy test'] = datasc\n",
        "data2['Precision'] = Precision\n",
        "data2['Recall']= Recall\n",
        "data2['AUC']=auc\n",
        "data2['gap'] = abs(data2['Accuracy training'] - data2['Accuracy test'])\n",
        "data2['model'] = model_name\n",
        "data2.sort_values(by='Accuracy test',ascending=False)"
      ],
      "execution_count": 81,
      "outputs": [
        {
          "output_type": "execute_result",
          "data": {
            "text/html": [
              "<div>\n",
              "<style scoped>\n",
              "    .dataframe tbody tr th:only-of-type {\n",
              "        vertical-align: middle;\n",
              "    }\n",
              "\n",
              "    .dataframe tbody tr th {\n",
              "        vertical-align: top;\n",
              "    }\n",
              "\n",
              "    .dataframe thead th {\n",
              "        text-align: right;\n",
              "    }\n",
              "</style>\n",
              "<table border=\"1\" class=\"dataframe\">\n",
              "  <thead>\n",
              "    <tr style=\"text-align: right;\">\n",
              "      <th></th>\n",
              "      <th>model</th>\n",
              "      <th>Accuracy training</th>\n",
              "      <th>Accuracy test</th>\n",
              "      <th>Precision</th>\n",
              "      <th>Recall</th>\n",
              "      <th>AUC</th>\n",
              "      <th>gap</th>\n",
              "    </tr>\n",
              "  </thead>\n",
              "  <tbody>\n",
              "    <tr>\n",
              "      <th>7</th>\n",
              "      <td>GradientBoostingClassifier</td>\n",
              "      <td>0.798994</td>\n",
              "      <td>0.794892</td>\n",
              "      <td>0.700703</td>\n",
              "      <td>0.331634</td>\n",
              "      <td>0.641802</td>\n",
              "      <td>0.004511</td>\n",
              "    </tr>\n",
              "    <tr>\n",
              "      <th>8</th>\n",
              "      <td>XGBClassifier</td>\n",
              "      <td>0.797022</td>\n",
              "      <td>0.793994</td>\n",
              "      <td>0.703632</td>\n",
              "      <td>0.322102</td>\n",
              "      <td>0.638050</td>\n",
              "      <td>0.002025</td>\n",
              "    </tr>\n",
              "    <tr>\n",
              "      <th>1</th>\n",
              "      <td>LogisticRegression</td>\n",
              "      <td>0.788722</td>\n",
              "      <td>0.793882</td>\n",
              "      <td>0.670876</td>\n",
              "      <td>0.365108</td>\n",
              "      <td>0.652187</td>\n",
              "      <td>0.005473</td>\n",
              "    </tr>\n",
              "    <tr>\n",
              "      <th>6</th>\n",
              "      <td>RandomForestClassifier</td>\n",
              "      <td>0.982149</td>\n",
              "      <td>0.778333</td>\n",
              "      <td>0.636275</td>\n",
              "      <td>0.290845</td>\n",
              "      <td>0.617235</td>\n",
              "      <td>0.203038</td>\n",
              "    </tr>\n",
              "    <tr>\n",
              "      <th>9</th>\n",
              "      <td>ExtraTreesClassifier</td>\n",
              "      <td>1.000000</td>\n",
              "      <td>0.777940</td>\n",
              "      <td>0.620600</td>\n",
              "      <td>0.316560</td>\n",
              "      <td>0.625470</td>\n",
              "      <td>0.222846</td>\n",
              "    </tr>\n",
              "    <tr>\n",
              "      <th>4</th>\n",
              "      <td>SVC</td>\n",
              "      <td>0.771712</td>\n",
              "      <td>0.764131</td>\n",
              "      <td>0.665241</td>\n",
              "      <td>0.137885</td>\n",
              "      <td>0.557179</td>\n",
              "      <td>0.007445</td>\n",
              "    </tr>\n",
              "    <tr>\n",
              "      <th>2</th>\n",
              "      <td>KNeighborsClassifier</td>\n",
              "      <td>0.795819</td>\n",
              "      <td>0.741342</td>\n",
              "      <td>0.466894</td>\n",
              "      <td>0.151629</td>\n",
              "      <td>0.546463</td>\n",
              "      <td>0.054004</td>\n",
              "    </tr>\n",
              "    <tr>\n",
              "      <th>3</th>\n",
              "      <td>GaussianNB</td>\n",
              "      <td>0.720324</td>\n",
              "      <td>0.722313</td>\n",
              "      <td>0.452916</td>\n",
              "      <td>0.464864</td>\n",
              "      <td>0.637235</td>\n",
              "      <td>0.002125</td>\n",
              "    </tr>\n",
              "    <tr>\n",
              "      <th>0</th>\n",
              "      <td>DecisionTreeClassifier</td>\n",
              "      <td>1.000000</td>\n",
              "      <td>0.705810</td>\n",
              "      <td>0.423028</td>\n",
              "      <td>0.444691</td>\n",
              "      <td>0.619519</td>\n",
              "      <td>0.296548</td>\n",
              "    </tr>\n",
              "    <tr>\n",
              "      <th>5</th>\n",
              "      <td>LinearSVC</td>\n",
              "      <td>0.327720</td>\n",
              "      <td>0.320236</td>\n",
              "      <td>0.263551</td>\n",
              "      <td>0.938816</td>\n",
              "      <td>0.524655</td>\n",
              "      <td>0.003372</td>\n",
              "    </tr>\n",
              "  </tbody>\n",
              "</table>\n",
              "</div>"
            ],
            "text/plain": [
              "                        model  Accuracy training  ...       AUC       gap\n",
              "7  GradientBoostingClassifier           0.798994  ...  0.641802  0.004511\n",
              "8               XGBClassifier           0.797022  ...  0.638050  0.002025\n",
              "1          LogisticRegression           0.788722  ...  0.652187  0.005473\n",
              "6      RandomForestClassifier           0.982149  ...  0.617235  0.203038\n",
              "9        ExtraTreesClassifier           1.000000  ...  0.625470  0.222846\n",
              "4                         SVC           0.771712  ...  0.557179  0.007445\n",
              "2        KNeighborsClassifier           0.795819  ...  0.546463  0.054004\n",
              "3                  GaussianNB           0.720324  ...  0.637235  0.002125\n",
              "0      DecisionTreeClassifier           1.000000  ...  0.619519  0.296548\n",
              "5                   LinearSVC           0.327720  ...  0.524655  0.003372\n",
              "\n",
              "[10 rows x 7 columns]"
            ]
          },
          "metadata": {
            "tags": []
          },
          "execution_count": 81
        }
      ]
    },
    {
      "cell_type": "code",
      "metadata": {
        "id": "xKhkdGA72osj",
        "colab_type": "code",
        "colab": {}
      },
      "source": [
        ""
      ],
      "execution_count": 0,
      "outputs": []
    },
    {
      "cell_type": "markdown",
      "metadata": {
        "id": "YIjAYHy5snQw",
        "colab_type": "text"
      },
      "source": [
        "## Model 3 : Missing Value (Mean), Get Dummies, Multicolinearity, Balancing"
      ]
    },
    {
      "cell_type": "code",
      "metadata": {
        "id": "88W4Twhksfkn",
        "colab_type": "code",
        "colab": {
          "base_uri": "https://localhost:8080/",
          "height": 34
        },
        "outputId": "431a6a94-c19f-4b6f-b09f-dda8fe3e01b1"
      },
      "source": [
        "df_train = df2_1[:59381]\n",
        "df_test = df2_1[59381:]\n",
        "\n",
        "X = df_train.drop(['Response'], axis =1)\n",
        "y = df_train['Response']\n",
        "\n",
        "# data Test and aata Train\n",
        "X_train3, X_test, y_train3, y_test = train_test_split(X, y, test_size = 0.3, random_state = 0)\n",
        "print('X train shape =',(X_train0.shape), \"||\" ,'X testing shape =', (X_test.shape))"
      ],
      "execution_count": 144,
      "outputs": [
        {
          "output_type": "stream",
          "text": [
            "X train shape = (41566, 139) || X testing shape = (17815, 139)\n"
          ],
          "name": "stdout"
        }
      ]
    },
    {
      "cell_type": "code",
      "metadata": {
        "id": "FHEy0aPWrWCX",
        "colab_type": "code",
        "colab": {
          "base_uri": "https://localhost:8080/",
          "height": 34
        },
        "outputId": "7ac705f3-691c-48fa-ad5b-9bdeb05b2378"
      },
      "source": [
        "from imblearn.over_sampling import SMOTE, ADASYN\n",
        "\n",
        "smote = SMOTE(random_state = 42)\n",
        "SMOTE()\n",
        "X_columns = list(X_train3.columns)\n",
        "X_train_se, y_train_se = smote.fit_resample(X_train3, y_train3)\n",
        "X_train_se = pd.DataFrame(X_train_se, columns = X_columns)\n",
        "\n",
        "(y_train_se == 0).sum(), (y_train_se == 1).sum()"
      ],
      "execution_count": 145,
      "outputs": [
        {
          "output_type": "execute_result",
          "data": {
            "text/plain": [
              "(30877, 30877)"
            ]
          },
          "metadata": {
            "tags": []
          },
          "execution_count": 145
        }
      ]
    },
    {
      "cell_type": "markdown",
      "metadata": {
        "id": "8YltUDDWsuDD",
        "colab_type": "text"
      },
      "source": [
        "****"
      ]
    },
    {
      "cell_type": "code",
      "metadata": {
        "id": "o_C3IPgdsuu-",
        "colab_type": "code",
        "colab": {
          "base_uri": "https://localhost:8080/",
          "height": 207
        },
        "outputId": "26c54fc1-6c28-41ed-9daf-ef5407dd972a"
      },
      "source": [
        "## loop for all model\n",
        "\n",
        "datatr = []\n",
        "datasc = []\n",
        "Recall =[]\n",
        "Precision =[]\n",
        "auc =[]\n",
        "\n",
        "all_model3 = all_model\n",
        "\n",
        "for i in all_model3:\n",
        "    model = i()\n",
        "    model.fit(X_train_se,y_train_se)\n",
        "    y_pred=model.predict(X_test)\n",
        "    datatr.append(model.score( X_train_se , y_train_se))\n",
        "    datasc.append(model.score( X_test , y_test ))\n",
        "    Recall.append(recall_score(y_test,y_pred))\n",
        "    Precision.append(precision_score(y_test,y_pred))\n",
        "    auc.append(roc_auc_score(y_test,y_pred))"
      ],
      "execution_count": 97,
      "outputs": [
        {
          "output_type": "stream",
          "text": [
            "/usr/local/lib/python3.6/dist-packages/sklearn/linear_model/logistic.py:432: FutureWarning: Default solver will be changed to 'lbfgs' in 0.22. Specify a solver to silence this warning.\n",
            "  FutureWarning)\n",
            "/usr/local/lib/python3.6/dist-packages/sklearn/svm/base.py:193: FutureWarning: The default value of gamma will change from 'auto' to 'scale' in version 0.22 to account better for unscaled features. Set gamma explicitly to 'auto' or 'scale' to avoid this warning.\n",
            "  \"avoid this warning.\", FutureWarning)\n",
            "/usr/local/lib/python3.6/dist-packages/sklearn/svm/base.py:929: ConvergenceWarning: Liblinear failed to converge, increase the number of iterations.\n",
            "  \"the number of iterations.\", ConvergenceWarning)\n",
            "/usr/local/lib/python3.6/dist-packages/sklearn/ensemble/forest.py:245: FutureWarning: The default value of n_estimators will change from 10 in version 0.20 to 100 in 0.22.\n",
            "  \"10 in version 0.20 to 100 in 0.22.\", FutureWarning)\n",
            "/usr/local/lib/python3.6/dist-packages/sklearn/ensemble/forest.py:245: FutureWarning: The default value of n_estimators will change from 10 in version 0.20 to 100 in 0.22.\n",
            "  \"10 in version 0.20 to 100 in 0.22.\", FutureWarning)\n"
          ],
          "name": "stderr"
        }
      ]
    },
    {
      "cell_type": "code",
      "metadata": {
        "id": "w2GlbbBNtDdi",
        "colab_type": "code",
        "colab": {
          "base_uri": "https://localhost:8080/",
          "height": 359
        },
        "outputId": "b48d960d-58d4-46b5-de91-f34899aeab30"
      },
      "source": [
        "## compare model each other\n",
        "\n",
        "data3 = pd.DataFrame()\n",
        "data3['model'] = all_model3\n",
        "data3['Accuracy training'] = datatr\n",
        "data3['Accuracy test'] = datasc\n",
        "data3['Precision'] = Precision\n",
        "data3['Recall']= Recall\n",
        "data3['AUC']=auc\n",
        "data3['gap'] = abs(data3['Accuracy training'] - data3['Accuracy test'])\n",
        "data3['model'] = model_name\n",
        "data3.sort_values(by='Accuracy test',ascending=False)"
      ],
      "execution_count": 98,
      "outputs": [
        {
          "output_type": "execute_result",
          "data": {
            "text/html": [
              "<div>\n",
              "<style scoped>\n",
              "    .dataframe tbody tr th:only-of-type {\n",
              "        vertical-align: middle;\n",
              "    }\n",
              "\n",
              "    .dataframe tbody tr th {\n",
              "        vertical-align: top;\n",
              "    }\n",
              "\n",
              "    .dataframe thead th {\n",
              "        text-align: right;\n",
              "    }\n",
              "</style>\n",
              "<table border=\"1\" class=\"dataframe\">\n",
              "  <thead>\n",
              "    <tr style=\"text-align: right;\">\n",
              "      <th></th>\n",
              "      <th>model</th>\n",
              "      <th>Accuracy training</th>\n",
              "      <th>Accuracy test</th>\n",
              "      <th>Precision</th>\n",
              "      <th>Recall</th>\n",
              "      <th>AUC</th>\n",
              "      <th>gap</th>\n",
              "    </tr>\n",
              "  </thead>\n",
              "  <tbody>\n",
              "    <tr>\n",
              "      <th>8</th>\n",
              "      <td>XGBClassifier</td>\n",
              "      <td>0.854536</td>\n",
              "      <td>0.796015</td>\n",
              "      <td>0.666036</td>\n",
              "      <td>0.389936</td>\n",
              "      <td>0.661820</td>\n",
              "      <td>0.058521</td>\n",
              "    </tr>\n",
              "    <tr>\n",
              "      <th>7</th>\n",
              "      <td>GradientBoostingClassifier</td>\n",
              "      <td>0.856965</td>\n",
              "      <td>0.795116</td>\n",
              "      <td>0.658797</td>\n",
              "      <td>0.395921</td>\n",
              "      <td>0.663197</td>\n",
              "      <td>0.061848</td>\n",
              "    </tr>\n",
              "    <tr>\n",
              "      <th>9</th>\n",
              "      <td>ExtraTreesClassifier</td>\n",
              "      <td>1.000000</td>\n",
              "      <td>0.776930</td>\n",
              "      <td>0.600826</td>\n",
              "      <td>0.354689</td>\n",
              "      <td>0.637394</td>\n",
              "      <td>0.223070</td>\n",
              "    </tr>\n",
              "    <tr>\n",
              "      <th>6</th>\n",
              "      <td>RandomForestClassifier</td>\n",
              "      <td>0.990770</td>\n",
              "      <td>0.775414</td>\n",
              "      <td>0.598608</td>\n",
              "      <td>0.343161</td>\n",
              "      <td>0.632570</td>\n",
              "      <td>0.215356</td>\n",
              "    </tr>\n",
              "    <tr>\n",
              "      <th>3</th>\n",
              "      <td>GaussianNB</td>\n",
              "      <td>0.652751</td>\n",
              "      <td>0.736065</td>\n",
              "      <td>0.481694</td>\n",
              "      <td>0.557083</td>\n",
              "      <td>0.676918</td>\n",
              "      <td>0.083314</td>\n",
              "    </tr>\n",
              "    <tr>\n",
              "      <th>1</th>\n",
              "      <td>LogisticRegression</td>\n",
              "      <td>0.726463</td>\n",
              "      <td>0.733876</td>\n",
              "      <td>0.482400</td>\n",
              "      <td>0.698736</td>\n",
              "      <td>0.722264</td>\n",
              "      <td>0.007413</td>\n",
              "    </tr>\n",
              "    <tr>\n",
              "      <th>5</th>\n",
              "      <td>LinearSVC</td>\n",
              "      <td>0.581274</td>\n",
              "      <td>0.709683</td>\n",
              "      <td>0.412357</td>\n",
              "      <td>0.344713</td>\n",
              "      <td>0.589073</td>\n",
              "      <td>0.128409</td>\n",
              "    </tr>\n",
              "    <tr>\n",
              "      <th>0</th>\n",
              "      <td>DecisionTreeClassifier</td>\n",
              "      <td>1.000000</td>\n",
              "      <td>0.708167</td>\n",
              "      <td>0.428778</td>\n",
              "      <td>0.459100</td>\n",
              "      <td>0.625859</td>\n",
              "      <td>0.291833</td>\n",
              "    </tr>\n",
              "    <tr>\n",
              "      <th>4</th>\n",
              "      <td>SVC</td>\n",
              "      <td>0.780694</td>\n",
              "      <td>0.697278</td>\n",
              "      <td>0.430133</td>\n",
              "      <td>0.601862</td>\n",
              "      <td>0.665746</td>\n",
              "      <td>0.083417</td>\n",
              "    </tr>\n",
              "    <tr>\n",
              "      <th>2</th>\n",
              "      <td>KNeighborsClassifier</td>\n",
              "      <td>0.838019</td>\n",
              "      <td>0.586809</td>\n",
              "      <td>0.320935</td>\n",
              "      <td>0.566172</td>\n",
              "      <td>0.579989</td>\n",
              "      <td>0.251210</td>\n",
              "    </tr>\n",
              "  </tbody>\n",
              "</table>\n",
              "</div>"
            ],
            "text/plain": [
              "                        model  Accuracy training  ...       AUC       gap\n",
              "8               XGBClassifier           0.854536  ...  0.661820  0.058521\n",
              "7  GradientBoostingClassifier           0.856965  ...  0.663197  0.061848\n",
              "9        ExtraTreesClassifier           1.000000  ...  0.637394  0.223070\n",
              "6      RandomForestClassifier           0.990770  ...  0.632570  0.215356\n",
              "3                  GaussianNB           0.652751  ...  0.676918  0.083314\n",
              "1          LogisticRegression           0.726463  ...  0.722264  0.007413\n",
              "5                   LinearSVC           0.581274  ...  0.589073  0.128409\n",
              "0      DecisionTreeClassifier           1.000000  ...  0.625859  0.291833\n",
              "4                         SVC           0.780694  ...  0.665746  0.083417\n",
              "2        KNeighborsClassifier           0.838019  ...  0.579989  0.251210\n",
              "\n",
              "[10 rows x 7 columns]"
            ]
          },
          "metadata": {
            "tags": []
          },
          "execution_count": 98
        }
      ]
    },
    {
      "cell_type": "markdown",
      "metadata": {
        "id": "4mPEzE5glpg5",
        "colab_type": "text"
      },
      "source": [
        "#  TUNING PARAMETER"
      ]
    },
    {
      "cell_type": "code",
      "metadata": {
        "id": "CFP7zlICmXgw",
        "colab_type": "code",
        "outputId": "e4da7176-a7d5-45ed-ed6b-710a0f75185b",
        "colab": {
          "base_uri": "https://localhost:8080/",
          "height": 34
        }
      },
      "source": [
        "from sklearn.ensemble import GradientBoostingClassifier\n",
        "from sklearn.metrics import classification_report\n",
        "from sklearn.model_selection import GridSearchCV            \n",
        "p_test3 = {'learning_rate':[0.01,0.005,0.001], 'n_estimators':[100,250,500,750]}\n",
        "\n",
        "tuning = GridSearchCV(estimator =GradientBoostingClassifier(max_depth=4, min_samples_split=2, min_samples_leaf=1, subsample=1,max_features='sqrt', random_state=10), \n",
        "            param_grid = p_test3, scoring='accuracy',n_jobs=4,iid=False, cv=5)\n",
        "tuning.fit(X_train,y_train)\n",
        "tuning.best_params_, tuning.best_score_"
      ],
      "execution_count": 0,
      "outputs": [
        {
          "output_type": "execute_result",
          "data": {
            "text/plain": [
              "({'learning_rate': 0.01, 'n_estimators': 750}, 0.8231727879340482)"
            ]
          },
          "metadata": {
            "tags": []
          },
          "execution_count": 103
        }
      ]
    },
    {
      "cell_type": "code",
      "metadata": {
        "id": "3LzFBMo4r8-5",
        "colab_type": "code",
        "outputId": "2a060ac1-6d88-4c25-bc31-370f73a4c890",
        "colab": {
          "base_uri": "https://localhost:8080/",
          "height": 51
        }
      },
      "source": [
        "model=GradientBoostingClassifier(learning_rate=0.01,n_estimators=750)\n",
        "model.fit(X_train,y_train)\n",
        "%time"
      ],
      "execution_count": 0,
      "outputs": [
        {
          "output_type": "stream",
          "text": [
            "CPU times: user 2 µs, sys: 0 ns, total: 2 µs\n",
            "Wall time: 5.25 µs\n"
          ],
          "name": "stdout"
        }
      ]
    },
    {
      "cell_type": "code",
      "metadata": {
        "id": "IYC5Gf28sAN0",
        "colab_type": "code",
        "outputId": "5ccc4fe3-ee39-4789-cfd8-ae8bfd4a7452",
        "colab": {
          "base_uri": "https://localhost:8080/",
          "height": 666
        }
      },
      "source": [
        "from sklearn.metrics import roc_curve\n",
        "\n",
        "def plot_roc_curve(ytest, P_ensemble):\n",
        "    \"\"\"Plot the roc curve for base learners and ensemble.\"\"\"\n",
        "    plt.figure(figsize=(10, 8))\n",
        "    plt.plot([0, 1], [0, 1], 'k--')\n",
        "\n",
        "    fpr, tpr, _ = roc_curve(y_test, P_ensemble)\n",
        "    plt.plot(fpr, tpr)\n",
        "        \n",
        "    plt.xlabel('False positive rate')\n",
        "    plt.ylabel('True positive rate')\n",
        "    plt.title('ROC curve')\n",
        "    plt.show()\n",
        "\n",
        "print(classification_report(y_test,y_pred))\n",
        "y_pred_proba=model.predict_proba(X_test)\n",
        "plot_roc_curve(y_test,y_pred_proba[:,1])"
      ],
      "execution_count": 0,
      "outputs": [
        {
          "output_type": "stream",
          "text": [
            "              precision    recall  f1-score   support\n",
            "\n",
            "         0.0       0.88      0.85      0.86     11912\n",
            "         1.0       0.71      0.77      0.74      5903\n",
            "\n",
            "    accuracy                           0.82     17815\n",
            "   macro avg       0.80      0.81      0.80     17815\n",
            "weighted avg       0.82      0.82      0.82     17815\n",
            "\n"
          ],
          "name": "stdout"
        },
        {
          "output_type": "display_data",
          "data": {
            "image/png": "[encoded data removed]",
            "text/plain": [
              "<Figure size 720x576 with 1 Axes>"
            ]
          },
          "metadata": {
            "tags": []
          }
        }
      ]
    },
    {
      "cell_type": "markdown",
      "metadata": {
        "id": "EpnjDXkcGv_L",
        "colab_type": "text"
      },
      "source": [
        "# 6.EVALUATION"
      ]
    },
    {
      "cell_type": "code",
      "metadata": {
        "id": "iFAPEnw0GzD0",
        "colab_type": "code",
        "outputId": "911304a6-8f23-454e-b6da-bedfbafe5570",
        "colab": {
          "base_uri": "https://localhost:8080/",
          "height": 253
        }
      },
      "source": [
        "df_test = df_test.drop(['Target'], axis =1)\n",
        "hasil_prediksi = model.predict(df_test)\n",
        "Hasil=pd.DataFrame()\n",
        "Hasil['TARGET']=hasil_prediksi\n",
        "result=pd.concat([test,Hasil],1)\n",
        "result.head()"
      ],
      "execution_count": 0,
      "outputs": [
        {
          "output_type": "execute_result",
          "data": {
            "text/html": [
              "<div>\n",
              "<style scoped>\n",
              "    .dataframe tbody tr th:only-of-type {\n",
              "        vertical-align: middle;\n",
              "    }\n",
              "\n",
              "    .dataframe tbody tr th {\n",
              "        vertical-align: top;\n",
              "    }\n",
              "\n",
              "    .dataframe thead th {\n",
              "        text-align: right;\n",
              "    }\n",
              "</style>\n",
              "<table border=\"1\" class=\"dataframe\">\n",
              "  <thead>\n",
              "    <tr style=\"text-align: right;\">\n",
              "      <th></th>\n",
              "      <th>Id</th>\n",
              "      <th>Product_Info_1</th>\n",
              "      <th>Product_Info_2</th>\n",
              "      <th>Product_Info_3</th>\n",
              "      <th>Product_Info_4</th>\n",
              "      <th>Product_Info_5</th>\n",
              "      <th>Product_Info_6</th>\n",
              "      <th>Product_Info_7</th>\n",
              "      <th>Ins_Age</th>\n",
              "      <th>Ht</th>\n",
              "      <th>Wt</th>\n",
              "      <th>BMI</th>\n",
              "      <th>Employment_Info_1</th>\n",
              "      <th>Employment_Info_2</th>\n",
              "      <th>Employment_Info_3</th>\n",
              "      <th>Employment_Info_4</th>\n",
              "      <th>Employment_Info_5</th>\n",
              "      <th>Employment_Info_6</th>\n",
              "      <th>InsuredInfo_1</th>\n",
              "      <th>InsuredInfo_2</th>\n",
              "      <th>InsuredInfo_3</th>\n",
              "      <th>InsuredInfo_4</th>\n",
              "      <th>InsuredInfo_5</th>\n",
              "      <th>InsuredInfo_6</th>\n",
              "      <th>InsuredInfo_7</th>\n",
              "      <th>Insurance_History_1</th>\n",
              "      <th>Insurance_History_2</th>\n",
              "      <th>Insurance_History_3</th>\n",
              "      <th>Insurance_History_4</th>\n",
              "      <th>Insurance_History_5</th>\n",
              "      <th>Insurance_History_7</th>\n",
              "      <th>Insurance_History_8</th>\n",
              "      <th>Insurance_History_9</th>\n",
              "      <th>Family_Hist_1</th>\n",
              "      <th>Family_Hist_2</th>\n",
              "      <th>Family_Hist_3</th>\n",
              "      <th>Family_Hist_4</th>\n",
              "      <th>Family_Hist_5</th>\n",
              "      <th>Medical_History_1</th>\n",
              "      <th>Medical_History_2</th>\n",
              "      <th>...</th>\n",
              "      <th>Medical_Keyword_10</th>\n",
              "      <th>Medical_Keyword_11</th>\n",
              "      <th>Medical_Keyword_12</th>\n",
              "      <th>Medical_Keyword_13</th>\n",
              "      <th>Medical_Keyword_14</th>\n",
              "      <th>Medical_Keyword_15</th>\n",
              "      <th>Medical_Keyword_16</th>\n",
              "      <th>Medical_Keyword_17</th>\n",
              "      <th>Medical_Keyword_18</th>\n",
              "      <th>Medical_Keyword_19</th>\n",
              "      <th>Medical_Keyword_20</th>\n",
              "      <th>Medical_Keyword_21</th>\n",
              "      <th>Medical_Keyword_22</th>\n",
              "      <th>Medical_Keyword_23</th>\n",
              "      <th>Medical_Keyword_24</th>\n",
              "      <th>Medical_Keyword_25</th>\n",
              "      <th>Medical_Keyword_26</th>\n",
              "      <th>Medical_Keyword_27</th>\n",
              "      <th>Medical_Keyword_28</th>\n",
              "      <th>Medical_Keyword_29</th>\n",
              "      <th>Medical_Keyword_30</th>\n",
              "      <th>Medical_Keyword_31</th>\n",
              "      <th>Medical_Keyword_32</th>\n",
              "      <th>Medical_Keyword_33</th>\n",
              "      <th>Medical_Keyword_34</th>\n",
              "      <th>Medical_Keyword_35</th>\n",
              "      <th>Medical_Keyword_36</th>\n",
              "      <th>Medical_Keyword_37</th>\n",
              "      <th>Medical_Keyword_38</th>\n",
              "      <th>Medical_Keyword_39</th>\n",
              "      <th>Medical_Keyword_40</th>\n",
              "      <th>Medical_Keyword_41</th>\n",
              "      <th>Medical_Keyword_42</th>\n",
              "      <th>Medical_Keyword_43</th>\n",
              "      <th>Medical_Keyword_44</th>\n",
              "      <th>Medical_Keyword_45</th>\n",
              "      <th>Medical_Keyword_46</th>\n",
              "      <th>Medical_Keyword_47</th>\n",
              "      <th>Medical_Keyword_48</th>\n",
              "      <th>TARGET</th>\n",
              "    </tr>\n",
              "  </thead>\n",
              "  <tbody>\n",
              "    <tr>\n",
              "      <th>0</th>\n",
              "      <td>1</td>\n",
              "      <td>1</td>\n",
              "      <td>D3</td>\n",
              "      <td>26</td>\n",
              "      <td>0.487179</td>\n",
              "      <td>2</td>\n",
              "      <td>3</td>\n",
              "      <td>1</td>\n",
              "      <td>0.611940</td>\n",
              "      <td>0.781818</td>\n",
              "      <td>0.338912</td>\n",
              "      <td>0.472262</td>\n",
              "      <td>0.150</td>\n",
              "      <td>3</td>\n",
              "      <td>1</td>\n",
              "      <td>0.00</td>\n",
              "      <td>2</td>\n",
              "      <td>0.50</td>\n",
              "      <td>2</td>\n",
              "      <td>2</td>\n",
              "      <td>11</td>\n",
              "      <td>3</td>\n",
              "      <td>1</td>\n",
              "      <td>1</td>\n",
              "      <td>1</td>\n",
              "      <td>2</td>\n",
              "      <td>1</td>\n",
              "      <td>1</td>\n",
              "      <td>3</td>\n",
              "      <td>NaN</td>\n",
              "      <td>3</td>\n",
              "      <td>2</td>\n",
              "      <td>3</td>\n",
              "      <td>3</td>\n",
              "      <td>NaN</td>\n",
              "      <td>0.627451</td>\n",
              "      <td>0.760563</td>\n",
              "      <td>NaN</td>\n",
              "      <td>2.0</td>\n",
              "      <td>16</td>\n",
              "      <td>...</td>\n",
              "      <td>0</td>\n",
              "      <td>0</td>\n",
              "      <td>0</td>\n",
              "      <td>0</td>\n",
              "      <td>0</td>\n",
              "      <td>1</td>\n",
              "      <td>0</td>\n",
              "      <td>0</td>\n",
              "      <td>0</td>\n",
              "      <td>1</td>\n",
              "      <td>0</td>\n",
              "      <td>0</td>\n",
              "      <td>0</td>\n",
              "      <td>0</td>\n",
              "      <td>0</td>\n",
              "      <td>1</td>\n",
              "      <td>0</td>\n",
              "      <td>0</td>\n",
              "      <td>0</td>\n",
              "      <td>0</td>\n",
              "      <td>0</td>\n",
              "      <td>0</td>\n",
              "      <td>0</td>\n",
              "      <td>0</td>\n",
              "      <td>0</td>\n",
              "      <td>0</td>\n",
              "      <td>0</td>\n",
              "      <td>0</td>\n",
              "      <td>0</td>\n",
              "      <td>0</td>\n",
              "      <td>0</td>\n",
              "      <td>0</td>\n",
              "      <td>0</td>\n",
              "      <td>0</td>\n",
              "      <td>0</td>\n",
              "      <td>0</td>\n",
              "      <td>0</td>\n",
              "      <td>0</td>\n",
              "      <td>0</td>\n",
              "      <td>0.0</td>\n",
              "    </tr>\n",
              "    <tr>\n",
              "      <th>1</th>\n",
              "      <td>3</td>\n",
              "      <td>1</td>\n",
              "      <td>A2</td>\n",
              "      <td>26</td>\n",
              "      <td>0.076923</td>\n",
              "      <td>2</td>\n",
              "      <td>3</td>\n",
              "      <td>1</td>\n",
              "      <td>0.626866</td>\n",
              "      <td>0.727273</td>\n",
              "      <td>0.311715</td>\n",
              "      <td>0.484984</td>\n",
              "      <td>0.000</td>\n",
              "      <td>1</td>\n",
              "      <td>3</td>\n",
              "      <td>0.07</td>\n",
              "      <td>2</td>\n",
              "      <td>0.20</td>\n",
              "      <td>1</td>\n",
              "      <td>2</td>\n",
              "      <td>8</td>\n",
              "      <td>3</td>\n",
              "      <td>1</td>\n",
              "      <td>1</td>\n",
              "      <td>1</td>\n",
              "      <td>1</td>\n",
              "      <td>1</td>\n",
              "      <td>3</td>\n",
              "      <td>1</td>\n",
              "      <td>0.001667</td>\n",
              "      <td>1</td>\n",
              "      <td>1</td>\n",
              "      <td>2</td>\n",
              "      <td>2</td>\n",
              "      <td>NaN</td>\n",
              "      <td>0.529412</td>\n",
              "      <td>0.746479</td>\n",
              "      <td>NaN</td>\n",
              "      <td>5.0</td>\n",
              "      <td>261</td>\n",
              "      <td>...</td>\n",
              "      <td>0</td>\n",
              "      <td>0</td>\n",
              "      <td>0</td>\n",
              "      <td>0</td>\n",
              "      <td>0</td>\n",
              "      <td>0</td>\n",
              "      <td>0</td>\n",
              "      <td>0</td>\n",
              "      <td>0</td>\n",
              "      <td>0</td>\n",
              "      <td>0</td>\n",
              "      <td>0</td>\n",
              "      <td>0</td>\n",
              "      <td>0</td>\n",
              "      <td>0</td>\n",
              "      <td>0</td>\n",
              "      <td>0</td>\n",
              "      <td>0</td>\n",
              "      <td>0</td>\n",
              "      <td>0</td>\n",
              "      <td>0</td>\n",
              "      <td>0</td>\n",
              "      <td>0</td>\n",
              "      <td>0</td>\n",
              "      <td>0</td>\n",
              "      <td>0</td>\n",
              "      <td>0</td>\n",
              "      <td>0</td>\n",
              "      <td>0</td>\n",
              "      <td>0</td>\n",
              "      <td>0</td>\n",
              "      <td>0</td>\n",
              "      <td>0</td>\n",
              "      <td>0</td>\n",
              "      <td>0</td>\n",
              "      <td>0</td>\n",
              "      <td>0</td>\n",
              "      <td>0</td>\n",
              "      <td>0</td>\n",
              "      <td>0.0</td>\n",
              "    </tr>\n",
              "    <tr>\n",
              "      <th>2</th>\n",
              "      <td>4</td>\n",
              "      <td>1</td>\n",
              "      <td>D3</td>\n",
              "      <td>26</td>\n",
              "      <td>0.144667</td>\n",
              "      <td>2</td>\n",
              "      <td>3</td>\n",
              "      <td>1</td>\n",
              "      <td>0.582090</td>\n",
              "      <td>0.709091</td>\n",
              "      <td>0.320084</td>\n",
              "      <td>0.519103</td>\n",
              "      <td>0.143</td>\n",
              "      <td>9</td>\n",
              "      <td>1</td>\n",
              "      <td>0.00</td>\n",
              "      <td>2</td>\n",
              "      <td>0.45</td>\n",
              "      <td>1</td>\n",
              "      <td>2</td>\n",
              "      <td>3</td>\n",
              "      <td>3</td>\n",
              "      <td>1</td>\n",
              "      <td>1</td>\n",
              "      <td>1</td>\n",
              "      <td>2</td>\n",
              "      <td>1</td>\n",
              "      <td>1</td>\n",
              "      <td>3</td>\n",
              "      <td>NaN</td>\n",
              "      <td>3</td>\n",
              "      <td>2</td>\n",
              "      <td>3</td>\n",
              "      <td>3</td>\n",
              "      <td>0.666667</td>\n",
              "      <td>NaN</td>\n",
              "      <td>0.661972</td>\n",
              "      <td>NaN</td>\n",
              "      <td>3.0</td>\n",
              "      <td>132</td>\n",
              "      <td>...</td>\n",
              "      <td>1</td>\n",
              "      <td>0</td>\n",
              "      <td>0</td>\n",
              "      <td>0</td>\n",
              "      <td>0</td>\n",
              "      <td>0</td>\n",
              "      <td>0</td>\n",
              "      <td>0</td>\n",
              "      <td>0</td>\n",
              "      <td>0</td>\n",
              "      <td>0</td>\n",
              "      <td>0</td>\n",
              "      <td>0</td>\n",
              "      <td>1</td>\n",
              "      <td>0</td>\n",
              "      <td>1</td>\n",
              "      <td>0</td>\n",
              "      <td>0</td>\n",
              "      <td>0</td>\n",
              "      <td>0</td>\n",
              "      <td>0</td>\n",
              "      <td>0</td>\n",
              "      <td>0</td>\n",
              "      <td>0</td>\n",
              "      <td>0</td>\n",
              "      <td>0</td>\n",
              "      <td>0</td>\n",
              "      <td>0</td>\n",
              "      <td>0</td>\n",
              "      <td>0</td>\n",
              "      <td>0</td>\n",
              "      <td>0</td>\n",
              "      <td>0</td>\n",
              "      <td>0</td>\n",
              "      <td>0</td>\n",
              "      <td>0</td>\n",
              "      <td>0</td>\n",
              "      <td>0</td>\n",
              "      <td>0</td>\n",
              "      <td>0.0</td>\n",
              "    </tr>\n",
              "    <tr>\n",
              "      <th>3</th>\n",
              "      <td>9</td>\n",
              "      <td>1</td>\n",
              "      <td>A1</td>\n",
              "      <td>26</td>\n",
              "      <td>0.151709</td>\n",
              "      <td>2</td>\n",
              "      <td>1</td>\n",
              "      <td>1</td>\n",
              "      <td>0.522388</td>\n",
              "      <td>0.654545</td>\n",
              "      <td>0.267782</td>\n",
              "      <td>0.486962</td>\n",
              "      <td>0.210</td>\n",
              "      <td>9</td>\n",
              "      <td>1</td>\n",
              "      <td>0.00</td>\n",
              "      <td>2</td>\n",
              "      <td>1.00</td>\n",
              "      <td>2</td>\n",
              "      <td>2</td>\n",
              "      <td>3</td>\n",
              "      <td>3</td>\n",
              "      <td>1</td>\n",
              "      <td>1</td>\n",
              "      <td>1</td>\n",
              "      <td>1</td>\n",
              "      <td>1</td>\n",
              "      <td>3</td>\n",
              "      <td>1</td>\n",
              "      <td>0.000667</td>\n",
              "      <td>2</td>\n",
              "      <td>1</td>\n",
              "      <td>2</td>\n",
              "      <td>2</td>\n",
              "      <td>NaN</td>\n",
              "      <td>0.686275</td>\n",
              "      <td>0.676056</td>\n",
              "      <td>NaN</td>\n",
              "      <td>NaN</td>\n",
              "      <td>162</td>\n",
              "      <td>...</td>\n",
              "      <td>0</td>\n",
              "      <td>0</td>\n",
              "      <td>0</td>\n",
              "      <td>0</td>\n",
              "      <td>0</td>\n",
              "      <td>0</td>\n",
              "      <td>0</td>\n",
              "      <td>0</td>\n",
              "      <td>0</td>\n",
              "      <td>0</td>\n",
              "      <td>0</td>\n",
              "      <td>0</td>\n",
              "      <td>0</td>\n",
              "      <td>0</td>\n",
              "      <td>0</td>\n",
              "      <td>0</td>\n",
              "      <td>0</td>\n",
              "      <td>0</td>\n",
              "      <td>0</td>\n",
              "      <td>0</td>\n",
              "      <td>0</td>\n",
              "      <td>0</td>\n",
              "      <td>0</td>\n",
              "      <td>0</td>\n",
              "      <td>0</td>\n",
              "      <td>0</td>\n",
              "      <td>0</td>\n",
              "      <td>1</td>\n",
              "      <td>0</td>\n",
              "      <td>0</td>\n",
              "      <td>0</td>\n",
              "      <td>0</td>\n",
              "      <td>0</td>\n",
              "      <td>0</td>\n",
              "      <td>0</td>\n",
              "      <td>0</td>\n",
              "      <td>0</td>\n",
              "      <td>1</td>\n",
              "      <td>1</td>\n",
              "      <td>0.0</td>\n",
              "    </tr>\n",
              "    <tr>\n",
              "      <th>4</th>\n",
              "      <td>12</td>\n",
              "      <td>1</td>\n",
              "      <td>A1</td>\n",
              "      <td>26</td>\n",
              "      <td>0.076923</td>\n",
              "      <td>2</td>\n",
              "      <td>3</td>\n",
              "      <td>1</td>\n",
              "      <td>0.298507</td>\n",
              "      <td>0.672727</td>\n",
              "      <td>0.246862</td>\n",
              "      <td>0.428718</td>\n",
              "      <td>0.085</td>\n",
              "      <td>9</td>\n",
              "      <td>1</td>\n",
              "      <td>0.00</td>\n",
              "      <td>2</td>\n",
              "      <td>0.20</td>\n",
              "      <td>1</td>\n",
              "      <td>2</td>\n",
              "      <td>8</td>\n",
              "      <td>3</td>\n",
              "      <td>1</td>\n",
              "      <td>2</td>\n",
              "      <td>1</td>\n",
              "      <td>2</td>\n",
              "      <td>1</td>\n",
              "      <td>1</td>\n",
              "      <td>3</td>\n",
              "      <td>NaN</td>\n",
              "      <td>3</td>\n",
              "      <td>2</td>\n",
              "      <td>3</td>\n",
              "      <td>2</td>\n",
              "      <td>0.449275</td>\n",
              "      <td>NaN</td>\n",
              "      <td>0.380282</td>\n",
              "      <td>NaN</td>\n",
              "      <td>18.0</td>\n",
              "      <td>181</td>\n",
              "      <td>...</td>\n",
              "      <td>0</td>\n",
              "      <td>0</td>\n",
              "      <td>0</td>\n",
              "      <td>0</td>\n",
              "      <td>0</td>\n",
              "      <td>0</td>\n",
              "      <td>0</td>\n",
              "      <td>0</td>\n",
              "      <td>0</td>\n",
              "      <td>0</td>\n",
              "      <td>0</td>\n",
              "      <td>0</td>\n",
              "      <td>0</td>\n",
              "      <td>0</td>\n",
              "      <td>0</td>\n",
              "      <td>1</td>\n",
              "      <td>0</td>\n",
              "      <td>0</td>\n",
              "      <td>0</td>\n",
              "      <td>0</td>\n",
              "      <td>0</td>\n",
              "      <td>0</td>\n",
              "      <td>0</td>\n",
              "      <td>0</td>\n",
              "      <td>0</td>\n",
              "      <td>0</td>\n",
              "      <td>0</td>\n",
              "      <td>0</td>\n",
              "      <td>0</td>\n",
              "      <td>0</td>\n",
              "      <td>0</td>\n",
              "      <td>0</td>\n",
              "      <td>0</td>\n",
              "      <td>0</td>\n",
              "      <td>0</td>\n",
              "      <td>0</td>\n",
              "      <td>0</td>\n",
              "      <td>0</td>\n",
              "      <td>0</td>\n",
              "      <td>0.0</td>\n",
              "    </tr>\n",
              "  </tbody>\n",
              "</table>\n",
              "<p>5 rows × 128 columns</p>\n",
              "</div>"
            ],
            "text/plain": [
              "   Id  Product_Info_1  ... Medical_Keyword_48  TARGET\n",
              "0   1               1  ...                  0     0.0\n",
              "1   3               1  ...                  0     0.0\n",
              "2   4               1  ...                  0     0.0\n",
              "3   9               1  ...                  1     0.0\n",
              "4  12               1  ...                  0     0.0\n",
              "\n",
              "[5 rows x 128 columns]"
            ]
          },
          "metadata": {
            "tags": []
          },
          "execution_count": 107
        }
      ]
    },
    {
      "cell_type": "code",
      "metadata": {
        "id": "33yni3lNsyxu",
        "colab_type": "code",
        "colab": {}
      },
      "source": [
        "# FEATURE IMPORTANT\n",
        "importances = model.feature_importances_\n",
        "indices = np.argsort(importances)[::-1]\n",
        "\n",
        "to_bar = pd.DataFrame([X.columns[indices],importances[indices]]).transpose()\n",
        "to_bar.columns = ['Feature','Value']"
      ],
      "execution_count": 0,
      "outputs": []
    },
    {
      "cell_type": "code",
      "metadata": {
        "id": "Vv3hTix_ACLC",
        "colab_type": "code",
        "outputId": "9e5edba9-c402-4914-b732-19449b51884d",
        "colab": {
          "base_uri": "https://localhost:8080/",
          "height": 495
        }
      },
      "source": [
        "import time\n",
        "%time\n",
        "# Print the feature ranking\n",
        "print(\"Feature ranking:\")\n",
        "\n",
        "# Plot the feature importances of the forest\n",
        "\n",
        "plt.figure(1, figsize=(10, 5))\n",
        "plt.title(\"Feature importances\")\n",
        "ax = sns.barplot(x='Value',y='Feature',data=to_bar[0:5])\n",
        "plt.xlabel('Importances Value', fontsize = 20)\n",
        "plt.ylabel('Feature', fontsize = 20)\n",
        "plt.show()\n",
        "for f in range(5):\n",
        "    print(\"%d. feature %s (%f)\" % (f + 1, X.columns[indices[f]], importances[indices[f]]))"
      ],
      "execution_count": 0,
      "outputs": [
        {
          "output_type": "stream",
          "text": [
            "CPU times: user 3 µs, sys: 0 ns, total: 3 µs\n",
            "Wall time: 6.91 µs\n",
            "Feature ranking:\n"
          ],
          "name": "stdout"
        },
        {
          "output_type": "display_data",
          "data": {
            "image/png": "[encoded data removed]",
            "text/plain": [
              "<Figure size 720x360 with 1 Axes>"
            ]
          },
          "metadata": {
            "tags": []
          }
        },
        {
          "output_type": "stream",
          "text": [
            "1. feature BMI (0.492573)\n",
            "2. feature Medical_History_4 (0.173928)\n",
            "3. feature Medical_History_23 (0.172412)\n",
            "4. feature Product_Info_4 (0.049056)\n",
            "5. feature Ins_Age (0.023169)\n"
          ],
          "name": "stdout"
        }
      ]
    },
    {
      "cell_type": "code",
      "metadata": {
        "id": "Lzw5KcVPAIj-",
        "colab_type": "code",
        "outputId": "f82ce6a8-2a85-468d-efdb-a683117a58e0",
        "colab": {
          "base_uri": "https://localhost:8080/",
          "height": 253
        }
      },
      "source": [
        "hasil_prediksi = model.predict(df_test)\n",
        "Hasil=pd.DataFrame()\n",
        "Hasil['TARGET']=hasil_prediksi\n",
        "result=pd.concat([test,Hasil],1)\n",
        "result.head()"
      ],
      "execution_count": 0,
      "outputs": [
        {
          "output_type": "execute_result",
          "data": {
            "text/html": [
              "<div>\n",
              "<style scoped>\n",
              "    .dataframe tbody tr th:only-of-type {\n",
              "        vertical-align: middle;\n",
              "    }\n",
              "\n",
              "    .dataframe tbody tr th {\n",
              "        vertical-align: top;\n",
              "    }\n",
              "\n",
              "    .dataframe thead th {\n",
              "        text-align: right;\n",
              "    }\n",
              "</style>\n",
              "<table border=\"1\" class=\"dataframe\">\n",
              "  <thead>\n",
              "    <tr style=\"text-align: right;\">\n",
              "      <th></th>\n",
              "      <th>Id</th>\n",
              "      <th>Product_Info_1</th>\n",
              "      <th>Product_Info_2</th>\n",
              "      <th>Product_Info_3</th>\n",
              "      <th>Product_Info_4</th>\n",
              "      <th>Product_Info_5</th>\n",
              "      <th>Product_Info_6</th>\n",
              "      <th>Product_Info_7</th>\n",
              "      <th>Ins_Age</th>\n",
              "      <th>Ht</th>\n",
              "      <th>Wt</th>\n",
              "      <th>BMI</th>\n",
              "      <th>Employment_Info_1</th>\n",
              "      <th>Employment_Info_2</th>\n",
              "      <th>Employment_Info_3</th>\n",
              "      <th>Employment_Info_4</th>\n",
              "      <th>Employment_Info_5</th>\n",
              "      <th>Employment_Info_6</th>\n",
              "      <th>InsuredInfo_1</th>\n",
              "      <th>InsuredInfo_2</th>\n",
              "      <th>InsuredInfo_3</th>\n",
              "      <th>InsuredInfo_4</th>\n",
              "      <th>InsuredInfo_5</th>\n",
              "      <th>InsuredInfo_6</th>\n",
              "      <th>InsuredInfo_7</th>\n",
              "      <th>Insurance_History_1</th>\n",
              "      <th>Insurance_History_2</th>\n",
              "      <th>Insurance_History_3</th>\n",
              "      <th>Insurance_History_4</th>\n",
              "      <th>Insurance_History_5</th>\n",
              "      <th>Insurance_History_7</th>\n",
              "      <th>Insurance_History_8</th>\n",
              "      <th>Insurance_History_9</th>\n",
              "      <th>Family_Hist_1</th>\n",
              "      <th>Family_Hist_2</th>\n",
              "      <th>Family_Hist_3</th>\n",
              "      <th>Family_Hist_4</th>\n",
              "      <th>Family_Hist_5</th>\n",
              "      <th>Medical_History_1</th>\n",
              "      <th>Medical_History_2</th>\n",
              "      <th>...</th>\n",
              "      <th>Medical_Keyword_10</th>\n",
              "      <th>Medical_Keyword_11</th>\n",
              "      <th>Medical_Keyword_12</th>\n",
              "      <th>Medical_Keyword_13</th>\n",
              "      <th>Medical_Keyword_14</th>\n",
              "      <th>Medical_Keyword_15</th>\n",
              "      <th>Medical_Keyword_16</th>\n",
              "      <th>Medical_Keyword_17</th>\n",
              "      <th>Medical_Keyword_18</th>\n",
              "      <th>Medical_Keyword_19</th>\n",
              "      <th>Medical_Keyword_20</th>\n",
              "      <th>Medical_Keyword_21</th>\n",
              "      <th>Medical_Keyword_22</th>\n",
              "      <th>Medical_Keyword_23</th>\n",
              "      <th>Medical_Keyword_24</th>\n",
              "      <th>Medical_Keyword_25</th>\n",
              "      <th>Medical_Keyword_26</th>\n",
              "      <th>Medical_Keyword_27</th>\n",
              "      <th>Medical_Keyword_28</th>\n",
              "      <th>Medical_Keyword_29</th>\n",
              "      <th>Medical_Keyword_30</th>\n",
              "      <th>Medical_Keyword_31</th>\n",
              "      <th>Medical_Keyword_32</th>\n",
              "      <th>Medical_Keyword_33</th>\n",
              "      <th>Medical_Keyword_34</th>\n",
              "      <th>Medical_Keyword_35</th>\n",
              "      <th>Medical_Keyword_36</th>\n",
              "      <th>Medical_Keyword_37</th>\n",
              "      <th>Medical_Keyword_38</th>\n",
              "      <th>Medical_Keyword_39</th>\n",
              "      <th>Medical_Keyword_40</th>\n",
              "      <th>Medical_Keyword_41</th>\n",
              "      <th>Medical_Keyword_42</th>\n",
              "      <th>Medical_Keyword_43</th>\n",
              "      <th>Medical_Keyword_44</th>\n",
              "      <th>Medical_Keyword_45</th>\n",
              "      <th>Medical_Keyword_46</th>\n",
              "      <th>Medical_Keyword_47</th>\n",
              "      <th>Medical_Keyword_48</th>\n",
              "      <th>TARGET</th>\n",
              "    </tr>\n",
              "  </thead>\n",
              "  <tbody>\n",
              "    <tr>\n",
              "      <th>0</th>\n",
              "      <td>1</td>\n",
              "      <td>1</td>\n",
              "      <td>D3</td>\n",
              "      <td>26</td>\n",
              "      <td>0.487179</td>\n",
              "      <td>2</td>\n",
              "      <td>3</td>\n",
              "      <td>1</td>\n",
              "      <td>0.611940</td>\n",
              "      <td>0.781818</td>\n",
              "      <td>0.338912</td>\n",
              "      <td>0.472262</td>\n",
              "      <td>0.150</td>\n",
              "      <td>3</td>\n",
              "      <td>1</td>\n",
              "      <td>0.00</td>\n",
              "      <td>2</td>\n",
              "      <td>0.50</td>\n",
              "      <td>2</td>\n",
              "      <td>2</td>\n",
              "      <td>11</td>\n",
              "      <td>3</td>\n",
              "      <td>1</td>\n",
              "      <td>1</td>\n",
              "      <td>1</td>\n",
              "      <td>2</td>\n",
              "      <td>1</td>\n",
              "      <td>1</td>\n",
              "      <td>3</td>\n",
              "      <td>NaN</td>\n",
              "      <td>3</td>\n",
              "      <td>2</td>\n",
              "      <td>3</td>\n",
              "      <td>3</td>\n",
              "      <td>NaN</td>\n",
              "      <td>0.627451</td>\n",
              "      <td>0.760563</td>\n",
              "      <td>NaN</td>\n",
              "      <td>2.0</td>\n",
              "      <td>16</td>\n",
              "      <td>...</td>\n",
              "      <td>0</td>\n",
              "      <td>0</td>\n",
              "      <td>0</td>\n",
              "      <td>0</td>\n",
              "      <td>0</td>\n",
              "      <td>1</td>\n",
              "      <td>0</td>\n",
              "      <td>0</td>\n",
              "      <td>0</td>\n",
              "      <td>1</td>\n",
              "      <td>0</td>\n",
              "      <td>0</td>\n",
              "      <td>0</td>\n",
              "      <td>0</td>\n",
              "      <td>0</td>\n",
              "      <td>1</td>\n",
              "      <td>0</td>\n",
              "      <td>0</td>\n",
              "      <td>0</td>\n",
              "      <td>0</td>\n",
              "      <td>0</td>\n",
              "      <td>0</td>\n",
              "      <td>0</td>\n",
              "      <td>0</td>\n",
              "      <td>0</td>\n",
              "      <td>0</td>\n",
              "      <td>0</td>\n",
              "      <td>0</td>\n",
              "      <td>0</td>\n",
              "      <td>0</td>\n",
              "      <td>0</td>\n",
              "      <td>0</td>\n",
              "      <td>0</td>\n",
              "      <td>0</td>\n",
              "      <td>0</td>\n",
              "      <td>0</td>\n",
              "      <td>0</td>\n",
              "      <td>0</td>\n",
              "      <td>0</td>\n",
              "      <td>0.0</td>\n",
              "    </tr>\n",
              "    <tr>\n",
              "      <th>1</th>\n",
              "      <td>3</td>\n",
              "      <td>1</td>\n",
              "      <td>A2</td>\n",
              "      <td>26</td>\n",
              "      <td>0.076923</td>\n",
              "      <td>2</td>\n",
              "      <td>3</td>\n",
              "      <td>1</td>\n",
              "      <td>0.626866</td>\n",
              "      <td>0.727273</td>\n",
              "      <td>0.311715</td>\n",
              "      <td>0.484984</td>\n",
              "      <td>0.000</td>\n",
              "      <td>1</td>\n",
              "      <td>3</td>\n",
              "      <td>0.07</td>\n",
              "      <td>2</td>\n",
              "      <td>0.20</td>\n",
              "      <td>1</td>\n",
              "      <td>2</td>\n",
              "      <td>8</td>\n",
              "      <td>3</td>\n",
              "      <td>1</td>\n",
              "      <td>1</td>\n",
              "      <td>1</td>\n",
              "      <td>1</td>\n",
              "      <td>1</td>\n",
              "      <td>3</td>\n",
              "      <td>1</td>\n",
              "      <td>0.001667</td>\n",
              "      <td>1</td>\n",
              "      <td>1</td>\n",
              "      <td>2</td>\n",
              "      <td>2</td>\n",
              "      <td>NaN</td>\n",
              "      <td>0.529412</td>\n",
              "      <td>0.746479</td>\n",
              "      <td>NaN</td>\n",
              "      <td>5.0</td>\n",
              "      <td>261</td>\n",
              "      <td>...</td>\n",
              "      <td>0</td>\n",
              "      <td>0</td>\n",
              "      <td>0</td>\n",
              "      <td>0</td>\n",
              "      <td>0</td>\n",
              "      <td>0</td>\n",
              "      <td>0</td>\n",
              "      <td>0</td>\n",
              "      <td>0</td>\n",
              "      <td>0</td>\n",
              "      <td>0</td>\n",
              "      <td>0</td>\n",
              "      <td>0</td>\n",
              "      <td>0</td>\n",
              "      <td>0</td>\n",
              "      <td>0</td>\n",
              "      <td>0</td>\n",
              "      <td>0</td>\n",
              "      <td>0</td>\n",
              "      <td>0</td>\n",
              "      <td>0</td>\n",
              "      <td>0</td>\n",
              "      <td>0</td>\n",
              "      <td>0</td>\n",
              "      <td>0</td>\n",
              "      <td>0</td>\n",
              "      <td>0</td>\n",
              "      <td>0</td>\n",
              "      <td>0</td>\n",
              "      <td>0</td>\n",
              "      <td>0</td>\n",
              "      <td>0</td>\n",
              "      <td>0</td>\n",
              "      <td>0</td>\n",
              "      <td>0</td>\n",
              "      <td>0</td>\n",
              "      <td>0</td>\n",
              "      <td>0</td>\n",
              "      <td>0</td>\n",
              "      <td>0.0</td>\n",
              "    </tr>\n",
              "    <tr>\n",
              "      <th>2</th>\n",
              "      <td>4</td>\n",
              "      <td>1</td>\n",
              "      <td>D3</td>\n",
              "      <td>26</td>\n",
              "      <td>0.144667</td>\n",
              "      <td>2</td>\n",
              "      <td>3</td>\n",
              "      <td>1</td>\n",
              "      <td>0.582090</td>\n",
              "      <td>0.709091</td>\n",
              "      <td>0.320084</td>\n",
              "      <td>0.519103</td>\n",
              "      <td>0.143</td>\n",
              "      <td>9</td>\n",
              "      <td>1</td>\n",
              "      <td>0.00</td>\n",
              "      <td>2</td>\n",
              "      <td>0.45</td>\n",
              "      <td>1</td>\n",
              "      <td>2</td>\n",
              "      <td>3</td>\n",
              "      <td>3</td>\n",
              "      <td>1</td>\n",
              "      <td>1</td>\n",
              "      <td>1</td>\n",
              "      <td>2</td>\n",
              "      <td>1</td>\n",
              "      <td>1</td>\n",
              "      <td>3</td>\n",
              "      <td>NaN</td>\n",
              "      <td>3</td>\n",
              "      <td>2</td>\n",
              "      <td>3</td>\n",
              "      <td>3</td>\n",
              "      <td>0.666667</td>\n",
              "      <td>NaN</td>\n",
              "      <td>0.661972</td>\n",
              "      <td>NaN</td>\n",
              "      <td>3.0</td>\n",
              "      <td>132</td>\n",
              "      <td>...</td>\n",
              "      <td>1</td>\n",
              "      <td>0</td>\n",
              "      <td>0</td>\n",
              "      <td>0</td>\n",
              "      <td>0</td>\n",
              "      <td>0</td>\n",
              "      <td>0</td>\n",
              "      <td>0</td>\n",
              "      <td>0</td>\n",
              "      <td>0</td>\n",
              "      <td>0</td>\n",
              "      <td>0</td>\n",
              "      <td>0</td>\n",
              "      <td>1</td>\n",
              "      <td>0</td>\n",
              "      <td>1</td>\n",
              "      <td>0</td>\n",
              "      <td>0</td>\n",
              "      <td>0</td>\n",
              "      <td>0</td>\n",
              "      <td>0</td>\n",
              "      <td>0</td>\n",
              "      <td>0</td>\n",
              "      <td>0</td>\n",
              "      <td>0</td>\n",
              "      <td>0</td>\n",
              "      <td>0</td>\n",
              "      <td>0</td>\n",
              "      <td>0</td>\n",
              "      <td>0</td>\n",
              "      <td>0</td>\n",
              "      <td>0</td>\n",
              "      <td>0</td>\n",
              "      <td>0</td>\n",
              "      <td>0</td>\n",
              "      <td>0</td>\n",
              "      <td>0</td>\n",
              "      <td>0</td>\n",
              "      <td>0</td>\n",
              "      <td>0.0</td>\n",
              "    </tr>\n",
              "    <tr>\n",
              "      <th>3</th>\n",
              "      <td>9</td>\n",
              "      <td>1</td>\n",
              "      <td>A1</td>\n",
              "      <td>26</td>\n",
              "      <td>0.151709</td>\n",
              "      <td>2</td>\n",
              "      <td>1</td>\n",
              "      <td>1</td>\n",
              "      <td>0.522388</td>\n",
              "      <td>0.654545</td>\n",
              "      <td>0.267782</td>\n",
              "      <td>0.486962</td>\n",
              "      <td>0.210</td>\n",
              "      <td>9</td>\n",
              "      <td>1</td>\n",
              "      <td>0.00</td>\n",
              "      <td>2</td>\n",
              "      <td>1.00</td>\n",
              "      <td>2</td>\n",
              "      <td>2</td>\n",
              "      <td>3</td>\n",
              "      <td>3</td>\n",
              "      <td>1</td>\n",
              "      <td>1</td>\n",
              "      <td>1</td>\n",
              "      <td>1</td>\n",
              "      <td>1</td>\n",
              "      <td>3</td>\n",
              "      <td>1</td>\n",
              "      <td>0.000667</td>\n",
              "      <td>2</td>\n",
              "      <td>1</td>\n",
              "      <td>2</td>\n",
              "      <td>2</td>\n",
              "      <td>NaN</td>\n",
              "      <td>0.686275</td>\n",
              "      <td>0.676056</td>\n",
              "      <td>NaN</td>\n",
              "      <td>NaN</td>\n",
              "      <td>162</td>\n",
              "      <td>...</td>\n",
              "      <td>0</td>\n",
              "      <td>0</td>\n",
              "      <td>0</td>\n",
              "      <td>0</td>\n",
              "      <td>0</td>\n",
              "      <td>0</td>\n",
              "      <td>0</td>\n",
              "      <td>0</td>\n",
              "      <td>0</td>\n",
              "      <td>0</td>\n",
              "      <td>0</td>\n",
              "      <td>0</td>\n",
              "      <td>0</td>\n",
              "      <td>0</td>\n",
              "      <td>0</td>\n",
              "      <td>0</td>\n",
              "      <td>0</td>\n",
              "      <td>0</td>\n",
              "      <td>0</td>\n",
              "      <td>0</td>\n",
              "      <td>0</td>\n",
              "      <td>0</td>\n",
              "      <td>0</td>\n",
              "      <td>0</td>\n",
              "      <td>0</td>\n",
              "      <td>0</td>\n",
              "      <td>0</td>\n",
              "      <td>1</td>\n",
              "      <td>0</td>\n",
              "      <td>0</td>\n",
              "      <td>0</td>\n",
              "      <td>0</td>\n",
              "      <td>0</td>\n",
              "      <td>0</td>\n",
              "      <td>0</td>\n",
              "      <td>0</td>\n",
              "      <td>0</td>\n",
              "      <td>1</td>\n",
              "      <td>1</td>\n",
              "      <td>0.0</td>\n",
              "    </tr>\n",
              "    <tr>\n",
              "      <th>4</th>\n",
              "      <td>12</td>\n",
              "      <td>1</td>\n",
              "      <td>A1</td>\n",
              "      <td>26</td>\n",
              "      <td>0.076923</td>\n",
              "      <td>2</td>\n",
              "      <td>3</td>\n",
              "      <td>1</td>\n",
              "      <td>0.298507</td>\n",
              "      <td>0.672727</td>\n",
              "      <td>0.246862</td>\n",
              "      <td>0.428718</td>\n",
              "      <td>0.085</td>\n",
              "      <td>9</td>\n",
              "      <td>1</td>\n",
              "      <td>0.00</td>\n",
              "      <td>2</td>\n",
              "      <td>0.20</td>\n",
              "      <td>1</td>\n",
              "      <td>2</td>\n",
              "      <td>8</td>\n",
              "      <td>3</td>\n",
              "      <td>1</td>\n",
              "      <td>2</td>\n",
              "      <td>1</td>\n",
              "      <td>2</td>\n",
              "      <td>1</td>\n",
              "      <td>1</td>\n",
              "      <td>3</td>\n",
              "      <td>NaN</td>\n",
              "      <td>3</td>\n",
              "      <td>2</td>\n",
              "      <td>3</td>\n",
              "      <td>2</td>\n",
              "      <td>0.449275</td>\n",
              "      <td>NaN</td>\n",
              "      <td>0.380282</td>\n",
              "      <td>NaN</td>\n",
              "      <td>18.0</td>\n",
              "      <td>181</td>\n",
              "      <td>...</td>\n",
              "      <td>0</td>\n",
              "      <td>0</td>\n",
              "      <td>0</td>\n",
              "      <td>0</td>\n",
              "      <td>0</td>\n",
              "      <td>0</td>\n",
              "      <td>0</td>\n",
              "      <td>0</td>\n",
              "      <td>0</td>\n",
              "      <td>0</td>\n",
              "      <td>0</td>\n",
              "      <td>0</td>\n",
              "      <td>0</td>\n",
              "      <td>0</td>\n",
              "      <td>0</td>\n",
              "      <td>1</td>\n",
              "      <td>0</td>\n",
              "      <td>0</td>\n",
              "      <td>0</td>\n",
              "      <td>0</td>\n",
              "      <td>0</td>\n",
              "      <td>0</td>\n",
              "      <td>0</td>\n",
              "      <td>0</td>\n",
              "      <td>0</td>\n",
              "      <td>0</td>\n",
              "      <td>0</td>\n",
              "      <td>0</td>\n",
              "      <td>0</td>\n",
              "      <td>0</td>\n",
              "      <td>0</td>\n",
              "      <td>0</td>\n",
              "      <td>0</td>\n",
              "      <td>0</td>\n",
              "      <td>0</td>\n",
              "      <td>0</td>\n",
              "      <td>0</td>\n",
              "      <td>0</td>\n",
              "      <td>0</td>\n",
              "      <td>0.0</td>\n",
              "    </tr>\n",
              "  </tbody>\n",
              "</table>\n",
              "<p>5 rows × 128 columns</p>\n",
              "</div>"
            ],
            "text/plain": [
              "   Id  Product_Info_1  ... Medical_Keyword_48  TARGET\n",
              "0   1               1  ...                  0     0.0\n",
              "1   3               1  ...                  0     0.0\n",
              "2   4               1  ...                  0     0.0\n",
              "3   9               1  ...                  1     0.0\n",
              "4  12               1  ...                  0     0.0\n",
              "\n",
              "[5 rows x 128 columns]"
            ]
          },
          "metadata": {
            "tags": []
          },
          "execution_count": 112
        }
      ]
    },
    {
      "cell_type": "markdown",
      "metadata": {
        "id": "Dz4vPoP4LQjT",
        "colab_type": "text"
      },
      "source": [
        "# 7.SCORE CARD"
      ]
    },
    {
      "cell_type": "code",
      "metadata": {
        "id": "2Muppaii-Dth",
        "colab_type": "code",
        "colab": {}
      },
      "source": [
        "df_train_fix = X_train_se.copy()\n",
        "df_train_fix['Response'] = y_train_se"
      ],
      "execution_count": 0,
      "outputs": []
    },
    {
      "cell_type": "code",
      "metadata": {
        "id": "i_vS7AdrL1pR",
        "colab_type": "code",
        "colab": {}
      },
      "source": [
        "medical_keyword_cols=[col for col in df_train_fix.columns if str(col).startswith(\"Medical_Keyword\")]\n",
        "medical_cols=[col for col in df_train_fix.columns if str(col).startswith(\"Medical_History\")]\n",
        "product_info_cols =[col for col in df_train_fix.columns if str(col).startswith(\"Product_Info\")]\n",
        "employment_info_cols=[col for col in df_train_fix.columns if str(col).startswith(\"Employment_Info\")]\n",
        "insured_info_cols =[col for col in df_train_fix.columns if str(col).startswith(\"InsuredInfo\")]\n",
        "insured_history_cols=[col for col in df_train_fix.columns if str(col).startswith(\"Insurance_History\")]\n",
        "family_history_cols =[col for col in df_train_fix.columns if str(col).startswith(\"Family_Hist\")]\n",
        "\n",
        "df_train_fix['Total_Medical_Keyword']=df_train_fix[medical_keyword_cols].sum(axis=1)\n",
        "df_train_fix['Total_Medical_History']=df_train_fix[medical_cols].sum(axis=1)\n",
        "df_train_fix['Total_Product_Info']=df_train_fix[product_info_cols].sum(axis=1)\n",
        "df_train_fix['Total_Employment_Info']=df_train_fix[employment_info_cols].sum(axis=1)\n",
        "df_train_fix['Total_InsuredInfo']=df_train_fix[insured_info_cols].sum(axis=1)\n",
        "df_train_fix['Total_Insurance_History']=df_train_fix[insured_history_cols].sum(axis=1)\n",
        "df_train_fix['Total_Family_Hist']=df_train_fix[family_history_cols].sum(axis=1)"
      ],
      "execution_count": 0,
      "outputs": []
    },
    {
      "cell_type": "code",
      "metadata": {
        "id": "JjgteCWHOdU5",
        "colab_type": "code",
        "colab": {}
      },
      "source": [
        "selected_col = [\"Ins_Age\", \"Ht\", \"Wt\", \"BMI\", 'Total_Medical_Keyword', 'Total_Medical_History', 'Total_Product_Info', 'Total_Employment_Info', 'Total_InsuredInfo', 'Total_Insurance_History', 'Total_Family_Hist', \"Response\"]"
      ],
      "execution_count": 0,
      "outputs": []
    },
    {
      "cell_type": "code",
      "metadata": {
        "id": "NxVRddneOjud",
        "colab_type": "code",
        "colab": {}
      },
      "source": [
        "df_train_fix = df_train_fix[selected_col]"
      ],
      "execution_count": 0,
      "outputs": []
    },
    {
      "cell_type": "code",
      "metadata": {
        "id": "sbQEyMUVLPM3",
        "colab_type": "code",
        "colab": {
          "base_uri": "https://localhost:8080/",
          "height": 428
        },
        "outputId": "e0c94b3b-03b4-442a-cad2-1dcc037732bd"
      },
      "source": [
        "!pip install scorecardpy"
      ],
      "execution_count": 151,
      "outputs": [
        {
          "output_type": "stream",
          "text": [
            "Collecting scorecardpy\n",
            "\u001b[?25l  Downloading https://files.pythonhosted.org/packages/b3/fd/be6c15335e537d2360f85823cbb0b1c02cdd2ed9ff52539db78545db7115/scorecardpy-0.1.9.1.1.tar.gz (55kB)\n",
            "\r\u001b[K     |██████                          | 10kB 16.6MB/s eta 0:00:01\r\u001b[K     |███████████▉                    | 20kB 4.2MB/s eta 0:00:01\r\u001b[K     |█████████████████▉              | 30kB 5.7MB/s eta 0:00:01\r\u001b[K     |███████████████████████▊        | 40kB 7.3MB/s eta 0:00:01\r\u001b[K     |█████████████████████████████▋  | 51kB 4.9MB/s eta 0:00:01\r\u001b[K     |████████████████████████████████| 61kB 3.3MB/s \n",
            "\u001b[?25hRequirement already satisfied: numpy in /usr/local/lib/python3.6/dist-packages (from scorecardpy) (1.17.3)\n",
            "Requirement already satisfied: pandas>=0.25.0 in /usr/local/lib/python3.6/dist-packages (from scorecardpy) (0.25.3)\n",
            "Requirement already satisfied: matplotlib in /usr/local/lib/python3.6/dist-packages (from scorecardpy) (3.1.1)\n",
            "Requirement already satisfied: scikit-learn>=0.19.1 in /usr/local/lib/python3.6/dist-packages (from scorecardpy) (0.21.3)\n",
            "Requirement already satisfied: pytz>=2017.2 in /usr/local/lib/python3.6/dist-packages (from pandas>=0.25.0->scorecardpy) (2018.9)\n",
            "Requirement already satisfied: python-dateutil>=2.6.1 in /usr/local/lib/python3.6/dist-packages (from pandas>=0.25.0->scorecardpy) (2.6.1)\n",
            "Requirement already satisfied: pyparsing!=2.0.4,!=2.1.2,!=2.1.6,>=2.0.1 in /usr/local/lib/python3.6/dist-packages (from matplotlib->scorecardpy) (2.4.2)\n",
            "Requirement already satisfied: kiwisolver>=1.0.1 in /usr/local/lib/python3.6/dist-packages (from matplotlib->scorecardpy) (1.1.0)\n",
            "Requirement already satisfied: cycler>=0.10 in /usr/local/lib/python3.6/dist-packages (from matplotlib->scorecardpy) (0.10.0)\n",
            "Requirement already satisfied: scipy>=0.17.0 in /usr/local/lib/python3.6/dist-packages (from scikit-learn>=0.19.1->scorecardpy) (1.3.1)\n",
            "Requirement already satisfied: joblib>=0.11 in /usr/local/lib/python3.6/dist-packages (from scikit-learn>=0.19.1->scorecardpy) (0.14.0)\n",
            "Requirement already satisfied: six>=1.5 in /usr/local/lib/python3.6/dist-packages (from python-dateutil>=2.6.1->pandas>=0.25.0->scorecardpy) (1.12.0)\n",
            "Requirement already satisfied: setuptools in /usr/local/lib/python3.6/dist-packages (from kiwisolver>=1.0.1->matplotlib->scorecardpy) (41.4.0)\n",
            "Building wheels for collected packages: scorecardpy\n",
            "  Building wheel for scorecardpy (setup.py) ... \u001b[?25l\u001b[?25hdone\n",
            "  Created wheel for scorecardpy: filename=scorecardpy-0.1.9.1.1-cp36-none-any.whl size=58169 sha256=beb85a6a23552dd64619e1191916227777b3467ebb0f121e7e0abf9761578ace\n",
            "  Stored in directory: /root/.cache/pip/wheels/8f/4c/98/567ff70984acd88ffae211d8fc209e34b98fb43ff27f09fdd3\n",
            "Successfully built scorecardpy\n",
            "Installing collected packages: scorecardpy\n",
            "Successfully installed scorecardpy-0.1.9.1.1\n"
          ],
          "name": "stdout"
        }
      ]
    },
    {
      "cell_type": "code",
      "metadata": {
        "id": "Fut1FbnIQ9pI",
        "colab_type": "code",
        "colab": {
          "base_uri": "https://localhost:8080/",
          "height": 1000
        },
        "outputId": "88a82214-7d22-4d5f-e3b5-6e182bf3b716"
      },
      "source": [
        "# Traditional Credit Scoring Using Logistic Regression\n",
        "\n",
        "import scorecardpy as sc\n",
        "\n",
        "# data prepare ------\n",
        "# load germancredit data\n",
        "dat = df_train_fix.copy()\n",
        "\n",
        "# filter variable via missing rate, iv, identical value rate\n",
        "dt_s = sc.var_filter(dat, y=\"Response\")\n",
        "\n",
        "# breaking dt into train and test\n",
        "train, test = sc.split_df(dt_s, 'Response').values()\n",
        "\n",
        "# woe binning ------\n",
        "bins = sc.woebin(dt_s, y=\"Response\")\n",
        "# sc.woebin_plot(bins)\n",
        "\n",
        "# converting train and test into woe values\n",
        "train_woe = sc.woebin_ply(train,bins)\n",
        "test_woe = sc.woebin_ply(test,bins)\n",
        "\n",
        "y_train = train_woe.loc[:,'Response']\n",
        "X_train = train_woe.loc[:,train_woe.columns != 'Response']\n",
        "y_test = test_woe.loc[:,'Response']\n",
        "X_test = test_woe.loc[:,train_woe.columns != 'Response']\n",
        "\n",
        "# logistic regression \n",
        "lr = LogisticRegression(C=0.9, class_weight=None, dual=False, fit_intercept=True,\n",
        "                   intercept_scaling=1, l1_ratio=None, max_iter=100,\n",
        "                   multi_class='warn', n_jobs=None, penalty='l1',\n",
        "                   random_state=None, solver='saga', tol=0.0001, verbose=0,\n",
        "                   warm_start=False)\n",
        "lr.fit(X_train, y_train)\n",
        "# lr.coef_\n",
        "# lr.intercept_\n",
        "\n",
        "# predicted proability\n",
        "train_pred = lr.predict_proba(X_train)[:,1]\n",
        "test_pred = lr.predict_proba(X_test)[:,1]\n",
        "\n",
        "# performance ks & roc ------\n",
        "train_perf = sc.perf_eva(y_train, train_pred, title = \"train\")\n",
        "test_perf = sc.perf_eva(y_test, test_pred, title = \"test\")\n",
        "\n",
        "# score ------\n",
        "card = sc.scorecard(bins, lr, X_train.columns)\n",
        "# credit score\n",
        "train_score = sc.scorecard_ply(train, card, print_step=0)\n",
        "test_score = sc.scorecard_ply(test, card, print_step=0)\n",
        "\n",
        "# psi\n",
        "sc.perf_psi(\n",
        "  score = {'train':train_score, 'test':test_score},\n",
        "  label = {'train':y_train, 'test':y_test}\n",
        ")"
      ],
      "execution_count": 155,
      "outputs": [
        {
          "output_type": "stream",
          "text": [
            "[INFO] filtering variables ...\n",
            "Variable filtering on 61754 rows and 12 columns in 00:04:40 \n",
            "0 variables are removed\n",
            "[INFO] creating woe binning ...\n",
            "Binning on 61754 rows and 12 columns in 00:00:13\n",
            "[INFO] converting into woe values ...\n",
            "[INFO] converting into woe values ...\n"
          ],
          "name": "stdout"
        },
        {
          "output_type": "stream",
          "text": [
            "/usr/local/lib/python3.6/dist-packages/scorecardpy/perf.py:33: FutureWarning: Sorting because non-concatenation axis is not aligned. A future version\n",
            "of pandas will change to not sort by default.\n",
            "\n",
            "To accept the future behavior, pass 'sort=False'.\n",
            "\n",
            "To retain the current behavior and silence the warning, pass 'sort=True'.\n",
            "\n",
            "  ], ignore_index=True)\n"
          ],
          "name": "stderr"
        },
        {
          "output_type": "display_data",
          "data": {
            "image/png": "[encoded data removed]",
            "text/plain": [
              "<Figure size 432x288 with 2 Axes>"
            ]
          },
          "metadata": {
            "tags": []
          }
        },
        {
          "output_type": "display_data",
          "data": {
            "image/png": "[encoded data removed]",
            "text/plain": [
              "<Figure size 432x288 with 2 Axes>"
            ]
          },
          "metadata": {
            "tags": []
          }
        },
        {
          "output_type": "display_data",
          "data": {
            "image/png": "[encoded data removed]",
            "text/plain": [
              "<Figure size 432x288 with 2 Axes>"
            ]
          },
          "metadata": {
            "tags": []
          }
        },
        {
          "output_type": "execute_result",
          "data": {
            "text/plain": [
              "{'pic': {'score': <Figure size 432x288 with 2 Axes>},\n",
              " 'psi':   variable       PSI\n",
              " 0    score  0.000461}"
            ]
          },
          "metadata": {
            "tags": []
          },
          "execution_count": 155
        }
      ]
    },
    {
      "cell_type": "code",
      "metadata": {
        "id": "d1UER_1vRaJG",
        "colab_type": "code",
        "colab": {
          "base_uri": "https://localhost:8080/",
          "height": 1000
        },
        "outputId": "e83907b2-bd85-4d45-a08a-6f3b97f36c3e"
      },
      "source": [
        "a = pd.DataFrame()\n",
        "for i in card:\n",
        "  b = pd.DataFrame(card[i])\n",
        "  a = a.append(b)\n",
        "a"
      ],
      "execution_count": 156,
      "outputs": [
        {
          "output_type": "execute_result",
          "data": {
            "text/html": [
              "<div>\n",
              "<style scoped>\n",
              "    .dataframe tbody tr th:only-of-type {\n",
              "        vertical-align: middle;\n",
              "    }\n",
              "\n",
              "    .dataframe tbody tr th {\n",
              "        vertical-align: top;\n",
              "    }\n",
              "\n",
              "    .dataframe thead th {\n",
              "        text-align: right;\n",
              "    }\n",
              "</style>\n",
              "<table border=\"1\" class=\"dataframe\">\n",
              "  <thead>\n",
              "    <tr style=\"text-align: right;\">\n",
              "      <th></th>\n",
              "      <th>variable</th>\n",
              "      <th>bin</th>\n",
              "      <th>points</th>\n",
              "    </tr>\n",
              "  </thead>\n",
              "  <tbody>\n",
              "    <tr>\n",
              "      <th>0</th>\n",
              "      <td>basepoints</td>\n",
              "      <td>NaN</td>\n",
              "      <td>387.0</td>\n",
              "    </tr>\n",
              "    <tr>\n",
              "      <th>0</th>\n",
              "      <td>Ht</td>\n",
              "      <td>[-inf,0.6)</td>\n",
              "      <td>12.0</td>\n",
              "    </tr>\n",
              "    <tr>\n",
              "      <th>1</th>\n",
              "      <td>Ht</td>\n",
              "      <td>[0.6,0.7)</td>\n",
              "      <td>6.0</td>\n",
              "    </tr>\n",
              "    <tr>\n",
              "      <th>2</th>\n",
              "      <td>Ht</td>\n",
              "      <td>[0.7,0.7999999999999999)</td>\n",
              "      <td>-10.0</td>\n",
              "    </tr>\n",
              "    <tr>\n",
              "      <th>3</th>\n",
              "      <td>Ht</td>\n",
              "      <td>[0.7999999999999999,inf)</td>\n",
              "      <td>11.0</td>\n",
              "    </tr>\n",
              "    <tr>\n",
              "      <th>4</th>\n",
              "      <td>Total_Family_Hist</td>\n",
              "      <td>[-inf,3.300000000000001)</td>\n",
              "      <td>23.0</td>\n",
              "    </tr>\n",
              "    <tr>\n",
              "      <th>5</th>\n",
              "      <td>Total_Family_Hist</td>\n",
              "      <td>[3.300000000000001,3.6000000000000014)</td>\n",
              "      <td>-5.0</td>\n",
              "    </tr>\n",
              "    <tr>\n",
              "      <th>6</th>\n",
              "      <td>Total_Family_Hist</td>\n",
              "      <td>[3.6000000000000014,4.000000000000002)</td>\n",
              "      <td>-30.0</td>\n",
              "    </tr>\n",
              "    <tr>\n",
              "      <th>7</th>\n",
              "      <td>Total_Family_Hist</td>\n",
              "      <td>[4.000000000000002,4.3000000000000025)</td>\n",
              "      <td>5.0</td>\n",
              "    </tr>\n",
              "    <tr>\n",
              "      <th>8</th>\n",
              "      <td>Total_Family_Hist</td>\n",
              "      <td>[4.3000000000000025,4.700000000000003)</td>\n",
              "      <td>-1.0</td>\n",
              "    </tr>\n",
              "    <tr>\n",
              "      <th>9</th>\n",
              "      <td>Total_Family_Hist</td>\n",
              "      <td>[4.700000000000003,inf)</td>\n",
              "      <td>31.0</td>\n",
              "    </tr>\n",
              "    <tr>\n",
              "      <th>10</th>\n",
              "      <td>Total_Product_Info</td>\n",
              "      <td>[-inf,33.00000000000001)</td>\n",
              "      <td>16.0</td>\n",
              "    </tr>\n",
              "    <tr>\n",
              "      <th>11</th>\n",
              "      <td>Total_Product_Info</td>\n",
              "      <td>[33.00000000000001,34.200000000000024)</td>\n",
              "      <td>-31.0</td>\n",
              "    </tr>\n",
              "    <tr>\n",
              "      <th>12</th>\n",
              "      <td>Total_Product_Info</td>\n",
              "      <td>[34.200000000000024,34.40000000000003)</td>\n",
              "      <td>3.0</td>\n",
              "    </tr>\n",
              "    <tr>\n",
              "      <th>13</th>\n",
              "      <td>Total_Product_Info</td>\n",
              "      <td>[34.40000000000003,35.000000000000036)</td>\n",
              "      <td>30.0</td>\n",
              "    </tr>\n",
              "    <tr>\n",
              "      <th>14</th>\n",
              "      <td>Total_Product_Info</td>\n",
              "      <td>[35.000000000000036,inf)</td>\n",
              "      <td>0.0</td>\n",
              "    </tr>\n",
              "    <tr>\n",
              "      <th>15</th>\n",
              "      <td>Total_Employment_Info</td>\n",
              "      <td>[-inf,7.0)</td>\n",
              "      <td>-33.0</td>\n",
              "    </tr>\n",
              "    <tr>\n",
              "      <th>16</th>\n",
              "      <td>Total_Employment_Info</td>\n",
              "      <td>[7.0,17.0)</td>\n",
              "      <td>3.0</td>\n",
              "    </tr>\n",
              "    <tr>\n",
              "      <th>17</th>\n",
              "      <td>Total_Employment_Info</td>\n",
              "      <td>[17.0,inf)</td>\n",
              "      <td>15.0</td>\n",
              "    </tr>\n",
              "    <tr>\n",
              "      <th>18</th>\n",
              "      <td>Total_Medical_Keyword</td>\n",
              "      <td>[-inf,1.0)</td>\n",
              "      <td>6.0</td>\n",
              "    </tr>\n",
              "    <tr>\n",
              "      <th>19</th>\n",
              "      <td>Total_Medical_Keyword</td>\n",
              "      <td>[1.0,2.0)</td>\n",
              "      <td>-0.0</td>\n",
              "    </tr>\n",
              "    <tr>\n",
              "      <th>20</th>\n",
              "      <td>Total_Medical_Keyword</td>\n",
              "      <td>[2.0,3.0)</td>\n",
              "      <td>-5.0</td>\n",
              "    </tr>\n",
              "    <tr>\n",
              "      <th>21</th>\n",
              "      <td>Total_Medical_Keyword</td>\n",
              "      <td>[3.0,inf)</td>\n",
              "      <td>-9.0</td>\n",
              "    </tr>\n",
              "    <tr>\n",
              "      <th>22</th>\n",
              "      <td>Total_InsuredInfo</td>\n",
              "      <td>[-inf,13.0)</td>\n",
              "      <td>-3.0</td>\n",
              "    </tr>\n",
              "    <tr>\n",
              "      <th>23</th>\n",
              "      <td>Total_InsuredInfo</td>\n",
              "      <td>[13.0,15.0)</td>\n",
              "      <td>9.0</td>\n",
              "    </tr>\n",
              "    <tr>\n",
              "      <th>24</th>\n",
              "      <td>Total_InsuredInfo</td>\n",
              "      <td>[15.0,16.0)</td>\n",
              "      <td>-18.0</td>\n",
              "    </tr>\n",
              "    <tr>\n",
              "      <th>25</th>\n",
              "      <td>Total_InsuredInfo</td>\n",
              "      <td>[16.0,18.0)</td>\n",
              "      <td>-6.0</td>\n",
              "    </tr>\n",
              "    <tr>\n",
              "      <th>26</th>\n",
              "      <td>Total_InsuredInfo</td>\n",
              "      <td>[18.0,19.0)</td>\n",
              "      <td>10.0</td>\n",
              "    </tr>\n",
              "    <tr>\n",
              "      <th>27</th>\n",
              "      <td>Total_InsuredInfo</td>\n",
              "      <td>[19.0,inf)</td>\n",
              "      <td>15.0</td>\n",
              "    </tr>\n",
              "    <tr>\n",
              "      <th>28</th>\n",
              "      <td>Total_Insurance_History</td>\n",
              "      <td>[-inf,11.0)</td>\n",
              "      <td>6.0</td>\n",
              "    </tr>\n",
              "    <tr>\n",
              "      <th>29</th>\n",
              "      <td>Total_Insurance_History</td>\n",
              "      <td>[11.0,13.0)</td>\n",
              "      <td>-19.0</td>\n",
              "    </tr>\n",
              "    <tr>\n",
              "      <th>30</th>\n",
              "      <td>Total_Insurance_History</td>\n",
              "      <td>[13.0,15.0)</td>\n",
              "      <td>4.0</td>\n",
              "    </tr>\n",
              "    <tr>\n",
              "      <th>31</th>\n",
              "      <td>Total_Insurance_History</td>\n",
              "      <td>[15.0,inf)</td>\n",
              "      <td>-0.0</td>\n",
              "    </tr>\n",
              "    <tr>\n",
              "      <th>32</th>\n",
              "      <td>Wt</td>\n",
              "      <td>[-inf,0.2)</td>\n",
              "      <td>17.0</td>\n",
              "    </tr>\n",
              "    <tr>\n",
              "      <th>33</th>\n",
              "      <td>Wt</td>\n",
              "      <td>[0.2,0.30000000000000004)</td>\n",
              "      <td>4.0</td>\n",
              "    </tr>\n",
              "    <tr>\n",
              "      <th>34</th>\n",
              "      <td>Wt</td>\n",
              "      <td>[0.30000000000000004,0.4)</td>\n",
              "      <td>-4.0</td>\n",
              "    </tr>\n",
              "    <tr>\n",
              "      <th>35</th>\n",
              "      <td>Wt</td>\n",
              "      <td>[0.4,inf)</td>\n",
              "      <td>-17.0</td>\n",
              "    </tr>\n",
              "    <tr>\n",
              "      <th>36</th>\n",
              "      <td>BMI</td>\n",
              "      <td>[-inf,0.4)</td>\n",
              "      <td>28.0</td>\n",
              "    </tr>\n",
              "    <tr>\n",
              "      <th>37</th>\n",
              "      <td>BMI</td>\n",
              "      <td>[0.4,0.5)</td>\n",
              "      <td>3.0</td>\n",
              "    </tr>\n",
              "    <tr>\n",
              "      <th>38</th>\n",
              "      <td>BMI</td>\n",
              "      <td>[0.5,0.6000000000000001)</td>\n",
              "      <td>-10.0</td>\n",
              "    </tr>\n",
              "    <tr>\n",
              "      <th>39</th>\n",
              "      <td>BMI</td>\n",
              "      <td>[0.6000000000000001,0.7000000000000001)</td>\n",
              "      <td>-25.0</td>\n",
              "    </tr>\n",
              "    <tr>\n",
              "      <th>40</th>\n",
              "      <td>BMI</td>\n",
              "      <td>[0.7000000000000001,inf)</td>\n",
              "      <td>-67.0</td>\n",
              "    </tr>\n",
              "    <tr>\n",
              "      <th>41</th>\n",
              "      <td>Ins_Age</td>\n",
              "      <td>[-inf,0.2)</td>\n",
              "      <td>22.0</td>\n",
              "    </tr>\n",
              "    <tr>\n",
              "      <th>42</th>\n",
              "      <td>Ins_Age</td>\n",
              "      <td>[0.2,0.30000000000000004)</td>\n",
              "      <td>10.0</td>\n",
              "    </tr>\n",
              "    <tr>\n",
              "      <th>43</th>\n",
              "      <td>Ins_Age</td>\n",
              "      <td>[0.30000000000000004,0.6000000000000001)</td>\n",
              "      <td>-4.0</td>\n",
              "    </tr>\n",
              "    <tr>\n",
              "      <th>44</th>\n",
              "      <td>Ins_Age</td>\n",
              "      <td>[0.6000000000000001,inf)</td>\n",
              "      <td>-14.0</td>\n",
              "    </tr>\n",
              "    <tr>\n",
              "      <th>45</th>\n",
              "      <td>Total_Medical_History</td>\n",
              "      <td>[-inf,160.0)</td>\n",
              "      <td>-0.0</td>\n",
              "    </tr>\n",
              "    <tr>\n",
              "      <th>46</th>\n",
              "      <td>Total_Medical_History</td>\n",
              "      <td>[160.0,200.0)</td>\n",
              "      <td>-20.0</td>\n",
              "    </tr>\n",
              "    <tr>\n",
              "      <th>47</th>\n",
              "      <td>Total_Medical_History</td>\n",
              "      <td>[200.0,240.0)</td>\n",
              "      <td>9.0</td>\n",
              "    </tr>\n",
              "    <tr>\n",
              "      <th>48</th>\n",
              "      <td>Total_Medical_History</td>\n",
              "      <td>[240.0,280.0)</td>\n",
              "      <td>17.0</td>\n",
              "    </tr>\n",
              "    <tr>\n",
              "      <th>49</th>\n",
              "      <td>Total_Medical_History</td>\n",
              "      <td>[280.0,520.0)</td>\n",
              "      <td>0.0</td>\n",
              "    </tr>\n",
              "    <tr>\n",
              "      <th>50</th>\n",
              "      <td>Total_Medical_History</td>\n",
              "      <td>[520.0,560.0)</td>\n",
              "      <td>-29.0</td>\n",
              "    </tr>\n",
              "    <tr>\n",
              "      <th>51</th>\n",
              "      <td>Total_Medical_History</td>\n",
              "      <td>[560.0,inf)</td>\n",
              "      <td>8.0</td>\n",
              "    </tr>\n",
              "  </tbody>\n",
              "</table>\n",
              "</div>"
            ],
            "text/plain": [
              "                   variable                                       bin  points\n",
              "0                basepoints                                       NaN   387.0\n",
              "0                        Ht                                [-inf,0.6)    12.0\n",
              "1                        Ht                                 [0.6,0.7)     6.0\n",
              "2                        Ht                  [0.7,0.7999999999999999)   -10.0\n",
              "3                        Ht                  [0.7999999999999999,inf)    11.0\n",
              "4         Total_Family_Hist                  [-inf,3.300000000000001)    23.0\n",
              "5         Total_Family_Hist    [3.300000000000001,3.6000000000000014)    -5.0\n",
              "6         Total_Family_Hist    [3.6000000000000014,4.000000000000002)   -30.0\n",
              "7         Total_Family_Hist    [4.000000000000002,4.3000000000000025)     5.0\n",
              "8         Total_Family_Hist    [4.3000000000000025,4.700000000000003)    -1.0\n",
              "9         Total_Family_Hist                   [4.700000000000003,inf)    31.0\n",
              "10       Total_Product_Info                  [-inf,33.00000000000001)    16.0\n",
              "11       Total_Product_Info    [33.00000000000001,34.200000000000024)   -31.0\n",
              "12       Total_Product_Info    [34.200000000000024,34.40000000000003)     3.0\n",
              "13       Total_Product_Info    [34.40000000000003,35.000000000000036)    30.0\n",
              "14       Total_Product_Info                  [35.000000000000036,inf)     0.0\n",
              "15    Total_Employment_Info                                [-inf,7.0)   -33.0\n",
              "16    Total_Employment_Info                                [7.0,17.0)     3.0\n",
              "17    Total_Employment_Info                                [17.0,inf)    15.0\n",
              "18    Total_Medical_Keyword                                [-inf,1.0)     6.0\n",
              "19    Total_Medical_Keyword                                 [1.0,2.0)    -0.0\n",
              "20    Total_Medical_Keyword                                 [2.0,3.0)    -5.0\n",
              "21    Total_Medical_Keyword                                 [3.0,inf)    -9.0\n",
              "22        Total_InsuredInfo                               [-inf,13.0)    -3.0\n",
              "23        Total_InsuredInfo                               [13.0,15.0)     9.0\n",
              "24        Total_InsuredInfo                               [15.0,16.0)   -18.0\n",
              "25        Total_InsuredInfo                               [16.0,18.0)    -6.0\n",
              "26        Total_InsuredInfo                               [18.0,19.0)    10.0\n",
              "27        Total_InsuredInfo                                [19.0,inf)    15.0\n",
              "28  Total_Insurance_History                               [-inf,11.0)     6.0\n",
              "29  Total_Insurance_History                               [11.0,13.0)   -19.0\n",
              "30  Total_Insurance_History                               [13.0,15.0)     4.0\n",
              "31  Total_Insurance_History                                [15.0,inf)    -0.0\n",
              "32                       Wt                                [-inf,0.2)    17.0\n",
              "33                       Wt                 [0.2,0.30000000000000004)     4.0\n",
              "34                       Wt                 [0.30000000000000004,0.4)    -4.0\n",
              "35                       Wt                                 [0.4,inf)   -17.0\n",
              "36                      BMI                                [-inf,0.4)    28.0\n",
              "37                      BMI                                 [0.4,0.5)     3.0\n",
              "38                      BMI                  [0.5,0.6000000000000001)   -10.0\n",
              "39                      BMI   [0.6000000000000001,0.7000000000000001)   -25.0\n",
              "40                      BMI                  [0.7000000000000001,inf)   -67.0\n",
              "41                  Ins_Age                                [-inf,0.2)    22.0\n",
              "42                  Ins_Age                 [0.2,0.30000000000000004)    10.0\n",
              "43                  Ins_Age  [0.30000000000000004,0.6000000000000001)    -4.0\n",
              "44                  Ins_Age                  [0.6000000000000001,inf)   -14.0\n",
              "45    Total_Medical_History                              [-inf,160.0)    -0.0\n",
              "46    Total_Medical_History                             [160.0,200.0)   -20.0\n",
              "47    Total_Medical_History                             [200.0,240.0)     9.0\n",
              "48    Total_Medical_History                             [240.0,280.0)    17.0\n",
              "49    Total_Medical_History                             [280.0,520.0)     0.0\n",
              "50    Total_Medical_History                             [520.0,560.0)   -29.0\n",
              "51    Total_Medical_History                               [560.0,inf)     8.0"
            ]
          },
          "metadata": {
            "tags": []
          },
          "execution_count": 156
        }
      ]
    },
    {
      "cell_type": "code",
      "metadata": {
        "id": "lCQ8KIPQWTp0",
        "colab_type": "code",
        "colab": {}
      },
      "source": [
        ""
      ],
      "execution_count": 0,
      "outputs": []
    },
    {
      "cell_type": "code",
      "metadata": {
        "id": "UZZzV0cgZYh1",
        "colab_type": "code",
        "colab": {}
      },
      "source": [
        "y_pred_train = lr.predict(X_train)\n",
        "y_pred_test  = lr.predict(X_test)"
      ],
      "execution_count": 0,
      "outputs": []
    },
    {
      "cell_type": "code",
      "metadata": {
        "id": "xZicmZiUZao9",
        "colab_type": "code",
        "colab": {
          "base_uri": "https://localhost:8080/",
          "height": 272
        },
        "outputId": "6e54dd47-2924-421e-f526-6424f926ec99"
      },
      "source": [
        "from sklearn.metrics import classification_report,roc_auc_score,confusion_matrix,precision_recall_curve\n",
        "print(\"Accuracy Train: \", round(roc_auc_score(y_pred_train,y_train)*100,2))\n",
        "print(\"Accuracy Test: \", round(roc_auc_score(y_pred_test,y_test)*100,2))\n",
        "print(\"Classification Report: \\n\",classification_report(y_pred_test,y_test))\n",
        "print(\"Confusion Matrix: \\n\",confusion_matrix(y_pred_test,y_test))"
      ],
      "execution_count": 158,
      "outputs": [
        {
          "output_type": "stream",
          "text": [
            "Accuracy Train:  65.59\n",
            "Accuracy Test:  65.79\n",
            "Classification Report: \n",
            "               precision    recall  f1-score   support\n",
            "\n",
            "           0       0.67      0.65      0.66      9450\n",
            "           1       0.65      0.66      0.65      9076\n",
            "\n",
            "    accuracy                           0.66     18526\n",
            "   macro avg       0.66      0.66      0.66     18526\n",
            "weighted avg       0.66      0.66      0.66     18526\n",
            "\n",
            "Confusion Matrix: \n",
            " [[6187 3263]\n",
            " [3076 6000]]\n"
          ],
          "name": "stdout"
        }
      ]
    },
    {
      "cell_type": "code",
      "metadata": {
        "id": "ETZSwSanZg5W",
        "colab_type": "code",
        "colab": {}
      },
      "source": [
        ""
      ],
      "execution_count": 0,
      "outputs": []
    }
  ]
}