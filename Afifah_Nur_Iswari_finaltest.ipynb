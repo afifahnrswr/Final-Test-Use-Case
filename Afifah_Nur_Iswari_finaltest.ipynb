{
  "nbformat": 4,
  "nbformat_minor": 0,
  "metadata": {
    "colab": {
      "name": "Afifah Nur Iswari_finaltest.ipynb",
      "provenance": [],
      "collapsed_sections": [],
      "toc_visible": true
    },
    "kernelspec": {
      "name": "python3",
      "display_name": "Python 3"
    },
    "accelerator": "GPU"
  },
  "cells": [
    {
      "cell_type": "markdown",
      "metadata": {
        "id": "XfMa-mD0oNO8",
        "colab_type": "text"
      },
      "source": [
        "<h1><center>FINAL TEST (PYTHON)</center></h1>"
      ]
    },
    {
      "cell_type": "markdown",
      "metadata": {
        "id": "gC0gd8zPn_w8",
        "colab_type": "text"
      },
      "source": [
        "## 1.Tuliskan script untuk import pandas library dan library untuk klasifikasi menggunakan Decision"
      ]
    },
    {
      "cell_type": "code",
      "metadata": {
        "id": "V8c0FW0OqQn_",
        "colab_type": "code",
        "colab": {}
      },
      "source": [
        "# Import pandas library\n",
        "import numpy as np\n",
        "import pandas as pd\n",
        "\n",
        "# Import decision tree library\n",
        "from sklearn.tree import DecisionTreeClassifier"
      ],
      "execution_count": 0,
      "outputs": []
    },
    {
      "cell_type": "markdown",
      "metadata": {
        "id": "fcarNC9uoUaK",
        "colab_type": "text"
      },
      "source": [
        "## 2.Sebutkan setidaknya 2 library untuk fungsi visualisasi di python."
      ]
    },
    {
      "cell_type": "code",
      "metadata": {
        "id": "S0uFcfOUqrB_",
        "colab_type": "code",
        "colab": {}
      },
      "source": [
        "# visualisasi library\n",
        "import seaborn as sns\n",
        "from matplotlib import pyplot as plt"
      ],
      "execution_count": 0,
      "outputs": []
    },
    {
      "cell_type": "markdown",
      "metadata": {
        "id": "_wBnYYUXopGD",
        "colab_type": "text"
      },
      "source": [
        "## 3.Loan Dataset"
      ]
    },
    {
      "cell_type": "markdown",
      "metadata": {
        "id": "m12YuPNbouvv",
        "colab_type": "text"
      },
      "source": [
        "### 3.1 Import loan_data.csv"
      ]
    },
    {
      "cell_type": "code",
      "metadata": {
        "id": "sAikDM0pq5S9",
        "colab_type": "code",
        "outputId": "1da77487-e91c-4487-fba1-a26f8f69e80f",
        "colab": {
          "base_uri": "https://localhost:8080/",
          "height": 54
        }
      },
      "source": [
        "# Access to Drive (Upload data to drive)\n",
        "from google.colab import drive\n",
        "drive.mount('/content/drive')"
      ],
      "execution_count": 3,
      "outputs": [
        {
          "output_type": "stream",
          "text": [
            "Drive already mounted at /content/drive; to attempt to forcibly remount, call drive.mount(\"/content/drive\", force_remount=True).\n"
          ],
          "name": "stdout"
        }
      ]
    },
    {
      "cell_type": "code",
      "metadata": {
        "id": "DUqAidawrDnk",
        "colab_type": "code",
        "colab": {}
      },
      "source": [
        "df = pd.read_csv('/content/drive/My Drive/FINAL TEST/loan_data.csv')"
      ],
      "execution_count": 0,
      "outputs": []
    },
    {
      "cell_type": "markdown",
      "metadata": {
        "id": "2_sZGeU9o09z",
        "colab_type": "text"
      },
      "source": [
        "### 3.2 Identifikasi tipe data dari masing-masing variable"
      ]
    },
    {
      "cell_type": "code",
      "metadata": {
        "id": "C2dXmbCrrptV",
        "colab_type": "code",
        "outputId": "924fdd56-09c1-4ad5-9c05-00cce9f957a4",
        "colab": {
          "base_uri": "https://localhost:8080/",
          "height": 340
        }
      },
      "source": [
        "df.info()"
      ],
      "execution_count": 5,
      "outputs": [
        {
          "output_type": "stream",
          "text": [
            "<class 'pandas.core.frame.DataFrame'>\n",
            "RangeIndex: 9578 entries, 0 to 9577\n",
            "Data columns (total 14 columns):\n",
            "credit.policy        9578 non-null int64\n",
            "purpose              9578 non-null object\n",
            "int.rate             9578 non-null float64\n",
            "installment          9578 non-null float64\n",
            "log.annual.inc       9578 non-null float64\n",
            "dti                  9578 non-null float64\n",
            "fico                 9578 non-null int64\n",
            "days.with.cr.line    9578 non-null float64\n",
            "revol.bal            9578 non-null int64\n",
            "revol.util           9578 non-null float64\n",
            "inq.last.6mths       9578 non-null int64\n",
            "delinq.2yrs          9578 non-null int64\n",
            "pub.rec              9578 non-null int64\n",
            "not.fully.paid       9578 non-null int64\n",
            "dtypes: float64(6), int64(7), object(1)\n",
            "memory usage: 1.0+ MB\n"
          ],
          "name": "stdout"
        }
      ]
    },
    {
      "cell_type": "code",
      "metadata": {
        "id": "YROy9BmKrbUt",
        "colab_type": "code",
        "outputId": "5de0a5ea-4329-42ec-8572-ff1ca2b09c78",
        "colab": {
          "base_uri": "https://localhost:8080/",
          "height": 272
        }
      },
      "source": [
        "df.dtypes"
      ],
      "execution_count": 6,
      "outputs": [
        {
          "output_type": "execute_result",
          "data": {
            "text/plain": [
              "credit.policy          int64\n",
              "purpose               object\n",
              "int.rate             float64\n",
              "installment          float64\n",
              "log.annual.inc       float64\n",
              "dti                  float64\n",
              "fico                   int64\n",
              "days.with.cr.line    float64\n",
              "revol.bal              int64\n",
              "revol.util           float64\n",
              "inq.last.6mths         int64\n",
              "delinq.2yrs            int64\n",
              "pub.rec                int64\n",
              "not.fully.paid         int64\n",
              "dtype: object"
            ]
          },
          "metadata": {
            "tags": []
          },
          "execution_count": 6
        }
      ]
    },
    {
      "cell_type": "markdown",
      "metadata": {
        "id": "QRQ8pwyIo5CU",
        "colab_type": "text"
      },
      "source": [
        "### 3.3 Tampilkan 5 baris pertama dan tampilkan informasi summary statistics-nya."
      ]
    },
    {
      "cell_type": "code",
      "metadata": {
        "id": "7s4gK0mgriC8",
        "colab_type": "code",
        "outputId": "a1e16bb4-c002-4109-e228-c1f9fb8f8506",
        "colab": {
          "base_uri": "https://localhost:8080/",
          "height": 224
        }
      },
      "source": [
        "# 5 baris pertama\n",
        "df.head()"
      ],
      "execution_count": 7,
      "outputs": [
        {
          "output_type": "execute_result",
          "data": {
            "text/html": [
              "<div>\n",
              "<style scoped>\n",
              "    .dataframe tbody tr th:only-of-type {\n",
              "        vertical-align: middle;\n",
              "    }\n",
              "\n",
              "    .dataframe tbody tr th {\n",
              "        vertical-align: top;\n",
              "    }\n",
              "\n",
              "    .dataframe thead th {\n",
              "        text-align: right;\n",
              "    }\n",
              "</style>\n",
              "<table border=\"1\" class=\"dataframe\">\n",
              "  <thead>\n",
              "    <tr style=\"text-align: right;\">\n",
              "      <th></th>\n",
              "      <th>credit.policy</th>\n",
              "      <th>purpose</th>\n",
              "      <th>int.rate</th>\n",
              "      <th>installment</th>\n",
              "      <th>log.annual.inc</th>\n",
              "      <th>dti</th>\n",
              "      <th>fico</th>\n",
              "      <th>days.with.cr.line</th>\n",
              "      <th>revol.bal</th>\n",
              "      <th>revol.util</th>\n",
              "      <th>inq.last.6mths</th>\n",
              "      <th>delinq.2yrs</th>\n",
              "      <th>pub.rec</th>\n",
              "      <th>not.fully.paid</th>\n",
              "    </tr>\n",
              "  </thead>\n",
              "  <tbody>\n",
              "    <tr>\n",
              "      <th>0</th>\n",
              "      <td>1</td>\n",
              "      <td>debt_consolidation</td>\n",
              "      <td>0.1189</td>\n",
              "      <td>829.10</td>\n",
              "      <td>11.350407</td>\n",
              "      <td>19.48</td>\n",
              "      <td>737</td>\n",
              "      <td>5639.958333</td>\n",
              "      <td>28854</td>\n",
              "      <td>52.1</td>\n",
              "      <td>0</td>\n",
              "      <td>0</td>\n",
              "      <td>0</td>\n",
              "      <td>0</td>\n",
              "    </tr>\n",
              "    <tr>\n",
              "      <th>1</th>\n",
              "      <td>1</td>\n",
              "      <td>credit_card</td>\n",
              "      <td>0.1071</td>\n",
              "      <td>228.22</td>\n",
              "      <td>11.082143</td>\n",
              "      <td>14.29</td>\n",
              "      <td>707</td>\n",
              "      <td>2760.000000</td>\n",
              "      <td>33623</td>\n",
              "      <td>76.7</td>\n",
              "      <td>0</td>\n",
              "      <td>0</td>\n",
              "      <td>0</td>\n",
              "      <td>0</td>\n",
              "    </tr>\n",
              "    <tr>\n",
              "      <th>2</th>\n",
              "      <td>1</td>\n",
              "      <td>debt_consolidation</td>\n",
              "      <td>0.1357</td>\n",
              "      <td>366.86</td>\n",
              "      <td>10.373491</td>\n",
              "      <td>11.63</td>\n",
              "      <td>682</td>\n",
              "      <td>4710.000000</td>\n",
              "      <td>3511</td>\n",
              "      <td>25.6</td>\n",
              "      <td>1</td>\n",
              "      <td>0</td>\n",
              "      <td>0</td>\n",
              "      <td>0</td>\n",
              "    </tr>\n",
              "    <tr>\n",
              "      <th>3</th>\n",
              "      <td>1</td>\n",
              "      <td>debt_consolidation</td>\n",
              "      <td>0.1008</td>\n",
              "      <td>162.34</td>\n",
              "      <td>11.350407</td>\n",
              "      <td>8.10</td>\n",
              "      <td>712</td>\n",
              "      <td>2699.958333</td>\n",
              "      <td>33667</td>\n",
              "      <td>73.2</td>\n",
              "      <td>1</td>\n",
              "      <td>0</td>\n",
              "      <td>0</td>\n",
              "      <td>0</td>\n",
              "    </tr>\n",
              "    <tr>\n",
              "      <th>4</th>\n",
              "      <td>1</td>\n",
              "      <td>credit_card</td>\n",
              "      <td>0.1426</td>\n",
              "      <td>102.92</td>\n",
              "      <td>11.299732</td>\n",
              "      <td>14.97</td>\n",
              "      <td>667</td>\n",
              "      <td>4066.000000</td>\n",
              "      <td>4740</td>\n",
              "      <td>39.5</td>\n",
              "      <td>0</td>\n",
              "      <td>1</td>\n",
              "      <td>0</td>\n",
              "      <td>0</td>\n",
              "    </tr>\n",
              "  </tbody>\n",
              "</table>\n",
              "</div>"
            ],
            "text/plain": [
              "   credit.policy             purpose  ...  pub.rec  not.fully.paid\n",
              "0              1  debt_consolidation  ...        0               0\n",
              "1              1         credit_card  ...        0               0\n",
              "2              1  debt_consolidation  ...        0               0\n",
              "3              1  debt_consolidation  ...        0               0\n",
              "4              1         credit_card  ...        0               0\n",
              "\n",
              "[5 rows x 14 columns]"
            ]
          },
          "metadata": {
            "tags": []
          },
          "execution_count": 7
        }
      ]
    },
    {
      "cell_type": "code",
      "metadata": {
        "id": "uktIl4BarlEt",
        "colab_type": "code",
        "outputId": "fdbb3ca1-44b5-4963-9ed5-898d3e12d06d",
        "colab": {
          "base_uri": "https://localhost:8080/",
          "height": 317
        }
      },
      "source": [
        "# summay data\n",
        "df.describe()"
      ],
      "execution_count": 8,
      "outputs": [
        {
          "output_type": "execute_result",
          "data": {
            "text/html": [
              "<div>\n",
              "<style scoped>\n",
              "    .dataframe tbody tr th:only-of-type {\n",
              "        vertical-align: middle;\n",
              "    }\n",
              "\n",
              "    .dataframe tbody tr th {\n",
              "        vertical-align: top;\n",
              "    }\n",
              "\n",
              "    .dataframe thead th {\n",
              "        text-align: right;\n",
              "    }\n",
              "</style>\n",
              "<table border=\"1\" class=\"dataframe\">\n",
              "  <thead>\n",
              "    <tr style=\"text-align: right;\">\n",
              "      <th></th>\n",
              "      <th>credit.policy</th>\n",
              "      <th>int.rate</th>\n",
              "      <th>installment</th>\n",
              "      <th>log.annual.inc</th>\n",
              "      <th>dti</th>\n",
              "      <th>fico</th>\n",
              "      <th>days.with.cr.line</th>\n",
              "      <th>revol.bal</th>\n",
              "      <th>revol.util</th>\n",
              "      <th>inq.last.6mths</th>\n",
              "      <th>delinq.2yrs</th>\n",
              "      <th>pub.rec</th>\n",
              "      <th>not.fully.paid</th>\n",
              "    </tr>\n",
              "  </thead>\n",
              "  <tbody>\n",
              "    <tr>\n",
              "      <th>count</th>\n",
              "      <td>9578.000000</td>\n",
              "      <td>9578.000000</td>\n",
              "      <td>9578.000000</td>\n",
              "      <td>9578.000000</td>\n",
              "      <td>9578.000000</td>\n",
              "      <td>9578.000000</td>\n",
              "      <td>9578.000000</td>\n",
              "      <td>9.578000e+03</td>\n",
              "      <td>9578.000000</td>\n",
              "      <td>9578.000000</td>\n",
              "      <td>9578.000000</td>\n",
              "      <td>9578.000000</td>\n",
              "      <td>9578.000000</td>\n",
              "    </tr>\n",
              "    <tr>\n",
              "      <th>mean</th>\n",
              "      <td>0.804970</td>\n",
              "      <td>0.122640</td>\n",
              "      <td>319.089413</td>\n",
              "      <td>10.932117</td>\n",
              "      <td>12.606679</td>\n",
              "      <td>710.846314</td>\n",
              "      <td>4560.767197</td>\n",
              "      <td>1.691396e+04</td>\n",
              "      <td>46.799236</td>\n",
              "      <td>1.577469</td>\n",
              "      <td>0.163708</td>\n",
              "      <td>0.062122</td>\n",
              "      <td>0.160054</td>\n",
              "    </tr>\n",
              "    <tr>\n",
              "      <th>std</th>\n",
              "      <td>0.396245</td>\n",
              "      <td>0.026847</td>\n",
              "      <td>207.071301</td>\n",
              "      <td>0.614813</td>\n",
              "      <td>6.883970</td>\n",
              "      <td>37.970537</td>\n",
              "      <td>2496.930377</td>\n",
              "      <td>3.375619e+04</td>\n",
              "      <td>29.014417</td>\n",
              "      <td>2.200245</td>\n",
              "      <td>0.546215</td>\n",
              "      <td>0.262126</td>\n",
              "      <td>0.366676</td>\n",
              "    </tr>\n",
              "    <tr>\n",
              "      <th>min</th>\n",
              "      <td>0.000000</td>\n",
              "      <td>0.060000</td>\n",
              "      <td>15.670000</td>\n",
              "      <td>7.547502</td>\n",
              "      <td>0.000000</td>\n",
              "      <td>612.000000</td>\n",
              "      <td>178.958333</td>\n",
              "      <td>0.000000e+00</td>\n",
              "      <td>0.000000</td>\n",
              "      <td>0.000000</td>\n",
              "      <td>0.000000</td>\n",
              "      <td>0.000000</td>\n",
              "      <td>0.000000</td>\n",
              "    </tr>\n",
              "    <tr>\n",
              "      <th>25%</th>\n",
              "      <td>1.000000</td>\n",
              "      <td>0.103900</td>\n",
              "      <td>163.770000</td>\n",
              "      <td>10.558414</td>\n",
              "      <td>7.212500</td>\n",
              "      <td>682.000000</td>\n",
              "      <td>2820.000000</td>\n",
              "      <td>3.187000e+03</td>\n",
              "      <td>22.600000</td>\n",
              "      <td>0.000000</td>\n",
              "      <td>0.000000</td>\n",
              "      <td>0.000000</td>\n",
              "      <td>0.000000</td>\n",
              "    </tr>\n",
              "    <tr>\n",
              "      <th>50%</th>\n",
              "      <td>1.000000</td>\n",
              "      <td>0.122100</td>\n",
              "      <td>268.950000</td>\n",
              "      <td>10.928884</td>\n",
              "      <td>12.665000</td>\n",
              "      <td>707.000000</td>\n",
              "      <td>4139.958333</td>\n",
              "      <td>8.596000e+03</td>\n",
              "      <td>46.300000</td>\n",
              "      <td>1.000000</td>\n",
              "      <td>0.000000</td>\n",
              "      <td>0.000000</td>\n",
              "      <td>0.000000</td>\n",
              "    </tr>\n",
              "    <tr>\n",
              "      <th>75%</th>\n",
              "      <td>1.000000</td>\n",
              "      <td>0.140700</td>\n",
              "      <td>432.762500</td>\n",
              "      <td>11.291293</td>\n",
              "      <td>17.950000</td>\n",
              "      <td>737.000000</td>\n",
              "      <td>5730.000000</td>\n",
              "      <td>1.824950e+04</td>\n",
              "      <td>70.900000</td>\n",
              "      <td>2.000000</td>\n",
              "      <td>0.000000</td>\n",
              "      <td>0.000000</td>\n",
              "      <td>0.000000</td>\n",
              "    </tr>\n",
              "    <tr>\n",
              "      <th>max</th>\n",
              "      <td>1.000000</td>\n",
              "      <td>0.216400</td>\n",
              "      <td>940.140000</td>\n",
              "      <td>14.528354</td>\n",
              "      <td>29.960000</td>\n",
              "      <td>827.000000</td>\n",
              "      <td>17639.958330</td>\n",
              "      <td>1.207359e+06</td>\n",
              "      <td>119.000000</td>\n",
              "      <td>33.000000</td>\n",
              "      <td>13.000000</td>\n",
              "      <td>5.000000</td>\n",
              "      <td>1.000000</td>\n",
              "    </tr>\n",
              "  </tbody>\n",
              "</table>\n",
              "</div>"
            ],
            "text/plain": [
              "       credit.policy     int.rate  ...      pub.rec  not.fully.paid\n",
              "count    9578.000000  9578.000000  ...  9578.000000     9578.000000\n",
              "mean        0.804970     0.122640  ...     0.062122        0.160054\n",
              "std         0.396245     0.026847  ...     0.262126        0.366676\n",
              "min         0.000000     0.060000  ...     0.000000        0.000000\n",
              "25%         1.000000     0.103900  ...     0.000000        0.000000\n",
              "50%         1.000000     0.122100  ...     0.000000        0.000000\n",
              "75%         1.000000     0.140700  ...     0.000000        0.000000\n",
              "max         1.000000     0.216400  ...     5.000000        1.000000\n",
              "\n",
              "[8 rows x 13 columns]"
            ]
          },
          "metadata": {
            "tags": []
          },
          "execution_count": 8
        }
      ]
    },
    {
      "cell_type": "code",
      "metadata": {
        "id": "Hy6FoBLJrobV",
        "colab_type": "code",
        "colab": {}
      },
      "source": [
        ""
      ],
      "execution_count": 0,
      "outputs": []
    },
    {
      "cell_type": "markdown",
      "metadata": {
        "id": "bwYnO-ZwpMB2",
        "colab_type": "text"
      },
      "source": [
        "## 4.Lakukan pengecekan missing data dan duplicated-row"
      ]
    },
    {
      "cell_type": "code",
      "metadata": {
        "id": "w_KERJe5sE8y",
        "colab_type": "code",
        "outputId": "448d55a1-74be-474d-bbb5-d9c4797bc7bc",
        "colab": {
          "base_uri": "https://localhost:8080/",
          "height": 34
        }
      },
      "source": [
        "print('Missing Value (%) for Loan Dataset :', (sum(df.isna().sum())/(df.shape[0]*df.shape[1])*100))"
      ],
      "execution_count": 9,
      "outputs": [
        {
          "output_type": "stream",
          "text": [
            "Missing Value (%) for Loan Dataset : 0.0\n"
          ],
          "name": "stdout"
        }
      ]
    },
    {
      "cell_type": "markdown",
      "metadata": {
        "id": "Vg4XPfMbrx9B",
        "colab_type": "text"
      },
      "source": [
        "### 4.1 Jika ada, sebutkan kolom apa yang ada missing data.\n",
        ">> Tidak terdapat data missing pada dataset. Hal tersebut juga dapat dilihat berdasarkan visualisasi berikut. Jika terdapat missing maka visualisasi akan memberikan tanda dengan adanya warna tidak hitam."
      ]
    },
    {
      "cell_type": "code",
      "metadata": {
        "id": "RM4dzR6Esgyh",
        "colab_type": "code",
        "outputId": "c7b0f9dc-fa3c-4ee2-c07b-5fc7ff819af4",
        "colab": {
          "base_uri": "https://localhost:8080/",
          "height": 361
        }
      },
      "source": [
        "plt.figure(figsize=(21,5))\n",
        "sns.heatmap(df.isnull(), cbar=False)"
      ],
      "execution_count": 10,
      "outputs": [
        {
          "output_type": "execute_result",
          "data": {
            "text/plain": [
              "<matplotlib.axes._subplots.AxesSubplot at 0x7efc78593470>"
            ]
          },
          "metadata": {
            "tags": []
          },
          "execution_count": 10
        },
        {
          "output_type": "display_data",
          "data": {
            "image/png": "[encoded data removed]",
            "text/plain": [
              "<Figure size 1512x360 with 1 Axes>"
            ]
          },
          "metadata": {
            "tags": []
          }
        }
      ]
    },
    {
      "cell_type": "markdown",
      "metadata": {
        "id": "Pw1c3kOLr2Vn",
        "colab_type": "text"
      },
      "source": [
        "### 4.2 Apakah ada duplicated-row?"
      ]
    },
    {
      "cell_type": "code",
      "metadata": {
        "id": "wgXq6k-xvIcf",
        "colab_type": "code",
        "outputId": "156548d7-83dc-4c83-e121-e53b89d8cf31",
        "colab": {
          "base_uri": "https://localhost:8080/",
          "height": 272
        }
      },
      "source": [
        "# select duplicate rows\n",
        "duplicateRows = df.duplicated(subset=None, keep='first')\n",
        "\n",
        "print(\"--\"*8) \n",
        "print(\"Duplicate Rows :\")\n",
        "print(\"--\"*8)\n",
        "duplicateRows"
      ],
      "execution_count": 11,
      "outputs": [
        {
          "output_type": "stream",
          "text": [
            "----------------\n",
            "Duplicate Rows :\n",
            "----------------\n"
          ],
          "name": "stdout"
        },
        {
          "output_type": "execute_result",
          "data": {
            "text/plain": [
              "0       False\n",
              "1       False\n",
              "2       False\n",
              "3       False\n",
              "4       False\n",
              "        ...  \n",
              "9573    False\n",
              "9574    False\n",
              "9575    False\n",
              "9576    False\n",
              "9577    False\n",
              "Length: 9578, dtype: bool"
            ]
          },
          "metadata": {
            "tags": []
          },
          "execution_count": 11
        }
      ]
    },
    {
      "cell_type": "markdown",
      "metadata": {
        "id": "Ylf2cuFTw4uC",
        "colab_type": "text"
      },
      "source": [
        ">> Tidak terdapat duplicated row pada dataset"
      ]
    },
    {
      "cell_type": "markdown",
      "metadata": {
        "id": "2U28A4Q1pdwP",
        "colab_type": "text"
      },
      "source": [
        "## 5.Lakukan pengecekan variabel target."
      ]
    },
    {
      "cell_type": "markdown",
      "metadata": {
        "id": "4M-lUtJRpg8G",
        "colab_type": "text"
      },
      "source": [
        "### 5.1 Ada berapa kategori pada variable target?"
      ]
    },
    {
      "cell_type": "code",
      "metadata": {
        "id": "kFOXVdNCw-HE",
        "colab_type": "code",
        "outputId": "9ede1105-cd27-4c61-f755-4f654a80e853",
        "colab": {
          "base_uri": "https://localhost:8080/",
          "height": 34
        }
      },
      "source": [
        "a = df['not.fully.paid'].unique()\n",
        "print('Anggota Variabel Target :', a, 'maka dapat diketahui terdapat', len(a), 'kategori')"
      ],
      "execution_count": 12,
      "outputs": [
        {
          "output_type": "stream",
          "text": [
            "Anggota Variabel Target : [0 1] maka dapat diketahui terdapat 2 kategori\n"
          ],
          "name": "stdout"
        }
      ]
    },
    {
      "cell_type": "markdown",
      "metadata": {
        "id": "jd4c0MKMpmc4",
        "colab_type": "text"
      },
      "source": [
        "### 5.2 Berapa proporsinya?"
      ]
    },
    {
      "cell_type": "code",
      "metadata": {
        "id": "MVFaW4RS1Iey",
        "colab_type": "code",
        "outputId": "67bf30cb-4c0f-401c-b238-54d1ee641465",
        "colab": {
          "base_uri": "https://localhost:8080/",
          "height": 85
        }
      },
      "source": [
        "print('Jumlah Data untuk Setiap Kategori (Proporsi):')\n",
        "df['not.fully.paid'].value_counts()"
      ],
      "execution_count": 39,
      "outputs": [
        {
          "output_type": "stream",
          "text": [
            "Jumlah Data untuk Setiap Kategori (Proporsi):\n"
          ],
          "name": "stdout"
        },
        {
          "output_type": "execute_result",
          "data": {
            "text/plain": [
              "0    8045\n",
              "1    1533\n",
              "Name: not.fully.paid, dtype: int64"
            ]
          },
          "metadata": {
            "tags": []
          },
          "execution_count": 39
        }
      ]
    },
    {
      "cell_type": "markdown",
      "metadata": {
        "id": "QvFYDpvippws",
        "colab_type": "text"
      },
      "source": [
        "### 5.3 Lakukan visualisasi yang menunjukkan PROPORSI kelas target."
      ]
    },
    {
      "cell_type": "code",
      "metadata": {
        "id": "heaIOolFuvNS",
        "colab_type": "code",
        "outputId": "8dcb805c-2dfc-4af8-b145-0126ef507973",
        "colab": {
          "base_uri": "https://localhost:8080/",
          "height": 210
        }
      },
      "source": [
        "f = plt.figure(figsize=(10,6))\n",
        "f.add_subplot(2,2,1)\n",
        "sns.countplot(df['not.fully.paid'], color = 'lightseagreen')\n",
        "f.add_subplot(2,2,2)\n",
        "df['not.fully.paid'].value_counts().plot.pie(autopct = '%.2f', \n",
        "                                        labels= ['0 = BAYAR', '1 = TIDAK BAYAR'],\n",
        "                                        colors = ['lightseagreen', 'paleturquoise'])\n",
        "plt.axis('equal')\n",
        "plt.show()"
      ],
      "execution_count": 42,
      "outputs": [
        {
          "output_type": "display_data",
          "data": {
            "image/png": "[encoded data removed]",
            "text/plain": [
              "<Figure size 720x432 with 2 Axes>"
            ]
          },
          "metadata": {
            "tags": []
          }
        }
      ]
    },
    {
      "cell_type": "markdown",
      "metadata": {
        "id": "78qN0amxptRu",
        "colab_type": "text"
      },
      "source": [
        "##6.Berapa variansi (ragam) nilai installment?"
      ]
    },
    {
      "cell_type": "code",
      "metadata": {
        "id": "LxxX6YbB3PE4",
        "colab_type": "code",
        "outputId": "3dbf0e57-abd9-4b61-da98-75a6cca922a7",
        "colab": {
          "base_uri": "https://localhost:8080/",
          "height": 34
        }
      },
      "source": [
        "print('Variansi nilai instllment :', round(df['installment'].var(),3))"
      ],
      "execution_count": 15,
      "outputs": [
        {
          "output_type": "stream",
          "text": [
            "Variansi nilai instllment : 42878.524\n"
          ],
          "name": "stdout"
        }
      ]
    },
    {
      "cell_type": "markdown",
      "metadata": {
        "id": "h9SLPkMTp0Gr",
        "colab_type": "text"
      },
      "source": [
        "## 7.Berapa nilai simpangan kuartil pada variable ‘installment’?"
      ]
    },
    {
      "cell_type": "code",
      "metadata": {
        "id": "n_U5LXbp32sf",
        "colab_type": "code",
        "outputId": "b1bc05bc-f52d-45ad-c86c-bfeff3a5cd75",
        "colab": {
          "base_uri": "https://localhost:8080/",
          "height": 34
        }
      },
      "source": [
        "# Function to give index of the median \n",
        "def median(a, l, r): \n",
        "    n = r - l + 1\n",
        "    n = (n + 1) // 2 - 1\n",
        "    return n + l \n",
        "  \n",
        "# Function to calculate IQR \n",
        "def IQR(a, n): \n",
        "  \n",
        "    a.sort() \n",
        "  \n",
        "    # Index of median of entire data \n",
        "    mid_index = median(a, 0, n) \n",
        "  \n",
        "    # Median of first half \n",
        "    Q1 = a[median(a, 0, mid_index)] \n",
        "  \n",
        "    # Median of second half \n",
        "    Q3 = a[median(a, mid_index + 1, n)] \n",
        "  \n",
        "    # IQR calculation \n",
        "    return (Q3 - Q1) \n",
        "  \n",
        "# Driver Function \n",
        "if __name__=='__main__': \n",
        "    a = np.array(df['installment'])\n",
        "    n = len(a) \n",
        "    print('Simpangan Kuartil Variabel Installment :', IQR(a, n)) \n",
        "  "
      ],
      "execution_count": 16,
      "outputs": [
        {
          "output_type": "stream",
          "text": [
            "Simpangan Kuartil Variabel Installment : 269.22\n"
          ],
          "name": "stdout"
        }
      ]
    },
    {
      "cell_type": "code",
      "metadata": {
        "id": "DTa70Hf8_HBy",
        "colab_type": "code",
        "outputId": "858b34c5-59f1-4944-c80f-c3775763a3c1",
        "colab": {
          "base_uri": "https://localhost:8080/",
          "height": 34
        }
      },
      "source": [
        "# another way\n",
        "from scipy.stats import iqr\n",
        "print('Simpangan Kuartil Variabel Installment :', iqr(df['installment']))"
      ],
      "execution_count": 17,
      "outputs": [
        {
          "output_type": "stream",
          "text": [
            "Simpangan Kuartil Variabel Installment : 268.99249999999995\n"
          ],
          "name": "stdout"
        }
      ]
    },
    {
      "cell_type": "markdown",
      "metadata": {
        "id": "g2J_gdjhp3-N",
        "colab_type": "text"
      },
      "source": [
        "##8.Berapa nilai installment tertinggi untuk masing-masing tujuan pinjaman (masing-masing kategori pada variable ‘purpose’)?"
      ]
    },
    {
      "cell_type": "code",
      "metadata": {
        "id": "qxNe72k2A_d_",
        "colab_type": "code",
        "colab": {
          "base_uri": "https://localhost:8080/",
          "height": 221
        },
        "outputId": "7471f3d4-64c8-4c2e-9323-f325de5e4db9"
      },
      "source": [
        "print(\"--\"*25) \n",
        "print(\"Nilai Installment Tertinggi berdasarkan Purpose:\")\n",
        "print(\"--\"*25)\n",
        "df['installment'].groupby(df['purpose']).max()"
      ],
      "execution_count": 18,
      "outputs": [
        {
          "output_type": "stream",
          "text": [
            "--------------------------------------------------\n",
            "Nilai Installment Tertinggi berdasarkan Purpose:\n",
            "--------------------------------------------------\n"
          ],
          "name": "stdout"
        },
        {
          "output_type": "execute_result",
          "data": {
            "text/plain": [
              "purpose\n",
              "all_other             916.95\n",
              "credit_card           922.42\n",
              "debt_consolidation    940.14\n",
              "educational           861.88\n",
              "home_improvement      902.06\n",
              "major_purchase        898.55\n",
              "small_business        926.83\n",
              "Name: installment, dtype: float64"
            ]
          },
          "metadata": {
            "tags": []
          },
          "execution_count": 18
        }
      ]
    },
    {
      "cell_type": "markdown",
      "metadata": {
        "id": "dyQswx8tp6KI",
        "colab_type": "text"
      },
      "source": [
        "##9.Variable ‘purpose’ menunjukkan tujuan pengajuan pinjaman"
      ]
    },
    {
      "cell_type": "markdown",
      "metadata": {
        "id": "-48avGQIp_6H",
        "colab_type": "text"
      },
      "source": [
        "### 9.1 Ada berapa kategori pada variable tersebut?"
      ]
    },
    {
      "cell_type": "code",
      "metadata": {
        "id": "Hfgqu4nhEIEj",
        "colab_type": "code",
        "colab": {
          "base_uri": "https://localhost:8080/",
          "height": 71
        },
        "outputId": "38be5293-42ae-489c-e6cf-1a43213780a1"
      },
      "source": [
        "print('Anggota Variabel Target :', list(df['purpose'].unique()))\n",
        "print('Jumalah Kategori :', (len(df['purpose'].unique())))"
      ],
      "execution_count": 19,
      "outputs": [
        {
          "output_type": "stream",
          "text": [
            "Anggota Variabel Target : ['debt_consolidation', 'credit_card', 'all_other', 'home_improvement', 'small_business', 'major_purchase', 'educational']\n",
            "Jumalah Kategori : 7\n"
          ],
          "name": "stdout"
        }
      ]
    },
    {
      "cell_type": "markdown",
      "metadata": {
        "id": "4iA2zb0PEDgT",
        "colab_type": "text"
      },
      "source": [
        "### 9.2 Visualisasikan frekuensi pinjaman berdasarkan tujuannya, diurutkan dari frekuensi tertinggi."
      ]
    },
    {
      "cell_type": "code",
      "metadata": {
        "id": "GxewydTHD6Op",
        "colab_type": "code",
        "colab": {
          "base_uri": "https://localhost:8080/",
          "height": 243
        },
        "outputId": "39720447-5cc1-4d1a-cf74-5602b5c785fc"
      },
      "source": [
        "plt.figure(figsize=(15,3))\n",
        "sns.countplot(df['purpose'], \n",
        "              color = 'lightseagreen', \n",
        "              order = df['purpose'].value_counts().index)"
      ],
      "execution_count": 20,
      "outputs": [
        {
          "output_type": "execute_result",
          "data": {
            "text/plain": [
              "<matplotlib.axes._subplots.AxesSubplot at 0x7efc74aa1080>"
            ]
          },
          "metadata": {
            "tags": []
          },
          "execution_count": 20
        },
        {
          "output_type": "display_data",
          "data": {
            "image/png": "[encoded data removed]",
            "text/plain": [
              "<Figure size 1080x216 with 1 Axes>"
            ]
          },
          "metadata": {
            "tags": []
          }
        }
      ]
    },
    {
      "cell_type": "markdown",
      "metadata": {
        "id": "wYUVfJBlqF3s",
        "colab_type": "text"
      },
      "source": [
        "## 10.Apakah variable ‘fico’ merupakan predictor yang potensial untuk memprediksi target? \n",
        "Jelaskan argumen anda. Hint: Visualisasikan distribusi ‘fico’ terhadap target."
      ]
    },
    {
      "cell_type": "code",
      "metadata": {
        "id": "MO3dd58CLpfO",
        "colab_type": "code",
        "colab": {
          "base_uri": "https://localhost:8080/",
          "height": 111
        },
        "outputId": "b8eb82f6-6592-4b69-e6c1-4fc4a277714f"
      },
      "source": [
        "df[['fico','not.fully.paid']].corr()"
      ],
      "execution_count": 21,
      "outputs": [
        {
          "output_type": "execute_result",
          "data": {
            "text/html": [
              "<div>\n",
              "<style scoped>\n",
              "    .dataframe tbody tr th:only-of-type {\n",
              "        vertical-align: middle;\n",
              "    }\n",
              "\n",
              "    .dataframe tbody tr th {\n",
              "        vertical-align: top;\n",
              "    }\n",
              "\n",
              "    .dataframe thead th {\n",
              "        text-align: right;\n",
              "    }\n",
              "</style>\n",
              "<table border=\"1\" class=\"dataframe\">\n",
              "  <thead>\n",
              "    <tr style=\"text-align: right;\">\n",
              "      <th></th>\n",
              "      <th>fico</th>\n",
              "      <th>not.fully.paid</th>\n",
              "    </tr>\n",
              "  </thead>\n",
              "  <tbody>\n",
              "    <tr>\n",
              "      <th>fico</th>\n",
              "      <td>1.000000</td>\n",
              "      <td>-0.149666</td>\n",
              "    </tr>\n",
              "    <tr>\n",
              "      <th>not.fully.paid</th>\n",
              "      <td>-0.149666</td>\n",
              "      <td>1.000000</td>\n",
              "    </tr>\n",
              "  </tbody>\n",
              "</table>\n",
              "</div>"
            ],
            "text/plain": [
              "                    fico  not.fully.paid\n",
              "fico            1.000000       -0.149666\n",
              "not.fully.paid -0.149666        1.000000"
            ]
          },
          "metadata": {
            "tags": []
          },
          "execution_count": 21
        }
      ]
    },
    {
      "cell_type": "code",
      "metadata": {
        "id": "Yy4IXZyTGO9S",
        "colab_type": "code",
        "colab": {
          "base_uri": "https://localhost:8080/",
          "height": 279
        },
        "outputId": "66407b20-bbde-4ae1-f54f-5d22f156c172"
      },
      "source": [
        "sns.boxplot(y=df[\"fico\"], x=df['not.fully.paid'], color='lightseagreen')\n",
        "plt.show()"
      ],
      "execution_count": 22,
      "outputs": [
        {
          "output_type": "display_data",
          "data": {
            "image/png": "[encoded data removed]",
            "text/plain": [
              "<Figure size 432x288 with 1 Axes>"
            ]
          },
          "metadata": {
            "tags": []
          }
        }
      ]
    },
    {
      "cell_type": "markdown",
      "metadata": {
        "id": "u8Uu3VtcNKQo",
        "colab_type": "text"
      },
      "source": [
        ">> Berdasarkan nilai korelasi antar dua variabel, maka dapat diketahui bahwa kedua variabel memiliki hubungan yang negatif dan sangat kecil. Dkarenakan korelasi antar kedua variabel keci, maka dapat dikatakan bahwa variabel vico tidak potensial untuk memprediksi target. Berdasarkan Box-Plot maka dapat menunjukkan range variabel fico jika dilihat berdasarkan kelompok target tidak jauh berbeda. Maka dapat dikatakan variabel fico tidak potensial."
      ]
    },
    {
      "cell_type": "markdown",
      "metadata": {
        "id": "82bWBzVPti_m",
        "colab_type": "text"
      },
      "source": [
        "## 11Apakah variable ‘purpose’ merupakan predictor yang potensial untuk memprediksi target? Jelaskan argumen anda.\n",
        "\n",
        "Hint: Visualisasikan proporsi setiap kategori dalam variable ‘purpose’ terhadap target. Fungsi pd.crosstab akan membantu."
      ]
    },
    {
      "cell_type": "code",
      "metadata": {
        "id": "NsOKVJYUOirc",
        "colab_type": "code",
        "colab": {
          "base_uri": "https://localhost:8080/",
          "height": 284
        },
        "outputId": "e5c0c847-c4c7-4377-8eb8-712e01d83cdc"
      },
      "source": [
        "sns.heatmap(pd.crosstab(df['purpose'],df['not.fully.paid'],normalize='columns'),annot=True, cmap=\"YlGnBu\")\n",
        "plt.show()"
      ],
      "execution_count": 23,
      "outputs": [
        {
          "output_type": "display_data",
          "data": {
            "image/png": "[encoded data removed]",
            "text/plain": [
              "<Figure size 432x288 with 2 Axes>"
            ]
          },
          "metadata": {
            "tags": []
          }
        }
      ]
    },
    {
      "cell_type": "markdown",
      "metadata": {
        "id": "rEFBtAbQQVbm",
        "colab_type": "text"
      },
      "source": [
        ">> Berdasarkan plot di atas, maka dapat diketahui bahwa proporsi setiap kategori dalam variabel purpose tidak jauh berbeda. Maka dapat dikatakan variabel purpose juga tidak potensial untuk memprediksi target. Hanya apda proporsi dengan purpose small_business dan credit_card yang menunjukkan perbedaan yang signifikan jika dibandingkan dengan target."
      ]
    },
    {
      "cell_type": "markdown",
      "metadata": {
        "id": "L_nKnvxatmBd",
        "colab_type": "text"
      },
      "source": [
        "## 12.Berapa nilai rata-rata dari int.rate untuk purpose dengan kategori ‘credit_card’?"
      ]
    },
    {
      "cell_type": "code",
      "metadata": {
        "id": "fjtlC8iCRb7i",
        "colab_type": "code",
        "colab": {
          "base_uri": "https://localhost:8080/",
          "height": 34
        },
        "outputId": "bb63cef0-d928-427f-8f43-02ec4eb97378"
      },
      "source": [
        "print('Rata-rata dari int.rate untuk purpose dengan kategori credit_card :',\n",
        "      round(df[df['purpose'] == 'credit_card'].mean()['int.rate'],3))"
      ],
      "execution_count": 24,
      "outputs": [
        {
          "output_type": "stream",
          "text": [
            "Rata-rata dari int.rate untuk purpose dengan kategori credit_card : 0.12\n"
          ],
          "name": "stdout"
        }
      ]
    },
    {
      "cell_type": "markdown",
      "metadata": {
        "id": "l-xBs-VitqFH",
        "colab_type": "text"
      },
      "source": [
        "## 13.Berapa jumlah kasus pinjaman yang nilai installment-nya di atas 200 dan tujuan pinjamannya untuk pendidikan (educational) ?"
      ]
    },
    {
      "cell_type": "code",
      "metadata": {
        "id": "JY1WNSh_R2oS",
        "colab_type": "code",
        "colab": {
          "base_uri": "https://localhost:8080/",
          "height": 34
        },
        "outputId": "61a94ee8-1200-43d6-9d49-8a351c9087c0"
      },
      "source": [
        "installment200 = (df['installment']>200)\n",
        "pendidikan = (df['purpose'] == 'educational')\n",
        "jumlah = len(df[installment200 & pendidikan])\n",
        "print('Jumlah kasus pinjaman yang nilai installment-nya > 200 dan tujuan pinjamannya = pendidikan adalah',jumlah)\n"
      ],
      "execution_count": 25,
      "outputs": [
        {
          "output_type": "stream",
          "text": [
            "Jumlah kasus pinjaman yang nilai installment-nya > 200 dan tujuan pinjamannya = pendidikan adalah 137\n"
          ],
          "name": "stdout"
        }
      ]
    },
    {
      "cell_type": "markdown",
      "metadata": {
        "id": "szEeIsYdtti-",
        "colab_type": "text"
      },
      "source": [
        "## 14.Tuliskan script untuk memfilter purpose =’credit_card’ dan simpan dalam dataframe yang disebut loans3."
      ]
    },
    {
      "cell_type": "code",
      "metadata": {
        "id": "BF7_K75RTpNo",
        "colab_type": "code",
        "colab": {
          "base_uri": "https://localhost:8080/",
          "height": 224
        },
        "outputId": "3a6e070e-4c3e-48fd-defe-45a9c0ede3c4"
      },
      "source": [
        "loans3 = df[df['purpose']=='credit_card']\n",
        "loans3.head()"
      ],
      "execution_count": 26,
      "outputs": [
        {
          "output_type": "execute_result",
          "data": {
            "text/html": [
              "<div>\n",
              "<style scoped>\n",
              "    .dataframe tbody tr th:only-of-type {\n",
              "        vertical-align: middle;\n",
              "    }\n",
              "\n",
              "    .dataframe tbody tr th {\n",
              "        vertical-align: top;\n",
              "    }\n",
              "\n",
              "    .dataframe thead th {\n",
              "        text-align: right;\n",
              "    }\n",
              "</style>\n",
              "<table border=\"1\" class=\"dataframe\">\n",
              "  <thead>\n",
              "    <tr style=\"text-align: right;\">\n",
              "      <th></th>\n",
              "      <th>credit.policy</th>\n",
              "      <th>purpose</th>\n",
              "      <th>int.rate</th>\n",
              "      <th>installment</th>\n",
              "      <th>log.annual.inc</th>\n",
              "      <th>dti</th>\n",
              "      <th>fico</th>\n",
              "      <th>days.with.cr.line</th>\n",
              "      <th>revol.bal</th>\n",
              "      <th>revol.util</th>\n",
              "      <th>inq.last.6mths</th>\n",
              "      <th>delinq.2yrs</th>\n",
              "      <th>pub.rec</th>\n",
              "      <th>not.fully.paid</th>\n",
              "    </tr>\n",
              "  </thead>\n",
              "  <tbody>\n",
              "    <tr>\n",
              "      <th>1</th>\n",
              "      <td>1</td>\n",
              "      <td>credit_card</td>\n",
              "      <td>0.1071</td>\n",
              "      <td>228.22</td>\n",
              "      <td>11.082143</td>\n",
              "      <td>14.29</td>\n",
              "      <td>707</td>\n",
              "      <td>2760.000000</td>\n",
              "      <td>33623</td>\n",
              "      <td>76.7</td>\n",
              "      <td>0</td>\n",
              "      <td>0</td>\n",
              "      <td>0</td>\n",
              "      <td>0</td>\n",
              "    </tr>\n",
              "    <tr>\n",
              "      <th>4</th>\n",
              "      <td>1</td>\n",
              "      <td>credit_card</td>\n",
              "      <td>0.1426</td>\n",
              "      <td>102.92</td>\n",
              "      <td>11.299732</td>\n",
              "      <td>14.97</td>\n",
              "      <td>667</td>\n",
              "      <td>4066.000000</td>\n",
              "      <td>4740</td>\n",
              "      <td>39.5</td>\n",
              "      <td>0</td>\n",
              "      <td>1</td>\n",
              "      <td>0</td>\n",
              "      <td>0</td>\n",
              "    </tr>\n",
              "    <tr>\n",
              "      <th>5</th>\n",
              "      <td>1</td>\n",
              "      <td>credit_card</td>\n",
              "      <td>0.0788</td>\n",
              "      <td>125.13</td>\n",
              "      <td>11.904968</td>\n",
              "      <td>16.98</td>\n",
              "      <td>727</td>\n",
              "      <td>6120.041667</td>\n",
              "      <td>50807</td>\n",
              "      <td>51.0</td>\n",
              "      <td>0</td>\n",
              "      <td>0</td>\n",
              "      <td>0</td>\n",
              "      <td>0</td>\n",
              "    </tr>\n",
              "    <tr>\n",
              "      <th>17</th>\n",
              "      <td>1</td>\n",
              "      <td>credit_card</td>\n",
              "      <td>0.0894</td>\n",
              "      <td>476.58</td>\n",
              "      <td>11.608236</td>\n",
              "      <td>7.07</td>\n",
              "      <td>797</td>\n",
              "      <td>6510.958333</td>\n",
              "      <td>7586</td>\n",
              "      <td>52.7</td>\n",
              "      <td>1</td>\n",
              "      <td>0</td>\n",
              "      <td>0</td>\n",
              "      <td>0</td>\n",
              "    </tr>\n",
              "    <tr>\n",
              "      <th>22</th>\n",
              "      <td>1</td>\n",
              "      <td>credit_card</td>\n",
              "      <td>0.1355</td>\n",
              "      <td>339.60</td>\n",
              "      <td>11.512925</td>\n",
              "      <td>7.94</td>\n",
              "      <td>662</td>\n",
              "      <td>1939.958333</td>\n",
              "      <td>21162</td>\n",
              "      <td>57.7</td>\n",
              "      <td>0</td>\n",
              "      <td>0</td>\n",
              "      <td>0</td>\n",
              "      <td>0</td>\n",
              "    </tr>\n",
              "  </tbody>\n",
              "</table>\n",
              "</div>"
            ],
            "text/plain": [
              "    credit.policy      purpose  int.rate  ...  delinq.2yrs  pub.rec  not.fully.paid\n",
              "1               1  credit_card    0.1071  ...            0        0               0\n",
              "4               1  credit_card    0.1426  ...            1        0               0\n",
              "5               1  credit_card    0.0788  ...            0        0               0\n",
              "17              1  credit_card    0.0894  ...            0        0               0\n",
              "22              1  credit_card    0.1355  ...            0        0               0\n",
              "\n",
              "[5 rows x 14 columns]"
            ]
          },
          "metadata": {
            "tags": []
          },
          "execution_count": 26
        }
      ]
    },
    {
      "cell_type": "markdown",
      "metadata": {
        "id": "lwoOJKoctwx2",
        "colab_type": "text"
      },
      "source": [
        "## 15.Siapkan data untuk pemodelan"
      ]
    },
    {
      "cell_type": "markdown",
      "metadata": {
        "id": "HHBTGhDgT0eb",
        "colab_type": "text"
      },
      "source": [
        "### 15.1 Ubah data kategorik menjadi dummy variabel"
      ]
    },
    {
      "cell_type": "code",
      "metadata": {
        "id": "WOXXbVxGTz-9",
        "colab_type": "code",
        "colab": {
          "base_uri": "https://localhost:8080/",
          "height": 224
        },
        "outputId": "4ec86f30-db82-40b4-cbe1-2c5578dc2ef4"
      },
      "source": [
        "# get dummies variabel\n",
        "df_dummies = pd.get_dummies(df,drop_first=True)\n",
        "df_dummies.head()"
      ],
      "execution_count": 27,
      "outputs": [
        {
          "output_type": "execute_result",
          "data": {
            "text/html": [
              "<div>\n",
              "<style scoped>\n",
              "    .dataframe tbody tr th:only-of-type {\n",
              "        vertical-align: middle;\n",
              "    }\n",
              "\n",
              "    .dataframe tbody tr th {\n",
              "        vertical-align: top;\n",
              "    }\n",
              "\n",
              "    .dataframe thead th {\n",
              "        text-align: right;\n",
              "    }\n",
              "</style>\n",
              "<table border=\"1\" class=\"dataframe\">\n",
              "  <thead>\n",
              "    <tr style=\"text-align: right;\">\n",
              "      <th></th>\n",
              "      <th>credit.policy</th>\n",
              "      <th>int.rate</th>\n",
              "      <th>installment</th>\n",
              "      <th>log.annual.inc</th>\n",
              "      <th>dti</th>\n",
              "      <th>fico</th>\n",
              "      <th>days.with.cr.line</th>\n",
              "      <th>revol.bal</th>\n",
              "      <th>revol.util</th>\n",
              "      <th>inq.last.6mths</th>\n",
              "      <th>delinq.2yrs</th>\n",
              "      <th>pub.rec</th>\n",
              "      <th>not.fully.paid</th>\n",
              "      <th>purpose_credit_card</th>\n",
              "      <th>purpose_debt_consolidation</th>\n",
              "      <th>purpose_educational</th>\n",
              "      <th>purpose_home_improvement</th>\n",
              "      <th>purpose_major_purchase</th>\n",
              "      <th>purpose_small_business</th>\n",
              "    </tr>\n",
              "  </thead>\n",
              "  <tbody>\n",
              "    <tr>\n",
              "      <th>0</th>\n",
              "      <td>1</td>\n",
              "      <td>0.1189</td>\n",
              "      <td>829.10</td>\n",
              "      <td>11.350407</td>\n",
              "      <td>19.48</td>\n",
              "      <td>737</td>\n",
              "      <td>5639.958333</td>\n",
              "      <td>28854</td>\n",
              "      <td>52.1</td>\n",
              "      <td>0</td>\n",
              "      <td>0</td>\n",
              "      <td>0</td>\n",
              "      <td>0</td>\n",
              "      <td>0</td>\n",
              "      <td>1</td>\n",
              "      <td>0</td>\n",
              "      <td>0</td>\n",
              "      <td>0</td>\n",
              "      <td>0</td>\n",
              "    </tr>\n",
              "    <tr>\n",
              "      <th>1</th>\n",
              "      <td>1</td>\n",
              "      <td>0.1071</td>\n",
              "      <td>228.22</td>\n",
              "      <td>11.082143</td>\n",
              "      <td>14.29</td>\n",
              "      <td>707</td>\n",
              "      <td>2760.000000</td>\n",
              "      <td>33623</td>\n",
              "      <td>76.7</td>\n",
              "      <td>0</td>\n",
              "      <td>0</td>\n",
              "      <td>0</td>\n",
              "      <td>0</td>\n",
              "      <td>1</td>\n",
              "      <td>0</td>\n",
              "      <td>0</td>\n",
              "      <td>0</td>\n",
              "      <td>0</td>\n",
              "      <td>0</td>\n",
              "    </tr>\n",
              "    <tr>\n",
              "      <th>2</th>\n",
              "      <td>1</td>\n",
              "      <td>0.1357</td>\n",
              "      <td>366.86</td>\n",
              "      <td>10.373491</td>\n",
              "      <td>11.63</td>\n",
              "      <td>682</td>\n",
              "      <td>4710.000000</td>\n",
              "      <td>3511</td>\n",
              "      <td>25.6</td>\n",
              "      <td>1</td>\n",
              "      <td>0</td>\n",
              "      <td>0</td>\n",
              "      <td>0</td>\n",
              "      <td>0</td>\n",
              "      <td>1</td>\n",
              "      <td>0</td>\n",
              "      <td>0</td>\n",
              "      <td>0</td>\n",
              "      <td>0</td>\n",
              "    </tr>\n",
              "    <tr>\n",
              "      <th>3</th>\n",
              "      <td>1</td>\n",
              "      <td>0.1008</td>\n",
              "      <td>162.34</td>\n",
              "      <td>11.350407</td>\n",
              "      <td>8.10</td>\n",
              "      <td>712</td>\n",
              "      <td>2699.958333</td>\n",
              "      <td>33667</td>\n",
              "      <td>73.2</td>\n",
              "      <td>1</td>\n",
              "      <td>0</td>\n",
              "      <td>0</td>\n",
              "      <td>0</td>\n",
              "      <td>0</td>\n",
              "      <td>1</td>\n",
              "      <td>0</td>\n",
              "      <td>0</td>\n",
              "      <td>0</td>\n",
              "      <td>0</td>\n",
              "    </tr>\n",
              "    <tr>\n",
              "      <th>4</th>\n",
              "      <td>1</td>\n",
              "      <td>0.1426</td>\n",
              "      <td>102.92</td>\n",
              "      <td>11.299732</td>\n",
              "      <td>14.97</td>\n",
              "      <td>667</td>\n",
              "      <td>4066.000000</td>\n",
              "      <td>4740</td>\n",
              "      <td>39.5</td>\n",
              "      <td>0</td>\n",
              "      <td>1</td>\n",
              "      <td>0</td>\n",
              "      <td>0</td>\n",
              "      <td>1</td>\n",
              "      <td>0</td>\n",
              "      <td>0</td>\n",
              "      <td>0</td>\n",
              "      <td>0</td>\n",
              "      <td>0</td>\n",
              "    </tr>\n",
              "  </tbody>\n",
              "</table>\n",
              "</div>"
            ],
            "text/plain": [
              "   credit.policy  int.rate  ...  purpose_major_purchase  purpose_small_business\n",
              "0              1    0.1189  ...                       0                       0\n",
              "1              1    0.1071  ...                       0                       0\n",
              "2              1    0.1357  ...                       0                       0\n",
              "3              1    0.1008  ...                       0                       0\n",
              "4              1    0.1426  ...                       0                       0\n",
              "\n",
              "[5 rows x 19 columns]"
            ]
          },
          "metadata": {
            "tags": []
          },
          "execution_count": 27
        }
      ]
    },
    {
      "cell_type": "markdown",
      "metadata": {
        "id": "c64l3FdPT4E9",
        "colab_type": "text"
      },
      "source": [
        "### 15.2 Buat dataframe baru bernama ‘final_data’ yang berisi seluruh features (numerik dan kategorik) dengan peubah kategorik yang sudah diubah menjadi dummy variabel."
      ]
    },
    {
      "cell_type": "code",
      "metadata": {
        "id": "y7hCvYvgUOOT",
        "colab_type": "code",
        "colab": {
          "base_uri": "https://localhost:8080/",
          "height": 34
        },
        "outputId": "7ff950bc-3b68-4525-8670-484702cc86c4"
      },
      "source": [
        "final_data = df_dummies\n",
        "final_data.shape"
      ],
      "execution_count": 28,
      "outputs": [
        {
          "output_type": "execute_result",
          "data": {
            "text/plain": [
              "(9578, 19)"
            ]
          },
          "metadata": {
            "tags": []
          },
          "execution_count": 28
        }
      ]
    },
    {
      "cell_type": "markdown",
      "metadata": {
        "id": "9wGhr3Fct3ty",
        "colab_type": "text"
      },
      "source": [
        "## 16.Split final_data yang didapatkan dari soal sebelumnya menjadi data train dan data test. Proporsi data test adalah 0.30. Gunakan random_state = 101."
      ]
    },
    {
      "cell_type": "code",
      "metadata": {
        "id": "hzEcnuK-UdDt",
        "colab_type": "code",
        "colab": {}
      },
      "source": [
        "from sklearn.model_selection import train_test_split\n",
        "\n",
        "X=final_data.drop(columns='not.fully.paid')\n",
        "y=final_data['not.fully.paid']\n",
        "\n",
        "X_train, X_test, y_train, y_test = train_test_split(X, y, test_size=0.3, random_state=101)"
      ],
      "execution_count": 0,
      "outputs": []
    },
    {
      "cell_type": "markdown",
      "metadata": {
        "id": "YO7Iq2-st5xj",
        "colab_type": "text"
      },
      "source": [
        "## 17.Buatlah sebuah instance DecisionTreeClassifier yang disebut ‘dtree’ dan buatlah model dari training data menggunakan dtree tersebut."
      ]
    },
    {
      "cell_type": "code",
      "metadata": {
        "id": "ynX1QgkEUwi8",
        "colab_type": "code",
        "colab": {
          "base_uri": "https://localhost:8080/",
          "height": 119
        },
        "outputId": "5bcb1504-1c16-4629-d354-9fe5861e15d4"
      },
      "source": [
        "DecisionTreeClassifier = DecisionTreeClassifier()\n",
        "DecisionTreeClassifier.fit(X_train,y_train)"
      ],
      "execution_count": 30,
      "outputs": [
        {
          "output_type": "execute_result",
          "data": {
            "text/plain": [
              "DecisionTreeClassifier(class_weight=None, criterion='gini', max_depth=None,\n",
              "                       max_features=None, max_leaf_nodes=None,\n",
              "                       min_impurity_decrease=0.0, min_impurity_split=None,\n",
              "                       min_samples_leaf=1, min_samples_split=2,\n",
              "                       min_weight_fraction_leaf=0.0, presort=False,\n",
              "                       random_state=None, splitter='best')"
            ]
          },
          "metadata": {
            "tags": []
          },
          "execution_count": 30
        }
      ]
    },
    {
      "cell_type": "markdown",
      "metadata": {
        "id": "zR66b7Cut9FW",
        "colab_type": "text"
      },
      "source": [
        "## 18.Buatlah script untuk meprediksi target pada data test dengan menggunakan model yang telah dibuat sebelumnya, simpan dalam variable ‘predictions’"
      ]
    },
    {
      "cell_type": "code",
      "metadata": {
        "id": "RjiPuD9LVOI1",
        "colab_type": "code",
        "colab": {}
      },
      "source": [
        "predictions = DecisionTreeClassifier.predict(X_test)"
      ],
      "execution_count": 0,
      "outputs": []
    },
    {
      "cell_type": "markdown",
      "metadata": {
        "id": "4jIpyyaWt_t3",
        "colab_type": "text"
      },
      "source": [
        "## 19.Tampilkan confusion matrix antara hasil prediksi dan target data test."
      ]
    },
    {
      "cell_type": "code",
      "metadata": {
        "id": "UsCGaojcYekm",
        "colab_type": "code",
        "colab": {
          "base_uri": "https://localhost:8080/",
          "height": 85
        },
        "outputId": "60800a5d-d7e6-4301-e2ea-afb6d300f316"
      },
      "source": [
        "confusion_matrix = pd.crosstab(y_test, predictions, rownames=['Actual'], colnames=['Predictions'])\n",
        "print (confusion_matrix)"
      ],
      "execution_count": 33,
      "outputs": [
        {
          "output_type": "stream",
          "text": [
            "Predictions     0    1\n",
            "Actual                \n",
            "0            1986  445\n",
            "1             344   99\n"
          ],
          "name": "stdout"
        }
      ]
    },
    {
      "cell_type": "code",
      "metadata": {
        "id": "buHD-07FY3Ta",
        "colab_type": "code",
        "colab": {
          "base_uri": "https://localhost:8080/",
          "height": 301
        },
        "outputId": "04dc9546-3549-49dd-a481-a41f7e5e2d8a"
      },
      "source": [
        "confusion_matrix = pd.crosstab(y_test, predictions, rownames=['Actual'], colnames=['Prdictions'])\n",
        "sns.heatmap(confusion_matrix, annot=True, cmap=\"YlGnBu\")"
      ],
      "execution_count": 38,
      "outputs": [
        {
          "output_type": "execute_result",
          "data": {
            "text/plain": [
              "<matplotlib.axes._subplots.AxesSubplot at 0x7efc742d3550>"
            ]
          },
          "metadata": {
            "tags": []
          },
          "execution_count": 38
        },
        {
          "output_type": "display_data",
          "data": {
            "image/png": "[encoded data removed]",
            "text/plain": [
              "<Figure size 432x288 with 2 Axes>"
            ]
          },
          "metadata": {
            "tags": []
          }
        }
      ]
    },
    {
      "cell_type": "markdown",
      "metadata": {
        "id": "1dcry8WFbROC",
        "colab_type": "text"
      },
      "source": [
        "Berdasarkan confusion matrix, maka diperoleh bahwa model belum cukup baik dalam memprediksi TARGET =1 (nilai positif)> Hal ini dapat dilihat berdasarkan nilai True Positif yang rendah (99) dan nilai False Positif (445) yang tinggi."
      ]
    },
    {
      "cell_type": "markdown",
      "metadata": {
        "id": "C-sYw8Q6uDhZ",
        "colab_type": "text"
      },
      "source": [
        "## 20.Tampilkan ukuran kebaikan model, setidaknya nilai Akurasi, Sensitivity dan Specificity."
      ]
    },
    {
      "cell_type": "code",
      "metadata": {
        "id": "mjDfs-__ozrY",
        "colab_type": "code",
        "colab": {
          "base_uri": "https://localhost:8080/",
          "height": 68
        },
        "outputId": "a8036cc2-eea2-43f4-bf84-191ed267f1c6"
      },
      "source": [
        "from sklearn.metrics import confusion_matrix\n",
        "cov = confusion_matrix(predictions,y_test)\n",
        "total = sum(sum(cov))\n",
        "\n",
        "accuracy=(cov[0,0]+cov[1,1])/total\n",
        "print('Accuracy    : ', round(accuracy*100,2))\n",
        "\n",
        "specificity = cov[0,0]/(cov[0,0]+cov[0,1])\n",
        "print('Specificity : ', round(specificity*100,2))\n",
        "\n",
        "sensitivity = cov[1,1]/(cov[1,0]+cov[1,1])\n",
        "print('Sensitivity : ', round(sensitivity*100,2))"
      ],
      "execution_count": 37,
      "outputs": [
        {
          "output_type": "stream",
          "text": [
            "Accuracy    :  72.55\n",
            "Specificity :  85.24\n",
            "Sensitivity :  18.2\n"
          ],
          "name": "stdout"
        }
      ]
    },
    {
      "cell_type": "markdown",
      "metadata": {
        "id": "jCp7mHMGep_7",
        "colab_type": "text"
      },
      "source": [
        "Berdasarkan nilai akurasi maka dapat dilihat akurasi sudah cukup tinggi, namu nilai sensitifitas sangat rendah. Maka dapat dikatakan model belum cukup baik dalam memprediksi respon. Hal ini diduga disebabkan target memiliki kategori target yang *imbalance* dan perlu dilakukan analsis lebih lanjut."
      ]
    },
    {
      "cell_type": "code",
      "metadata": {
        "id": "gts_TIxbfP73",
        "colab_type": "code",
        "colab": {}
      },
      "source": [
        ""
      ],
      "execution_count": 0,
      "outputs": []
    }
  ]
}